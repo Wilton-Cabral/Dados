{
 "cells": [
  {
   "cell_type": "markdown",
   "metadata": {},
   "source": [
    "# Mapas das escolas do RS por taxa de distorção\n",
    "\n"
   ]
  },
  {
   "cell_type": "code",
   "execution_count": 3,
   "metadata": {},
   "outputs": [
    {
     "name": "stdout",
     "output_type": "stream",
     "text": [
      "Requirement already satisfied: folium in c:\\users\\wilton\\anaconda3\\lib\\site-packages (0.10.1)\n",
      "Requirement already satisfied: numpy in c:\\users\\wilton\\anaconda3\\lib\\site-packages (from folium) (1.16.5)\n",
      "Requirement already satisfied: jinja2>=2.9 in c:\\users\\wilton\\anaconda3\\lib\\site-packages (from folium) (2.10.3)\n",
      "Requirement already satisfied: requests in c:\\users\\wilton\\anaconda3\\lib\\site-packages (from folium) (2.22.0)\n",
      "Requirement already satisfied: branca>=0.3.0 in c:\\users\\wilton\\anaconda3\\lib\\site-packages (from folium) (0.3.1)\n",
      "Requirement already satisfied: MarkupSafe>=0.23 in c:\\users\\wilton\\anaconda3\\lib\\site-packages (from jinja2>=2.9->folium) (1.1.1)\n",
      "Requirement already satisfied: urllib3!=1.25.0,!=1.25.1,<1.26,>=1.21.1 in c:\\users\\wilton\\anaconda3\\lib\\site-packages (from requests->folium) (1.24.2)\n",
      "Requirement already satisfied: idna<2.9,>=2.5 in c:\\users\\wilton\\anaconda3\\lib\\site-packages (from requests->folium) (2.8)\n",
      "Requirement already satisfied: certifi>=2017.4.17 in c:\\users\\wilton\\anaconda3\\lib\\site-packages (from requests->folium) (2019.9.11)\n",
      "Requirement already satisfied: chardet<3.1.0,>=3.0.2 in c:\\users\\wilton\\anaconda3\\lib\\site-packages (from requests->folium) (3.0.4)\n",
      "Requirement already satisfied: six in c:\\users\\wilton\\anaconda3\\lib\\site-packages (from branca>=0.3.0->folium) (1.12.0)\n"
     ]
    }
   ],
   "source": [
    "# pip permite instalar novas bibliotecas\n",
    "# ! permite a execução de comandos diretamente no juptir notebook\n",
    "! pip install folium \n"
   ]
  },
  {
   "cell_type": "code",
   "execution_count": 4,
   "metadata": {},
   "outputs": [],
   "source": [
    "# importar bibliotecas\n",
    "import pandas as pd\n",
    "%matplotlib inline\n",
    "import folium\n"
   ]
  },
  {
   "cell_type": "code",
   "execution_count": 5,
   "metadata": {},
   "outputs": [
    {
     "data": {
      "text/html": [
       "<div>\n",
       "<style scoped>\n",
       "    .dataframe tbody tr th:only-of-type {\n",
       "        vertical-align: middle;\n",
       "    }\n",
       "\n",
       "    .dataframe tbody tr th {\n",
       "        vertical-align: top;\n",
       "    }\n",
       "\n",
       "    .dataframe thead th {\n",
       "        text-align: right;\n",
       "    }\n",
       "</style>\n",
       "<table border=\"1\" class=\"dataframe\">\n",
       "  <thead>\n",
       "    <tr style=\"text-align: right;\">\n",
       "      <th></th>\n",
       "      <th>Município</th>\n",
       "      <th>ibge</th>\n",
       "      <th>latitude</th>\n",
       "      <th>longitude</th>\n",
       "      <th>/Educação/Ens...de Série/Total 2013 (-)</th>\n",
       "    </tr>\n",
       "  </thead>\n",
       "  <tbody>\n",
       "    <tr>\n",
       "      <td>0</td>\n",
       "      <td>Aceguá</td>\n",
       "      <td>4300034</td>\n",
       "      <td>-31.86076</td>\n",
       "      <td>-54.16706</td>\n",
       "      <td>25,7</td>\n",
       "    </tr>\n",
       "    <tr>\n",
       "      <td>1</td>\n",
       "      <td>Água Santa</td>\n",
       "      <td>4300059</td>\n",
       "      <td>-28.16720</td>\n",
       "      <td>-52.03100</td>\n",
       "      <td>14,7</td>\n",
       "    </tr>\n",
       "    <tr>\n",
       "      <td>2</td>\n",
       "      <td>Agudo</td>\n",
       "      <td>4300109</td>\n",
       "      <td>-29.64470</td>\n",
       "      <td>-53.25150</td>\n",
       "      <td>26,4</td>\n",
       "    </tr>\n",
       "    <tr>\n",
       "      <td>3</td>\n",
       "      <td>Ajuricaba</td>\n",
       "      <td>4300208</td>\n",
       "      <td>-28.23420</td>\n",
       "      <td>-53.77570</td>\n",
       "      <td>24,1</td>\n",
       "    </tr>\n",
       "    <tr>\n",
       "      <td>4</td>\n",
       "      <td>Alecrim</td>\n",
       "      <td>4300307</td>\n",
       "      <td>-27.65790</td>\n",
       "      <td>-54.76490</td>\n",
       "      <td>18,9</td>\n",
       "    </tr>\n",
       "  </tbody>\n",
       "</table>\n",
       "</div>"
      ],
      "text/plain": [
       "    Município     ibge  latitude  longitude  \\\n",
       "0      Aceguá  4300034 -31.86076  -54.16706   \n",
       "1  Água Santa  4300059 -28.16720  -52.03100   \n",
       "2       Agudo  4300109 -29.64470  -53.25150   \n",
       "3   Ajuricaba  4300208 -28.23420  -53.77570   \n",
       "4     Alecrim  4300307 -27.65790  -54.76490   \n",
       "\n",
       "  /Educação/Ens...de Série/Total 2013 (-)  \n",
       "0                                    25,7  \n",
       "1                                    14,7  \n",
       "2                                    26,4  \n",
       "3                                    24,1  \n",
       "4                                    18,9  "
      ]
     },
     "execution_count": 5,
     "metadata": {},
     "output_type": "execute_result"
    }
   ],
   "source": [
    "#carregar o arquivo csv'\n",
    "df = pd.read_csv('distorçao_2013_RS.csv',encoding='latin1',skiprows=1)\n",
    "\n",
    "df.head()"
   ]
  },
  {
   "cell_type": "code",
   "execution_count": 8,
   "metadata": {},
   "outputs": [
    {
     "data": {
      "text/html": [
       "<div>\n",
       "<style scoped>\n",
       "    .dataframe tbody tr th:only-of-type {\n",
       "        vertical-align: middle;\n",
       "    }\n",
       "\n",
       "    .dataframe tbody tr th {\n",
       "        vertical-align: top;\n",
       "    }\n",
       "\n",
       "    .dataframe thead th {\n",
       "        text-align: right;\n",
       "    }\n",
       "</style>\n",
       "<table border=\"1\" class=\"dataframe\">\n",
       "  <thead>\n",
       "    <tr style=\"text-align: right;\">\n",
       "      <th></th>\n",
       "      <th>Município</th>\n",
       "      <th>ibge</th>\n",
       "      <th>latitude</th>\n",
       "      <th>longitude</th>\n",
       "      <th>tx_distorção</th>\n",
       "    </tr>\n",
       "  </thead>\n",
       "  <tbody>\n",
       "    <tr>\n",
       "      <td>0</td>\n",
       "      <td>Aceguá</td>\n",
       "      <td>4300034</td>\n",
       "      <td>-31.86076</td>\n",
       "      <td>-54.16706</td>\n",
       "      <td>25,7</td>\n",
       "    </tr>\n",
       "    <tr>\n",
       "      <td>1</td>\n",
       "      <td>Água Santa</td>\n",
       "      <td>4300059</td>\n",
       "      <td>-28.16720</td>\n",
       "      <td>-52.03100</td>\n",
       "      <td>14,7</td>\n",
       "    </tr>\n",
       "    <tr>\n",
       "      <td>2</td>\n",
       "      <td>Agudo</td>\n",
       "      <td>4300109</td>\n",
       "      <td>-29.64470</td>\n",
       "      <td>-53.25150</td>\n",
       "      <td>26,4</td>\n",
       "    </tr>\n",
       "    <tr>\n",
       "      <td>3</td>\n",
       "      <td>Ajuricaba</td>\n",
       "      <td>4300208</td>\n",
       "      <td>-28.23420</td>\n",
       "      <td>-53.77570</td>\n",
       "      <td>24,1</td>\n",
       "    </tr>\n",
       "    <tr>\n",
       "      <td>4</td>\n",
       "      <td>Alecrim</td>\n",
       "      <td>4300307</td>\n",
       "      <td>-27.65790</td>\n",
       "      <td>-54.76490</td>\n",
       "      <td>18,9</td>\n",
       "    </tr>\n",
       "  </tbody>\n",
       "</table>\n",
       "</div>"
      ],
      "text/plain": [
       "    Município     ibge  latitude  longitude tx_distorção\n",
       "0      Aceguá  4300034 -31.86076  -54.16706         25,7\n",
       "1  Água Santa  4300059 -28.16720  -52.03100         14,7\n",
       "2       Agudo  4300109 -29.64470  -53.25150         26,4\n",
       "3   Ajuricaba  4300208 -28.23420  -53.77570         24,1\n",
       "4     Alecrim  4300307 -27.65790  -54.76490         18,9"
      ]
     },
     "execution_count": 8,
     "metadata": {},
     "output_type": "execute_result"
    }
   ],
   "source": [
    "# renomeando colunas\n",
    "# NÃO FUNCIONA 2:12\n",
    "\n",
    "df.rename(columns={'/Educação/Ens...de Série/Total 2013 (-)':'tx_distorção'},inplace=True)\n",
    "\n",
    "df.head()\n"
   ]
  },
  {
   "cell_type": "code",
   "execution_count": 9,
   "metadata": {},
   "outputs": [
    {
     "name": "stdout",
     "output_type": "stream",
     "text": [
      "<class 'pandas.core.frame.DataFrame'>\n",
      "RangeIndex: 495 entries, 0 to 494\n",
      "Data columns (total 5 columns):\n",
      "Município       495 non-null object\n",
      "ibge            495 non-null int64\n",
      "latitude        495 non-null float64\n",
      "longitude       495 non-null float64\n",
      "tx_distorção    495 non-null object\n",
      "dtypes: float64(2), int64(1), object(2)\n",
      "memory usage: 15.5+ KB\n"
     ]
    }
   ],
   "source": [
    "#verificando do datafra\n",
    "df.info()\n"
   ]
  },
  {
   "cell_type": "code",
   "execution_count": 12,
   "metadata": {},
   "outputs": [
    {
     "data": {
      "text/html": [
       "<div>\n",
       "<style scoped>\n",
       "    .dataframe tbody tr th:only-of-type {\n",
       "        vertical-align: middle;\n",
       "    }\n",
       "\n",
       "    .dataframe tbody tr th {\n",
       "        vertical-align: top;\n",
       "    }\n",
       "\n",
       "    .dataframe thead th {\n",
       "        text-align: right;\n",
       "    }\n",
       "</style>\n",
       "<table border=\"1\" class=\"dataframe\">\n",
       "  <thead>\n",
       "    <tr style=\"text-align: right;\">\n",
       "      <th></th>\n",
       "      <th>Município</th>\n",
       "      <th>ibge</th>\n",
       "      <th>latitude</th>\n",
       "      <th>longitude</th>\n",
       "      <th>tx_distorção</th>\n",
       "    </tr>\n",
       "  </thead>\n",
       "  <tbody>\n",
       "    <tr>\n",
       "      <td>0</td>\n",
       "      <td>Aceguá</td>\n",
       "      <td>4300034</td>\n",
       "      <td>-31.86076</td>\n",
       "      <td>-54.16706</td>\n",
       "      <td>25.7</td>\n",
       "    </tr>\n",
       "    <tr>\n",
       "      <td>1</td>\n",
       "      <td>Água Santa</td>\n",
       "      <td>4300059</td>\n",
       "      <td>-28.16720</td>\n",
       "      <td>-52.03100</td>\n",
       "      <td>14.7</td>\n",
       "    </tr>\n",
       "    <tr>\n",
       "      <td>2</td>\n",
       "      <td>Agudo</td>\n",
       "      <td>4300109</td>\n",
       "      <td>-29.64470</td>\n",
       "      <td>-53.25150</td>\n",
       "      <td>26.4</td>\n",
       "    </tr>\n",
       "    <tr>\n",
       "      <td>3</td>\n",
       "      <td>Ajuricaba</td>\n",
       "      <td>4300208</td>\n",
       "      <td>-28.23420</td>\n",
       "      <td>-53.77570</td>\n",
       "      <td>24.1</td>\n",
       "    </tr>\n",
       "    <tr>\n",
       "      <td>4</td>\n",
       "      <td>Alecrim</td>\n",
       "      <td>4300307</td>\n",
       "      <td>-27.65790</td>\n",
       "      <td>-54.76490</td>\n",
       "      <td>18.9</td>\n",
       "    </tr>\n",
       "  </tbody>\n",
       "</table>\n",
       "</div>"
      ],
      "text/plain": [
       "    Município     ibge  latitude  longitude tx_distorção\n",
       "0      Aceguá  4300034 -31.86076  -54.16706         25.7\n",
       "1  Água Santa  4300059 -28.16720  -52.03100         14.7\n",
       "2       Agudo  4300109 -29.64470  -53.25150         26.4\n",
       "3   Ajuricaba  4300208 -28.23420  -53.77570         24.1\n",
       "4     Alecrim  4300307 -27.65790  -54.76490         18.9"
      ]
     },
     "execution_count": 12,
     "metadata": {},
     "output_type": "execute_result"
    }
   ],
   "source": [
    "# convertendo tx para float\n",
    "# trocar , por .\n",
    "df['tx_distorção']= df['tx_distorção'].str.replace(',','.')\n",
    "\n",
    "df.head()\n"
   ]
  },
  {
   "cell_type": "code",
   "execution_count": 50,
   "metadata": {},
   "outputs": [
    {
     "name": "stdout",
     "output_type": "stream",
     "text": [
      "<class 'pandas.core.frame.DataFrame'>\n",
      "RangeIndex: 495 entries, 0 to 494\n",
      "Data columns (total 5 columns):\n",
      "Município       495 non-null object\n",
      "ibge            495 non-null int64\n",
      "latitude        495 non-null float64\n",
      "longitude       495 non-null float64\n",
      "tx_distorção    495 non-null object\n",
      "dtypes: float64(2), int64(1), object(2)\n",
      "memory usage: 15.5+ KB\n"
     ]
    }
   ],
   "source": [
    "df.info()"
   ]
  },
  {
   "cell_type": "code",
   "execution_count": 13,
   "metadata": {},
   "outputs": [
    {
     "name": "stdout",
     "output_type": "stream",
     "text": [
      "<class 'pandas.core.frame.DataFrame'>\n",
      "RangeIndex: 495 entries, 0 to 494\n",
      "Data columns (total 5 columns):\n",
      "Município       495 non-null object\n",
      "ibge            495 non-null int64\n",
      "latitude        495 non-null float64\n",
      "longitude       495 non-null float64\n",
      "tx_distorção    495 non-null float64\n",
      "dtypes: float64(3), int64(1), object(1)\n",
      "memory usage: 17.5+ KB\n"
     ]
    }
   ],
   "source": [
    "# fazendo a conversão para float (2.18:44comando desnecesário)\n",
    "df['tx_distorção'] = df['tx_distorção'].astype(float)\n",
    "\n",
    "df.info()\n"
   ]
  },
  {
   "cell_type": "code",
   "execution_count": 52,
   "metadata": {},
   "outputs": [
    {
     "data": {
      "text/html": [
       "<div>\n",
       "<style scoped>\n",
       "    .dataframe tbody tr th:only-of-type {\n",
       "        vertical-align: middle;\n",
       "    }\n",
       "\n",
       "    .dataframe tbody tr th {\n",
       "        vertical-align: top;\n",
       "    }\n",
       "\n",
       "    .dataframe thead th {\n",
       "        text-align: right;\n",
       "    }\n",
       "</style>\n",
       "<table border=\"1\" class=\"dataframe\">\n",
       "  <thead>\n",
       "    <tr style=\"text-align: right;\">\n",
       "      <th></th>\n",
       "      <th>Município</th>\n",
       "      <th>ibge</th>\n",
       "      <th>latitude</th>\n",
       "      <th>longitude</th>\n",
       "      <th>tx_distorção</th>\n",
       "    </tr>\n",
       "  </thead>\n",
       "  <tbody>\n",
       "    <tr>\n",
       "      <td>490</td>\n",
       "      <td>Vista Alegre do Prata</td>\n",
       "      <td>4323606</td>\n",
       "      <td>-28.8052</td>\n",
       "      <td>-51.7946</td>\n",
       "      <td>2.6</td>\n",
       "    </tr>\n",
       "    <tr>\n",
       "      <td>375</td>\n",
       "      <td>Santo Antônio do Palma</td>\n",
       "      <td>4317558</td>\n",
       "      <td>-28.4956</td>\n",
       "      <td>-52.0267</td>\n",
       "      <td>4.3</td>\n",
       "    </tr>\n",
       "    <tr>\n",
       "      <td>28</td>\n",
       "      <td>Áurea</td>\n",
       "      <td>4301552</td>\n",
       "      <td>-27.6936</td>\n",
       "      <td>-52.0505</td>\n",
       "      <td>5.8</td>\n",
       "    </tr>\n",
       "    <tr>\n",
       "      <td>268</td>\n",
       "      <td>Nicolau Vergueiro</td>\n",
       "      <td>4312674</td>\n",
       "      <td>-28.5298</td>\n",
       "      <td>-52.4676</td>\n",
       "      <td>7.0</td>\n",
       "    </tr>\n",
       "    <tr>\n",
       "      <td>128</td>\n",
       "      <td>Derrubadas</td>\n",
       "      <td>4306320</td>\n",
       "      <td>-27.2642</td>\n",
       "      <td>-53.8645</td>\n",
       "      <td>7.4</td>\n",
       "    </tr>\n",
       "    <tr>\n",
       "      <td>119</td>\n",
       "      <td>Cotiporã</td>\n",
       "      <td>4305959</td>\n",
       "      <td>-28.9891</td>\n",
       "      <td>-51.6971</td>\n",
       "      <td>7.5</td>\n",
       "    </tr>\n",
       "    <tr>\n",
       "      <td>68</td>\n",
       "      <td>Campestre da Serra</td>\n",
       "      <td>4303673</td>\n",
       "      <td>-28.7926</td>\n",
       "      <td>-51.0941</td>\n",
       "      <td>7.6</td>\n",
       "    </tr>\n",
       "    <tr>\n",
       "      <td>476</td>\n",
       "      <td>Vanini</td>\n",
       "      <td>4322558</td>\n",
       "      <td>-28.4758</td>\n",
       "      <td>-51.8447</td>\n",
       "      <td>7.8</td>\n",
       "    </tr>\n",
       "    <tr>\n",
       "      <td>236</td>\n",
       "      <td>Linha Nova</td>\n",
       "      <td>4311643</td>\n",
       "      <td>-29.4679</td>\n",
       "      <td>-51.2003</td>\n",
       "      <td>8.0</td>\n",
       "    </tr>\n",
       "    <tr>\n",
       "      <td>392</td>\n",
       "      <td>São José do Inhacorá</td>\n",
       "      <td>4318499</td>\n",
       "      <td>-27.7251</td>\n",
       "      <td>-54.1275</td>\n",
       "      <td>8.0</td>\n",
       "    </tr>\n",
       "  </tbody>\n",
       "</table>\n",
       "</div>"
      ],
      "text/plain": [
       "                  Município     ibge  latitude  longitude  tx_distorção\n",
       "490   Vista Alegre do Prata  4323606  -28.8052   -51.7946           2.6\n",
       "375  Santo Antônio do Palma  4317558  -28.4956   -52.0267           4.3\n",
       "28                    Áurea  4301552  -27.6936   -52.0505           5.8\n",
       "268       Nicolau Vergueiro  4312674  -28.5298   -52.4676           7.0\n",
       "128              Derrubadas  4306320  -27.2642   -53.8645           7.4\n",
       "119                Cotiporã  4305959  -28.9891   -51.6971           7.5\n",
       "68       Campestre da Serra  4303673  -28.7926   -51.0941           7.6\n",
       "476                  Vanini  4322558  -28.4758   -51.8447           7.8\n",
       "236              Linha Nova  4311643  -29.4679   -51.2003           8.0\n",
       "392    São José do Inhacorá  4318499  -27.7251   -54.1275           8.0"
      ]
     },
     "execution_count": 52,
     "metadata": {},
     "output_type": "execute_result"
    }
   ],
   "source": [
    "# 10 municipios com menor taxa\n",
    "df.nsmallest(10,'tx_distorção')"
   ]
  },
  {
   "cell_type": "code",
   "execution_count": 14,
   "metadata": {},
   "outputs": [
    {
     "data": {
      "text/html": [
       "<div>\n",
       "<style scoped>\n",
       "    .dataframe tbody tr th:only-of-type {\n",
       "        vertical-align: middle;\n",
       "    }\n",
       "\n",
       "    .dataframe tbody tr th {\n",
       "        vertical-align: top;\n",
       "    }\n",
       "\n",
       "    .dataframe thead th {\n",
       "        text-align: right;\n",
       "    }\n",
       "</style>\n",
       "<table border=\"1\" class=\"dataframe\">\n",
       "  <thead>\n",
       "    <tr style=\"text-align: right;\">\n",
       "      <th></th>\n",
       "      <th>Município</th>\n",
       "      <th>ibge</th>\n",
       "      <th>latitude</th>\n",
       "      <th>longitude</th>\n",
       "      <th>tx_distorção</th>\n",
       "    </tr>\n",
       "  </thead>\n",
       "  <tbody>\n",
       "    <tr>\n",
       "      <td>307</td>\n",
       "      <td>Pedras Altas</td>\n",
       "      <td>4314175</td>\n",
       "      <td>-31.7217</td>\n",
       "      <td>-53.5838</td>\n",
       "      <td>56.0</td>\n",
       "    </tr>\n",
       "    <tr>\n",
       "      <td>316</td>\n",
       "      <td>Pinheiro Machado</td>\n",
       "      <td>4314506</td>\n",
       "      <td>-31.5794</td>\n",
       "      <td>-53.3798</td>\n",
       "      <td>53.9</td>\n",
       "    </tr>\n",
       "    <tr>\n",
       "      <td>17</td>\n",
       "      <td>Arambaré</td>\n",
       "      <td>4300851</td>\n",
       "      <td>-30.9093</td>\n",
       "      <td>-51.5046</td>\n",
       "      <td>52.8</td>\n",
       "    </tr>\n",
       "    <tr>\n",
       "      <td>140</td>\n",
       "      <td>Eldorado do Sul</td>\n",
       "      <td>4306767</td>\n",
       "      <td>-30.0847</td>\n",
       "      <td>-51.6187</td>\n",
       "      <td>51.9</td>\n",
       "    </tr>\n",
       "    <tr>\n",
       "      <td>35</td>\n",
       "      <td>Barra do Quaraí</td>\n",
       "      <td>4301875</td>\n",
       "      <td>-30.2029</td>\n",
       "      <td>-57.5497</td>\n",
       "      <td>51.5</td>\n",
       "    </tr>\n",
       "    <tr>\n",
       "      <td>393</td>\n",
       "      <td>São José do Norte</td>\n",
       "      <td>4318507</td>\n",
       "      <td>-32.0151</td>\n",
       "      <td>-52.0331</td>\n",
       "      <td>49.4</td>\n",
       "    </tr>\n",
       "    <tr>\n",
       "      <td>413</td>\n",
       "      <td>São Valério do Sul</td>\n",
       "      <td>4319737</td>\n",
       "      <td>-27.7906</td>\n",
       "      <td>-53.9368</td>\n",
       "      <td>49.2</td>\n",
       "    </tr>\n",
       "    <tr>\n",
       "      <td>193</td>\n",
       "      <td>Hulha Negra</td>\n",
       "      <td>4309654</td>\n",
       "      <td>-31.4067</td>\n",
       "      <td>-53.8667</td>\n",
       "      <td>49.0</td>\n",
       "    </tr>\n",
       "    <tr>\n",
       "      <td>106</td>\n",
       "      <td>Chuí</td>\n",
       "      <td>4305439</td>\n",
       "      <td>-33.6866</td>\n",
       "      <td>-53.4594</td>\n",
       "      <td>48.6</td>\n",
       "    </tr>\n",
       "    <tr>\n",
       "      <td>233</td>\n",
       "      <td>Lavras do Sul</td>\n",
       "      <td>4311502</td>\n",
       "      <td>-30.8071</td>\n",
       "      <td>-53.8931</td>\n",
       "      <td>47.7</td>\n",
       "    </tr>\n",
       "  </tbody>\n",
       "</table>\n",
       "</div>"
      ],
      "text/plain": [
       "              Município     ibge  latitude  longitude  tx_distorção\n",
       "307        Pedras Altas  4314175  -31.7217   -53.5838          56.0\n",
       "316    Pinheiro Machado  4314506  -31.5794   -53.3798          53.9\n",
       "17             Arambaré  4300851  -30.9093   -51.5046          52.8\n",
       "140     Eldorado do Sul  4306767  -30.0847   -51.6187          51.9\n",
       "35      Barra do Quaraí  4301875  -30.2029   -57.5497          51.5\n",
       "393   São José do Norte  4318507  -32.0151   -52.0331          49.4\n",
       "413  São Valério do Sul  4319737  -27.7906   -53.9368          49.2\n",
       "193         Hulha Negra  4309654  -31.4067   -53.8667          49.0\n",
       "106                Chuí  4305439  -33.6866   -53.4594          48.6\n",
       "233       Lavras do Sul  4311502  -30.8071   -53.8931          47.7"
      ]
     },
     "execution_count": 14,
     "metadata": {},
     "output_type": "execute_result"
    }
   ],
   "source": [
    "# 10 municipios com maior taxa\n",
    "df.nlargest(10,'tx_distorção')"
   ]
  },
  {
   "cell_type": "code",
   "execution_count": 15,
   "metadata": {},
   "outputs": [
    {
     "data": {
      "text/plain": [
       "<matplotlib.axes._subplots.AxesSubplot at 0xca8ac90>"
      ]
     },
     "execution_count": 15,
     "metadata": {},
     "output_type": "execute_result"
    },
    {
     "data": {
      "image/png": "[encoded data removed]",
      "text/plain": [
       "<Figure size 432x288 with 1 Axes>"
      ]
     },
     "metadata": {
      "needs_background": "light"
     },
     "output_type": "display_data"
    }
   ],
   "source": [
    "# plotando histograma da tx\n",
    "df['tx_distorção'].plot.hist(bins=100)"
   ]
  },
  {
   "cell_type": "code",
   "execution_count": 16,
   "metadata": {},
   "outputs": [
    {
     "data": {
      "text/plain": [
       "Município       17\n",
       "ibge            17\n",
       "latitude        17\n",
       "longitude       17\n",
       "tx_distorção    17\n",
       "dtype: int64"
      ]
     },
     "execution_count": 16,
     "metadata": {},
     "output_type": "execute_result"
    }
   ],
   "source": [
    "# MUNICIPIOS COM TX MENOR IGUAL A 10\n",
    "df[df['tx_distorção']<=10].count()\n"
   ]
  },
  {
   "cell_type": "code",
   "execution_count": 17,
   "metadata": {},
   "outputs": [
    {
     "data": {
      "text/plain": [
       "Município       17\n",
       "ibge            17\n",
       "latitude        17\n",
       "longitude       17\n",
       "tx_distorção    17\n",
       "dtype: int64"
      ]
     },
     "execution_count": 17,
     "metadata": {},
     "output_type": "execute_result"
    }
   ],
   "source": [
    "# MUNICIPIOS COM TX MAIOR IGUAL A 45\n",
    "df[df['tx_distorção']>=45].count()\n"
   ]
  },
  {
   "cell_type": "code",
   "execution_count": 48,
   "metadata": {},
   "outputs": [
    {
     "data": {
      "text/html": [
       "<div style=\"width:100%;\"><div style=\"position:relative;width:100%;height:0;padding-bottom:60%;\"><iframe src=\"data:text/html;charset=utf-8;base64,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\" style=\"position:absolute;width:100%;height:100%;left:0;top:0;border:none !important;\" allowfullscreen webkitallowfullscreen mozallowfullscreen></iframe></div></div>"
      ],
      "text/plain": [
       "<folium.folium.Map at 0xf249350>"
      ]
     },
     "execution_count": 48,
     "metadata": {},
     "output_type": "execute_result"
    }
   ],
   "source": [
    "# Aprendendo como funciona o folium\n",
    "\n"
   ]
  },
  {
   "cell_type": "code",
   "execution_count": 21,
   "metadata": {},
   "outputs": [
    {
     "data": {
      "text/html": [
       "<div style=\"width:100%;\"><div style=\"position:relative;width:100%;height:0;padding-bottom:60%;\"><iframe src=\"data:text/html;charset=utf-8;base64,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\" style=\"position:absolute;width:100%;height:100%;left:0;top:0;border:none !important;\" allowfullscreen webkitallowfullscreen mozallowfullscreen></iframe></div></div>"
      ],
      "text/plain": [
       "<folium.folium.Map at 0x1283870>"
      ]
     },
     "execution_count": 21,
     "metadata": {},
     "output_type": "execute_result"
    }
   ],
   "source": [
    "rs = folium.Map(\n",
    "    location=[-30.5,-52],\n",
    "    zoom_start=6)\n",
    "\n",
    "rs\n"
   ]
  },
  {
   "cell_type": "code",
   "execution_count": 26,
   "metadata": {},
   "outputs": [
    {
     "data": {
      "text/html": [
       "<div style=\"width:100%;\"><div style=\"position:relative;width:100%;height:0;padding-bottom:60%;\"><iframe src=\"data:text/html;charset=utf-8;base64,PCFET0NUWVBFIGh0bWw+CjxoZWFkPiAgICAKICAgIDxtZXRhIGh0dHAtZXF1aXY9ImNvbnRlbnQtdHlwZSIgY29udGVudD0idGV4dC9odG1sOyBjaGFyc2V0PVVURi04IiAvPgogICAgCiAgICAgICAgPHNjcmlwdD4KICAgICAgICAgICAgTF9OT19UT1VDSCA9IGZhbHNlOwogICAgICAgICAgICBMX0RJU0FCTEVfM0QgPSBmYWxzZTsKICAgICAgICA8L3NjcmlwdD4KICAgIAogICAgPHNjcmlwdCBzcmM9Imh0dHBzOi8vY2RuLmpzZGVsaXZyLm5ldC9ucG0vbGVhZmxldEAxLjUuMS9kaXN0L2xlYWZsZXQuanMiPjwvc2NyaXB0PgogICAgPHNjcmlwdCBzcmM9Imh0dHBzOi8vY29kZS5qcXVlcnkuY29tL2pxdWVyeS0xLjEyLjQubWluLmpzIj48L3NjcmlwdD4KICAgIDxzY3JpcHQgc3JjPSJodHRwczovL21heGNkbi5ib290c3RyYXBjZG4uY29tL2Jvb3RzdHJhcC8zLjIuMC9qcy9ib290c3RyYXAubWluLmpzIj48L3NjcmlwdD4KICAgIDxzY3JpcHQgc3JjPSJodHRwczovL2NkbmpzLmNsb3VkZmxhcmUuY29tL2FqYXgvbGlicy9MZWFmbGV0LmF3ZXNvbWUtbWFya2Vycy8yLjAuMi9sZWFmbGV0LmF3ZXNvbWUtbWFya2Vycy5qcyI+PC9zY3JpcHQ+CiAgICA8bGluayByZWw9InN0eWxlc2hlZXQiIGhyZWY9Imh0dHBzOi8vY2RuLmpzZGVsaXZyLm5ldC9ucG0vbGVhZmxldEAxLjUuMS9kaXN0L2xlYWZsZXQuY3NzIi8+CiAgICA8bGluayByZWw9InN0eWxlc2hlZXQiIGhyZWY9Imh0dHBzOi8vbWF4Y2RuLmJvb3RzdHJhcGNkbi5jb20vYm9vdHN0cmFwLzMuMi4wL2Nzcy9ib290c3RyYXAubWluLmNzcyIvPgogICAgPGxpbmsgcmVsPSJzdHlsZXNoZWV0IiBocmVmPSJodHRwczovL21heGNkbi5ib290c3RyYXBjZG4uY29tL2Jvb3RzdHJhcC8zLjIuMC9jc3MvYm9vdHN0cmFwLXRoZW1lLm1pbi5jc3MiLz4KICAgIDxsaW5rIHJlbD0ic3R5bGVzaGVldCIgaHJlZj0iaHR0cHM6Ly9tYXhjZG4uYm9vdHN0cmFwY2RuLmNvbS9mb250LWF3ZXNvbWUvNC42LjMvY3NzL2ZvbnQtYXdlc29tZS5taW4uY3NzIi8+CiAgICA8bGluayByZWw9InN0eWxlc2hlZXQiIGhyZWY9Imh0dHBzOi8vY2RuanMuY2xvdWRmbGFyZS5jb20vYWpheC9saWJzL0xlYWZsZXQuYXdlc29tZS1tYXJrZXJzLzIuMC4yL2xlYWZsZXQuYXdlc29tZS1tYXJrZXJzLmNzcyIvPgogICAgPGxpbmsgcmVsPSJzdHlsZXNoZWV0IiBocmVmPSJodHRwczovL3Jhd2Nkbi5naXRoYWNrLmNvbS9weXRob24tdmlzdWFsaXphdGlvbi9mb2xpdW0vbWFzdGVyL2ZvbGl1bS90ZW1wbGF0ZXMvbGVhZmxldC5hd2Vzb21lLnJvdGF0ZS5jc3MiLz4KICAgIDxzdHlsZT5odG1sLCBib2R5IHt3aWR0aDogMTAwJTtoZWlnaHQ6IDEwMCU7bWFyZ2luOiAwO3BhZGRpbmc6IDA7fTwvc3R5bGU+CiAgICA8c3R5bGU+I21hcCB7cG9zaXRpb246YWJzb2x1dGU7dG9wOjA7Ym90dG9tOjA7cmlnaHQ6MDtsZWZ0OjA7fTwvc3R5bGU+CiAgICAKICAgICAgICAgICAgPG1ldGEgbmFtZT0idmlld3BvcnQiIGNvbnRlbnQ9IndpZHRoPWRldmljZS13aWR0aCwKICAgICAgICAgICAgICAgIGluaXRpYWwtc2NhbGU9MS4wLCBtYXhpbXVtLXNjYWxlPTEuMCwgdXNlci1zY2FsYWJsZT1ubyIgLz4KICAgICAgICAgICAgPHN0eWxlPgogICAgICAgICAgICAgICAgI21hcF9kYzRlOGRiYTk1ZTQ0YjliYTViMDY3ZTdkMDQ1Y2RjYSB7CiAgICAgICAgICAgICAgICAgICAgcG9zaXRpb246IHJlbGF0aXZlOwogICAgICAgICAgICAgICAgICAgIHdpZHRoOiAxMDAuMCU7CiAgICAgICAgICAgICAgICAgICAgaGVpZ2h0OiAxMDAuMCU7CiAgICAgICAgICAgICAgICAgICAgbGVmdDogMC4wJTsKICAgICAgICAgICAgICAgICAgICB0b3A6IDAuMCU7CiAgICAgICAgICAgICAgICB9CiAgICAgICAgICAgIDwvc3R5bGU+CiAgICAgICAgCjwvaGVhZD4KPGJvZHk+ICAgIAogICAgCiAgICAgICAgICAgIDxkaXYgY2xhc3M9ImZvbGl1bS1tYXAiIGlkPSJtYXBfZGM0ZThkYmE5NWU0NGI5YmE1YjA2N2U3ZDA0NWNkY2EiID48L2Rpdj4KICAgICAgICAKPC9ib2R5Pgo8c2NyaXB0PiAgICAKICAgIAogICAgICAgICAgICB2YXIgbWFwX2RjNGU4ZGJhOTVlNDRiOWJhNWIwNjdlN2QwNDVjZGNhID0gTC5tYXAoCiAgICAgICAgICAgICAgICAibWFwX2RjNGU4ZGJhOTVlNDRiOWJhNWIwNjdlN2QwNDVjZGNhIiwKICAgICAgICAgICAgICAgIHsKICAgICAgICAgICAgICAgICAgICBjZW50ZXI6IFstMzAuNSwgLTUyLjBdLAogICAgICAgICAgICAgICAgICAgIGNyczogTC5DUlMuRVBTRzM4NTcsCiAgICAgICAgICAgICAgICAgICAgem9vbTogNiwKICAgICAgICAgICAgICAgICAgICB6b29tQ29udHJvbDogdHJ1ZSwKICAgICAgICAgICAgICAgICAgICBwcmVmZXJDYW52YXM6IGZhbHNlLAogICAgICAgICAgICAgICAgfQogICAgICAgICAgICApOwoKICAgICAgICAgICAgCgogICAgICAgIAogICAgCiAgICAgICAgICAgIHZhciB0aWxlX2xheWVyX2NlOGZjZTA5ZjAwMjQ1ZmJiM2I0YjIzOGJjMmViYjhjID0gTC50aWxlTGF5ZXIoCiAgICAgICAgICAgICAgICAiaHR0cHM6Ly97c30udGlsZS5vcGVuc3RyZWV0bWFwLm9yZy97en0ve3h9L3t5fS5wbmciLAogICAgICAgICAgICAgICAgeyJhdHRyaWJ1dGlvbiI6ICJEYXRhIGJ5IFx1MDAyNmNvcHk7IFx1MDAzY2EgaHJlZj1cImh0dHA6Ly9vcGVuc3RyZWV0bWFwLm9yZ1wiXHUwMDNlT3BlblN0cmVldE1hcFx1MDAzYy9hXHUwMDNlLCB1bmRlciBcdTAwM2NhIGhyZWY9XCJodHRwOi8vd3d3Lm9wZW5zdHJlZXRtYXAub3JnL2NvcHlyaWdodFwiXHUwMDNlT0RiTFx1MDAzYy9hXHUwMDNlLiIsICJkZXRlY3RSZXRpbmEiOiBmYWxzZSwgIm1heE5hdGl2ZVpvb20iOiAxOCwgIm1heFpvb20iOiAxOCwgIm1pblpvb20iOiAwLCAibm9XcmFwIjogZmFsc2UsICJvcGFjaXR5IjogMSwgInN1YmRvbWFpbnMiOiAiYWJjIiwgInRtcyI6IGZhbHNlfQogICAgICAgICAgICApLmFkZFRvKG1hcF9kYzRlOGRiYTk1ZTQ0YjliYTViMDY3ZTdkMDQ1Y2RjYSk7CiAgICAgICAgCiAgICAKICAgICAgICAgICAgdmFyIG1hcmtlcl80MzI4MzlhZGU0N2Y0YjUyYTU3MzdlMGUxYzdkODNhZCA9IEwubWFya2VyKAogICAgICAgICAgICAgICAgWy0yNy42OTM2LCAtNTIuMDUwNV0sCiAgICAgICAgICAgICAgICB7fQogICAgICAgICAgICApLmFkZFRvKG1hcF9kYzRlOGRiYTk1ZTQ0YjliYTViMDY3ZTdkMDQ1Y2RjYSk7CiAgICAgICAgCiAgICAKICAgICAgICAgICAgdmFyIGljb25fY2M2ZGE2ZThkZDA2NDdjMGIxM2ExOWYwODcxM2Q3N2MgPSBMLkF3ZXNvbWVNYXJrZXJzLmljb24oCiAgICAgICAgICAgICAgICB7ImV4dHJhQ2xhc3NlcyI6ICJmYS1yb3RhdGUtMCIsICJpY29uIjogImluZm8tc2lnbiIsICJpY29uQ29sb3IiOiAid2hpdGUiLCAibWFya2VyQ29sb3IiOiAiZ3JlZW4iLCAicHJlZml4IjogImdseXBoaWNvbiJ9CiAgICAgICAgICAgICk7CiAgICAgICAgICAgIG1hcmtlcl80MzI4MzlhZGU0N2Y0YjUyYTU3MzdlMGUxYzdkODNhZC5zZXRJY29uKGljb25fY2M2ZGE2ZThkZDA2NDdjMGIxM2ExOWYwODcxM2Q3N2MpOwogICAgICAgIAogICAgCiAgICAgICAgdmFyIHBvcHVwX2E0YmEzZDFjYzU0MjQxN2RiYzE1ZGVmZTg5MmNmOWEyID0gTC5wb3B1cCh7Im1heFdpZHRoIjogIjEwMCUifSk7CgogICAgICAgIAogICAgICAgICAgICB2YXIgaHRtbF8xZmY3MjBhMTdlNTY0YmViYWQ1ZGE5MmYxODkyYWVhNSA9ICQoYDxkaXYgaWQ9Imh0bWxfMWZmNzIwYTE3ZTU2NGJlYmFkNWRhOTJmMTg5MmFlYTUiIHN0eWxlPSJ3aWR0aDogMTAwLjAlOyBoZWlnaHQ6IDEwMC4wJTsiPsOBdXJlYTwvZGl2PmApWzBdOwogICAgICAgICAgICBwb3B1cF9hNGJhM2QxY2M1NDI0MTdkYmMxNWRlZmU4OTJjZjlhMi5zZXRDb250ZW50KGh0bWxfMWZmNzIwYTE3ZTU2NGJlYmFkNWRhOTJmMTg5MmFlYTUpOwogICAgICAgIAoKICAgICAgICBtYXJrZXJfNDMyODM5YWRlNDdmNGI1MmE1NzM3ZTBlMWM3ZDgzYWQuYmluZFBvcHVwKHBvcHVwX2E0YmEzZDFjYzU0MjQxN2RiYzE1ZGVmZTg5MmNmOWEyKQogICAgICAgIDsKCiAgICAgICAgCiAgICAKICAgIAogICAgICAgICAgICB2YXIgbWFya2VyX2ExY2NlYzVlMDE0ZDRkODZiNTI3YmM2M2VhNTVmYjliID0gTC5tYXJrZXIoCiAgICAgICAgICAgICAgICBbLTI5LjM1NDM5OTk5OTk5LCAtNTEuNjY4N10sCiAgICAgICAgICAgICAgICB7fQogICAgICAgICAgICApLmFkZFRvKG1hcF9kYzRlOGRiYTk1ZTQ0YjliYTViMDY3ZTdkMDQ1Y2RjYSk7CiAgICAgICAgCiAgICAKICAgICAgICAgICAgdmFyIGljb25fYjdlNjc4YjIwZmFjNDY0OGFiMzFmYmM5NTc3NDAzZjcgPSBMLkF3ZXNvbWVNYXJrZXJzLmljb24oCiAgICAgICAgICAgICAgICB7ImV4dHJhQ2xhc3NlcyI6ICJmYS1yb3RhdGUtMCIsICJpY29uIjogImluZm8tc2lnbiIsICJpY29uQ29sb3IiOiAid2hpdGUiLCAibWFya2VyQ29sb3IiOiAiZ3JlZW4iLCAicHJlZml4IjogImdseXBoaWNvbiJ9CiAgICAgICAgICAgICk7CiAgICAgICAgICAgIG1hcmtlcl9hMWNjZWM1ZTAxNGQ0ZDg2YjUyN2JjNjNlYTU1ZmI5Yi5zZXRJY29uKGljb25fYjdlNjc4YjIwZmFjNDY0OGFiMzFmYmM5NTc3NDAzZjcpOwogICAgICAgIAogICAgCiAgICAgICAgdmFyIHBvcHVwXzMwYjNmYWU2ZTEzMjRiNGNhZmUzNDA3MTY4ZDUzZDQ0ID0gTC5wb3B1cCh7Im1heFdpZHRoIjogIjEwMCUifSk7CgogICAgICAgIAogICAgICAgICAgICB2YXIgaHRtbF9lMGNiODg5NWRkY2I0N2VjOGRiMGY3Y2JjMmI0MTFmYyA9ICQoYDxkaXYgaWQ9Imh0bWxfZTBjYjg4OTVkZGNiNDdlYzhkYjBmN2NiYzJiNDExZmMiIHN0eWxlPSJ3aWR0aDogMTAwLjAlOyBoZWlnaHQ6IDEwMC4wJTsiPkJvYSBWaXN0YSBkbyBTdWw8L2Rpdj5gKVswXTsKICAgICAgICAgICAgcG9wdXBfMzBiM2ZhZTZlMTMyNGI0Y2FmZTM0MDcxNjhkNTNkNDQuc2V0Q29udGVudChodG1sX2UwY2I4ODk1ZGRjYjQ3ZWM4ZGIwZjdjYmMyYjQxMWZjKTsKICAgICAgICAKCiAgICAgICAgbWFya2VyX2ExY2NlYzVlMDE0ZDRkODZiNTI3YmM2M2VhNTVmYjliLmJpbmRQb3B1cChwb3B1cF8zMGIzZmFlNmUxMzI0YjRjYWZlMzQwNzE2OGQ1M2Q0NCkKICAgICAgICA7CgogICAgICAgIAogICAgCiAgICAKICAgICAgICAgICAgdmFyIG1hcmtlcl9kMTM3ZTM3YTQxOGQ0OTg4OTdkMmUyYjA2YTc4MDI4MSA9IEwubWFya2VyKAogICAgICAgICAgICAgICAgWy0yOC43OTI2LCAtNTEuMDk0MDk5OTk5OTg5OTldLAogICAgICAgICAgICAgICAge30KICAgICAgICAgICAgKS5hZGRUbyhtYXBfZGM0ZThkYmE5NWU0NGI5YmE1YjA2N2U3ZDA0NWNkY2EpOwogICAgICAgIAogICAgCiAgICAgICAgICAgIHZhciBpY29uX2U2M2Y0ODM3YmFhNDRlMGQ4ZTYzNDU2NTc3YjhmNDYyID0gTC5Bd2Vzb21lTWFya2Vycy5pY29uKAogICAgICAgICAgICAgICAgeyJleHRyYUNsYXNzZXMiOiAiZmEtcm90YXRlLTAiLCAiaWNvbiI6ICJpbmZvLXNpZ24iLCAiaWNvbkNvbG9yIjogIndoaXRlIiwgIm1hcmtlckNvbG9yIjogImdyZWVuIiwgInByZWZpeCI6ICJnbHlwaGljb24ifQogICAgICAgICAgICApOwogICAgICAgICAgICBtYXJrZXJfZDEzN2UzN2E0MThkNDk4ODk3ZDJlMmIwNmE3ODAyODEuc2V0SWNvbihpY29uX2U2M2Y0ODM3YmFhNDRlMGQ4ZTYzNDU2NTc3YjhmNDYyKTsKICAgICAgICAKICAgIAogICAgICAgIHZhciBwb3B1cF9kMjA4YWEyOGZmYTU0OWNhODQwYWU5OGVjMmYwN2JlNyA9IEwucG9wdXAoeyJtYXhXaWR0aCI6ICIxMDAlIn0pOwoKICAgICAgICAKICAgICAgICAgICAgdmFyIGh0bWxfYTQxNDRhOTUxNjBiNDg5YmFkMjRjNGE0YTY2ODVlZTggPSAkKGA8ZGl2IGlkPSJodG1sX2E0MTQ0YTk1MTYwYjQ4OWJhZDI0YzRhNGE2Njg1ZWU4IiBzdHlsZT0id2lkdGg6IDEwMC4wJTsgaGVpZ2h0OiAxMDAuMCU7Ij5DYW1wZXN0cmUgZGEgU2VycmE8L2Rpdj5gKVswXTsKICAgICAgICAgICAgcG9wdXBfZDIwOGFhMjhmZmE1NDljYTg0MGFlOThlYzJmMDdiZTcuc2V0Q29udGVudChodG1sX2E0MTQ0YTk1MTYwYjQ4OWJhZDI0YzRhNGE2Njg1ZWU4KTsKICAgICAgICAKCiAgICAgICAgbWFya2VyX2QxMzdlMzdhNDE4ZDQ5ODg5N2QyZTJiMDZhNzgwMjgxLmJpbmRQb3B1cChwb3B1cF9kMjA4YWEyOGZmYTU0OWNhODQwYWU5OGVjMmYwN2JlNykKICAgICAgICA7CgogICAgICAgIAogICAgCiAgICAKICAgICAgICAgICAgdmFyIG1hcmtlcl9jZTI0ZDQ1MjMyZGE0MGI0ODFkZGVhNzViZTlkMWUxMSA9IEwubWFya2VyKAogICAgICAgICAgICAgICAgWy0yNy45ODg4LCAtNTQuODQxN10sCiAgICAgICAgICAgICAgICB7fQogICAgICAgICAgICApLmFkZFRvKG1hcF9kYzRlOGRiYTk1ZTQ0YjliYTViMDY3ZTdkMDQ1Y2RjYSk7CiAgICAgICAgCiAgICAKICAgICAgICAgICAgdmFyIGljb25fNWMzNTBkNGE2NjQyNGNjMzg2ZjkwMDg1N2NlNDY3YzEgPSBMLkF3ZXNvbWVNYXJrZXJzLmljb24oCiAgICAgICAgICAgICAgICB7ImV4dHJhQ2xhc3NlcyI6ICJmYS1yb3RhdGUtMCIsICJpY29uIjogImluZm8tc2lnbiIsICJpY29uQ29sb3IiOiAid2hpdGUiLCAibWFya2VyQ29sb3IiOiAiZ3JlZW4iLCAicHJlZml4IjogImdseXBoaWNvbiJ9CiAgICAgICAgICAgICk7CiAgICAgICAgICAgIG1hcmtlcl9jZTI0ZDQ1MjMyZGE0MGI0ODFkZGVhNzViZTlkMWUxMS5zZXRJY29uKGljb25fNWMzNTBkNGE2NjQyNGNjMzg2ZjkwMDg1N2NlNDY3YzEpOwogICAgICAgIAogICAgCiAgICAgICAgdmFyIHBvcHVwXzc5MTJhMjZmZGM5MDRiNmM4Y2U3MWNhOTk3YzNmMzk5ID0gTC5wb3B1cCh7Im1heFdpZHRoIjogIjEwMCUifSk7CgogICAgICAgIAogICAgICAgICAgICB2YXIgaHRtbF80NGVjZTkzYjA2OGI0MzRkOGU2NjUxMDU2YmQ5MDI3NiA9ICQoYDxkaXYgaWQ9Imh0bWxfNDRlY2U5M2IwNjhiNDM0ZDhlNjY1MTA1NmJkOTAyNzYiIHN0eWxlPSJ3aWR0aDogMTAwLjAlOyBoZWlnaHQ6IDEwMC4wJTsiPkNhbXBpbmEgZGFzIE1pc3PDtWVzPC9kaXY+YClbMF07CiAgICAgICAgICAgIHBvcHVwXzc5MTJhMjZmZGM5MDRiNmM4Y2U3MWNhOTk3YzNmMzk5LnNldENvbnRlbnQoaHRtbF80NGVjZTkzYjA2OGI0MzRkOGU2NjUxMDU2YmQ5MDI3Nik7CiAgICAgICAgCgogICAgICAgIG1hcmtlcl9jZTI0ZDQ1MjMyZGE0MGI0ODFkZGVhNzViZTlkMWUxMS5iaW5kUG9wdXAocG9wdXBfNzkxMmEyNmZkYzkwNGI2YzhjZTcxY2E5OTdjM2YzOTkpCiAgICAgICAgOwoKICAgICAgICAKICAgIAogICAgCiAgICAgICAgICAgIHZhciBtYXJrZXJfMTM4MzdkNDkxOTgxNGZjNDhlMDM4NDM5M2IzODAyYTAgPSBMLm1hcmtlcigKICAgICAgICAgICAgICAgIFstMjguOTg5MSwgLTUxLjY5NzA5OTk5OTk4OTk5NV0sCiAgICAgICAgICAgICAgICB7fQogICAgICAgICAgICApLmFkZFRvKG1hcF9kYzRlOGRiYTk1ZTQ0YjliYTViMDY3ZTdkMDQ1Y2RjYSk7CiAgICAgICAgCiAgICAKICAgICAgICAgICAgdmFyIGljb25fZTllMGNkMmU3YjYzNDI1MGE1ZTY1ZjAzOTk4MzdiM2EgPSBMLkF3ZXNvbWVNYXJrZXJzLmljb24oCiAgICAgICAgICAgICAgICB7ImV4dHJhQ2xhc3NlcyI6ICJmYS1yb3RhdGUtMCIsICJpY29uIjogImluZm8tc2lnbiIsICJpY29uQ29sb3IiOiAid2hpdGUiLCAibWFya2VyQ29sb3IiOiAiZ3JlZW4iLCAicHJlZml4IjogImdseXBoaWNvbiJ9CiAgICAgICAgICAgICk7CiAgICAgICAgICAgIG1hcmtlcl8xMzgzN2Q0OTE5ODE0ZmM0OGUwMzg0MzkzYjM4MDJhMC5zZXRJY29uKGljb25fZTllMGNkMmU3YjYzNDI1MGE1ZTY1ZjAzOTk4MzdiM2EpOwogICAgICAgIAogICAgCiAgICAgICAgdmFyIHBvcHVwXzk4MmJlN2I4YWRmNDQ5MzI5OTY5MWI2OTFjYjg3YTQ1ID0gTC5wb3B1cCh7Im1heFdpZHRoIjogIjEwMCUifSk7CgogICAgICAgIAogICAgICAgICAgICB2YXIgaHRtbF8yYzhmMjYxMWI0ODY0NWMzYWU2ZWVkNDZmMjg5YzkwNiA9ICQoYDxkaXYgaWQ9Imh0bWxfMmM4ZjI2MTFiNDg2NDVjM2FlNmVlZDQ2ZjI4OWM5MDYiIHN0eWxlPSJ3aWR0aDogMTAwLjAlOyBoZWlnaHQ6IDEwMC4wJTsiPkNvdGlwb3LDozwvZGl2PmApWzBdOwogICAgICAgICAgICBwb3B1cF85ODJiZTdiOGFkZjQ0OTMyOTk2OTFiNjkxY2I4N2E0NS5zZXRDb250ZW50KGh0bWxfMmM4ZjI2MTFiNDg2NDVjM2FlNmVlZDQ2ZjI4OWM5MDYpOwogICAgICAgIAoKICAgICAgICBtYXJrZXJfMTM4MzdkNDkxOTgxNGZjNDhlMDM4NDM5M2IzODAyYTAuYmluZFBvcHVwKHBvcHVwXzk4MmJlN2I4YWRmNDQ5MzI5OTY5MWI2OTFjYjg3YTQ1KQogICAgICAgIDsKCiAgICAgICAgCiAgICAKICAgIAogICAgICAgICAgICB2YXIgbWFya2VyXzUzOTFlZDNjOTJlODQyZDM4Zjg3ZTU4MmI4YjIzMDRmID0gTC5tYXJrZXIoCiAgICAgICAgICAgICAgICBbLTI3LjI2NDE5OTk5OTk5LCAtNTMuODY0NV0sCiAgICAgICAgICAgICAgICB7fQogICAgICAgICAgICApLmFkZFRvKG1hcF9kYzRlOGRiYTk1ZTQ0YjliYTViMDY3ZTdkMDQ1Y2RjYSk7CiAgICAgICAgCiAgICAKICAgICAgICAgICAgdmFyIGljb25fNzM3MTQ2NWI3NzUzNGU0NDgxOGQ3NjY4YzdhZDMzODcgPSBMLkF3ZXNvbWVNYXJrZXJzLmljb24oCiAgICAgICAgICAgICAgICB7ImV4dHJhQ2xhc3NlcyI6ICJmYS1yb3RhdGUtMCIsICJpY29uIjogImluZm8tc2lnbiIsICJpY29uQ29sb3IiOiAid2hpdGUiLCAibWFya2VyQ29sb3IiOiAiZ3JlZW4iLCAicHJlZml4IjogImdseXBoaWNvbiJ9CiAgICAgICAgICAgICk7CiAgICAgICAgICAgIG1hcmtlcl81MzkxZWQzYzkyZTg0MmQzOGY4N2U1ODJiOGIyMzA0Zi5zZXRJY29uKGljb25fNzM3MTQ2NWI3NzUzNGU0NDgxOGQ3NjY4YzdhZDMzODcpOwogICAgICAgIAogICAgCiAgICAgICAgdmFyIHBvcHVwX2FhYjJiNWY3M2I4ZjQwMTQ4ZTUwOWY2YjdlNTI4MTE3ID0gTC5wb3B1cCh7Im1heFdpZHRoIjogIjEwMCUifSk7CgogICAgICAgIAogICAgICAgICAgICB2YXIgaHRtbF83YjdjODNiMmQ1ZWM0MTZjYTBkMTc3NTc4OGU3NDU0MSA9ICQoYDxkaXYgaWQ9Imh0bWxfN2I3YzgzYjJkNWVjNDE2Y2EwZDE3NzU3ODhlNzQ1NDEiIHN0eWxlPSJ3aWR0aDogMTAwLjAlOyBoZWlnaHQ6IDEwMC4wJTsiPkRlcnJ1YmFkYXM8L2Rpdj5gKVswXTsKICAgICAgICAgICAgcG9wdXBfYWFiMmI1ZjczYjhmNDAxNDhlNTA5ZjZiN2U1MjgxMTcuc2V0Q29udGVudChodG1sXzdiN2M4M2IyZDVlYzQxNmNhMGQxNzc1Nzg4ZTc0NTQxKTsKICAgICAgICAKCiAgICAgICAgbWFya2VyXzUzOTFlZDNjOTJlODQyZDM4Zjg3ZTU4MmI4YjIzMDRmLmJpbmRQb3B1cChwb3B1cF9hYWIyYjVmNzNiOGY0MDE0OGU1MDlmNmI3ZTUyODExNykKICAgICAgICA7CgogICAgICAgIAogICAgCiAgICAKICAgICAgICAgICAgdmFyIG1hcmtlcl9iZGM3MGNlNzEwN2M0MWZhOGVmMzE2NjY0MDlhNDM4OCA9IEwubWFya2VyKAogICAgICAgICAgICAgICAgWy0yOC45ODMsIC01MS44Mzk1OTk5OTk5ODk5OV0sCiAgICAgICAgICAgICAgICB7fQogICAgICAgICAgICApLmFkZFRvKG1hcF9kYzRlOGRiYTk1ZTQ0YjliYTViMDY3ZTdkMDQ1Y2RjYSk7CiAgICAgICAgCiAgICAKICAgICAgICAgICAgdmFyIGljb25fMmQ3OTY2OTJhYWEyNDE2Njg4NDc4NjlkYjIxNjEzZTcgPSBMLkF3ZXNvbWVNYXJrZXJzLmljb24oCiAgICAgICAgICAgICAgICB7ImV4dHJhQ2xhc3NlcyI6ICJmYS1yb3RhdGUtMCIsICJpY29uIjogImluZm8tc2lnbiIsICJpY29uQ29sb3IiOiAid2hpdGUiLCAibWFya2VyQ29sb3IiOiAiZ3JlZW4iLCAicHJlZml4IjogImdseXBoaWNvbiJ9CiAgICAgICAgICAgICk7CiAgICAgICAgICAgIG1hcmtlcl9iZGM3MGNlNzEwN2M0MWZhOGVmMzE2NjY0MDlhNDM4OC5zZXRJY29uKGljb25fMmQ3OTY2OTJhYWEyNDE2Njg4NDc4NjlkYjIxNjEzZTcpOwogICAgICAgIAogICAgCiAgICAgICAgdmFyIHBvcHVwX2RjNmNiMWFmMzU0ODRiM2E5ZjZkNGY2NzljYmMwZmFhID0gTC5wb3B1cCh7Im1heFdpZHRoIjogIjEwMCUifSk7CgogICAgICAgIAogICAgICAgICAgICB2YXIgaHRtbF9lMTM3NGFlMzFmNGE0OWRmYTY1MGVhMzQ2Y2Q0N2Y4YSA9ICQoYDxkaXYgaWQ9Imh0bWxfZTEzNzRhZTMxZjRhNDlkZmE2NTBlYTM0NmNkNDdmOGEiIHN0eWxlPSJ3aWR0aDogMTAwLjAlOyBoZWlnaHQ6IDEwMC4wJTsiPkRvaXMgTGFqZWFkb3M8L2Rpdj5gKVswXTsKICAgICAgICAgICAgcG9wdXBfZGM2Y2IxYWYzNTQ4NGIzYTlmNmQ0ZjY3OWNiYzBmYWEuc2V0Q29udGVudChodG1sX2UxMzc0YWUzMWY0YTQ5ZGZhNjUwZWEzNDZjZDQ3ZjhhKTsKICAgICAgICAKCiAgICAgICAgbWFya2VyX2JkYzcwY2U3MTA3YzQxZmE4ZWYzMTY2NjQwOWE0Mzg4LmJpbmRQb3B1cChwb3B1cF9kYzZjYjFhZjM1NDg0YjNhOWY2ZDRmNjc5Y2JjMGZhYSkKICAgICAgICA7CgogICAgICAgIAogICAgCiAgICAKICAgICAgICAgICAgdmFyIG1hcmtlcl83ZDcyYzU5ZjdlZjU0ZGU2YTI3ZGJiNjE0MmYwNDI5YSA9IEwubWFya2VyKAogICAgICAgICAgICAgICAgWy0yOS40Njc5LCAtNTEuMjAwMjk5OTk5OTg5OTk0XSwKICAgICAgICAgICAgICAgIHt9CiAgICAgICAgICAgICkuYWRkVG8obWFwX2RjNGU4ZGJhOTVlNDRiOWJhNWIwNjdlN2QwNDVjZGNhKTsKICAgICAgICAKICAgIAogICAgICAgICAgICB2YXIgaWNvbl84MjExMGExMmFjZjc0ODFhYmZkMjM3ZTJiNTBkZGNhZiA9IEwuQXdlc29tZU1hcmtlcnMuaWNvbigKICAgICAgICAgICAgICAgIHsiZXh0cmFDbGFzc2VzIjogImZhLXJvdGF0ZS0wIiwgImljb24iOiAiaW5mby1zaWduIiwgImljb25Db2xvciI6ICJ3aGl0ZSIsICJtYXJrZXJDb2xvciI6ICJncmVlbiIsICJwcmVmaXgiOiAiZ2x5cGhpY29uIn0KICAgICAgICAgICAgKTsKICAgICAgICAgICAgbWFya2VyXzdkNzJjNTlmN2VmNTRkZTZhMjdkYmI2MTQyZjA0MjlhLnNldEljb24oaWNvbl84MjExMGExMmFjZjc0ODFhYmZkMjM3ZTJiNTBkZGNhZik7CiAgICAgICAgCiAgICAKICAgICAgICB2YXIgcG9wdXBfNjNiZTRjMDgyYWFmNDc2ODljYTRkNzJjMzE3Y2JiZWQgPSBMLnBvcHVwKHsibWF4V2lkdGgiOiAiMTAwJSJ9KTsKCiAgICAgICAgCiAgICAgICAgICAgIHZhciBodG1sXzIxNjE2ZGFmNTUzOTQ1ZDliYzhmYTFkY2Y0NDY3NTU0ID0gJChgPGRpdiBpZD0iaHRtbF8yMTYxNmRhZjU1Mzk0NWQ5YmM4ZmExZGNmNDQ2NzU1NCIgc3R5bGU9IndpZHRoOiAxMDAuMCU7IGhlaWdodDogMTAwLjAlOyI+TGluaGEgTm92YTwvZGl2PmApWzBdOwogICAgICAgICAgICBwb3B1cF82M2JlNGMwODJhYWY0NzY4OWNhNGQ3MmMzMTdjYmJlZC5zZXRDb250ZW50KGh0bWxfMjE2MTZkYWY1NTM5NDVkOWJjOGZhMWRjZjQ0Njc1NTQpOwogICAgICAgIAoKICAgICAgICBtYXJrZXJfN2Q3MmM1OWY3ZWY1NGRlNmEyN2RiYjYxNDJmMDQyOWEuYmluZFBvcHVwKHBvcHVwXzYzYmU0YzA4MmFhZjQ3Njg5Y2E0ZDcyYzMxN2NiYmVkKQogICAgICAgIDsKCiAgICAgICAgCiAgICAKICAgIAogICAgICAgICAgICB2YXIgbWFya2VyXzdiMzU0MTRmOTk0NDRmM2E4YTA1YjEyNzg0ZGI3ZDkwID0gTC5tYXJrZXIoCiAgICAgICAgICAgICAgICBbLTI4LjUyOTgsIC01Mi40Njc1OTk5OTk5ODk5OV0sCiAgICAgICAgICAgICAgICB7fQogICAgICAgICAgICApLmFkZFRvKG1hcF9kYzRlOGRiYTk1ZTQ0YjliYTViMDY3ZTdkMDQ1Y2RjYSk7CiAgICAgICAgCiAgICAKICAgICAgICAgICAgdmFyIGljb25fZDE0OGRlNGEyNGRjNGNkNmE3ZmRhNmI2Y2Q2ZWU4ZWIgPSBMLkF3ZXNvbWVNYXJrZXJzLmljb24oCiAgICAgICAgICAgICAgICB7ImV4dHJhQ2xhc3NlcyI6ICJmYS1yb3RhdGUtMCIsICJpY29uIjogImluZm8tc2lnbiIsICJpY29uQ29sb3IiOiAid2hpdGUiLCAibWFya2VyQ29sb3IiOiAiZ3JlZW4iLCAicHJlZml4IjogImdseXBoaWNvbiJ9CiAgICAgICAgICAgICk7CiAgICAgICAgICAgIG1hcmtlcl83YjM1NDE0Zjk5NDQ0ZjNhOGEwNWIxMjc4NGRiN2Q5MC5zZXRJY29uKGljb25fZDE0OGRlNGEyNGRjNGNkNmE3ZmRhNmI2Y2Q2ZWU4ZWIpOwogICAgICAgIAogICAgCiAgICAgICAgdmFyIHBvcHVwXzJlMTIzYzRhM2E4NzQ4NzQ4Zjk2ZTc0OTcyMzY1OWRmID0gTC5wb3B1cCh7Im1heFdpZHRoIjogIjEwMCUifSk7CgogICAgICAgIAogICAgICAgICAgICB2YXIgaHRtbF85OTUwNDBiNzQ2ODg0M2ViOWY5NDYxZjdhN2E2NTk0OCA9ICQoYDxkaXYgaWQ9Imh0bWxfOTk1MDQwYjc0Njg4NDNlYjlmOTQ2MWY3YTdhNjU5NDgiIHN0eWxlPSJ3aWR0aDogMTAwLjAlOyBoZWlnaHQ6IDEwMC4wJTsiPk5pY29sYXUgVmVyZ3VlaXJvPC9kaXY+YClbMF07CiAgICAgICAgICAgIHBvcHVwXzJlMTIzYzRhM2E4NzQ4NzQ4Zjk2ZTc0OTcyMzY1OWRmLnNldENvbnRlbnQoaHRtbF85OTUwNDBiNzQ2ODg0M2ViOWY5NDYxZjdhN2E2NTk0OCk7CiAgICAgICAgCgogICAgICAgIG1hcmtlcl83YjM1NDE0Zjk5NDQ0ZjNhOGEwNWIxMjc4NGRiN2Q5MC5iaW5kUG9wdXAocG9wdXBfMmUxMjNjNGEzYTg3NDg3NDhmOTZlNzQ5NzIzNjU5ZGYpCiAgICAgICAgOwoKICAgICAgICAKICAgIAogICAgCiAgICAgICAgICAgIHZhciBtYXJrZXJfMjBjMzUxZjRjMzFhNDMyMmFjMDNiMjE3NzBhZWE3OWIgPSBMLm1hcmtlcigKICAgICAgICAgICAgICAgIFstMjkuMjE4MiwgLTUyLjAzMTldLAogICAgICAgICAgICAgICAge30KICAgICAgICAgICAgKS5hZGRUbyhtYXBfZGM0ZThkYmE5NWU0NGI5YmE1YjA2N2U3ZDA0NWNkY2EpOwogICAgICAgIAogICAgCiAgICAgICAgICAgIHZhciBpY29uX2I4MmI4ZWIwZWE2OTQxN2JiYTI1MTE3ZDA0MzQ2MTZiID0gTC5Bd2Vzb21lTWFya2Vycy5pY29uKAogICAgICAgICAgICAgICAgeyJleHRyYUNsYXNzZXMiOiAiZmEtcm90YXRlLTAiLCAiaWNvbiI6ICJpbmZvLXNpZ24iLCAiaWNvbkNvbG9yIjogIndoaXRlIiwgIm1hcmtlckNvbG9yIjogImdyZWVuIiwgInByZWZpeCI6ICJnbHlwaGljb24ifQogICAgICAgICAgICApOwogICAgICAgICAgICBtYXJrZXJfMjBjMzUxZjRjMzFhNDMyMmFjMDNiMjE3NzBhZWE3OWIuc2V0SWNvbihpY29uX2I4MmI4ZWIwZWE2OTQxN2JiYTI1MTE3ZDA0MzQ2MTZiKTsKICAgICAgICAKICAgIAogICAgICAgIHZhciBwb3B1cF9kYjJjODUyYTZiZDc0YmU5YmM2MmMzZTUxZDEyOWE0MiA9IEwucG9wdXAoeyJtYXhXaWR0aCI6ICIxMDAlIn0pOwoKICAgICAgICAKICAgICAgICAgICAgdmFyIGh0bWxfMzhmYzYwNjEwM2I3NGVjZmI1NmU0ZDQ4MTkxM2I2ZGUgPSAkKGA8ZGl2IGlkPSJodG1sXzM4ZmM2MDYxMDNiNzRlY2ZiNTZlNGQ0ODE5MTNiNmRlIiBzdHlsZT0id2lkdGg6IDEwMC4wJTsgaGVpZ2h0OiAxMDAuMCU7Ij5Ob3ZhIEJyw6lzY2lhPC9kaXY+YClbMF07CiAgICAgICAgICAgIHBvcHVwX2RiMmM4NTJhNmJkNzRiZTliYzYyYzNlNTFkMTI5YTQyLnNldENvbnRlbnQoaHRtbF8zOGZjNjA2MTAzYjc0ZWNmYjU2ZTRkNDgxOTEzYjZkZSk7CiAgICAgICAgCgogICAgICAgIG1hcmtlcl8yMGMzNTFmNGMzMWE0MzIyYWMwM2IyMTc3MGFlYTc5Yi5iaW5kUG9wdXAocG9wdXBfZGIyYzg1MmE2YmQ3NGJlOWJjNjJjM2U1MWQxMjlhNDIpCiAgICAgICAgOwoKICAgICAgICAKICAgIAogICAgCiAgICAgICAgICAgIHZhciBtYXJrZXJfM2NhNDE1ZTRkYzhjNDk5MWI2YzAxZGIwNDkyMGU5YzggPSBMLm1hcmtlcigKICAgICAgICAgICAgICAgIFstMjkuMTczOCwgLTUyLjIxMzZdLAogICAgICAgICAgICAgICAge30KICAgICAgICAgICAgKS5hZGRUbyhtYXBfZGM0ZThkYmE5NWU0NGI5YmE1YjA2N2U3ZDA0NWNkY2EpOwogICAgICAgIAogICAgCiAgICAgICAgICAgIHZhciBpY29uX2UyZGY2YTBjMWQ5MTRiNTJhMTA3ZjAyM2FlMmViNTQ1ID0gTC5Bd2Vzb21lTWFya2Vycy5pY29uKAogICAgICAgICAgICAgICAgeyJleHRyYUNsYXNzZXMiOiAiZmEtcm90YXRlLTAiLCAiaWNvbiI6ICJpbmZvLXNpZ24iLCAiaWNvbkNvbG9yIjogIndoaXRlIiwgIm1hcmtlckNvbG9yIjogImdyZWVuIiwgInByZWZpeCI6ICJnbHlwaGljb24ifQogICAgICAgICAgICApOwogICAgICAgICAgICBtYXJrZXJfM2NhNDE1ZTRkYzhjNDk5MWI2YzAxZGIwNDkyMGU5Yzguc2V0SWNvbihpY29uX2UyZGY2YTBjMWQ5MTRiNTJhMTA3ZjAyM2FlMmViNTQ1KTsKICAgICAgICAKICAgIAogICAgICAgIHZhciBwb3B1cF84NGI5MTExNTNmMzg0MGE4OTdhN2VkYWY4ODk5OTZiZiA9IEwucG9wdXAoeyJtYXhXaWR0aCI6ICIxMDAlIn0pOwoKICAgICAgICAKICAgICAgICAgICAgdmFyIGh0bWxfNTJhODIyYTYxOTU4NDUyM2JmZmVmM2QyOTZlNjc4NDAgPSAkKGA8ZGl2IGlkPSJodG1sXzUyYTgyMmE2MTk1ODQ1MjNiZmZlZjNkMjk2ZTY3ODQwIiBzdHlsZT0id2lkdGg6IDEwMC4wJTsgaGVpZ2h0OiAxMDAuMCU7Ij5Qb3VzbyBOb3ZvPC9kaXY+YClbMF07CiAgICAgICAgICAgIHBvcHVwXzg0YjkxMTE1M2YzODQwYTg5N2E3ZWRhZjg4OTk5NmJmLnNldENvbnRlbnQoaHRtbF81MmE4MjJhNjE5NTg0NTIzYmZmZWYzZDI5NmU2Nzg0MCk7CiAgICAgICAgCgogICAgICAgIG1hcmtlcl8zY2E0MTVlNGRjOGM0OTkxYjZjMDFkYjA0OTIwZTljOC5iaW5kUG9wdXAocG9wdXBfODRiOTExMTUzZjM4NDBhODk3YTdlZGFmODg5OTk2YmYpCiAgICAgICAgOwoKICAgICAgICAKICAgIAogICAgCiAgICAgICAgICAgIHZhciBtYXJrZXJfYjM3N2Y5ZmM0MjExNGUzZjg4ZmRkNzRmNGJmMjI3NGUgPSBMLm1hcmtlcigKICAgICAgICAgICAgICAgIFstMjguMTIzMywgLTU0LjgzNzI5OTk5OTk4OTk5NV0sCiAgICAgICAgICAgICAgICB7fQogICAgICAgICAgICApLmFkZFRvKG1hcF9kYzRlOGRiYTk1ZTQ0YjliYTViMDY3ZTdkMDQ1Y2RjYSk7CiAgICAgICAgCiAgICAKICAgICAgICAgICAgdmFyIGljb25fNWEyMjlmZWU2YTY1NDJhNjgzZDE4NWJjNDQ3OTkxMzUgPSBMLkF3ZXNvbWVNYXJrZXJzLmljb24oCiAgICAgICAgICAgICAgICB7ImV4dHJhQ2xhc3NlcyI6ICJmYS1yb3RhdGUtMCIsICJpY29uIjogImluZm8tc2lnbiIsICJpY29uQ29sb3IiOiAid2hpdGUiLCAibWFya2VyQ29sb3IiOiAiZ3JlZW4iLCAicHJlZml4IjogImdseXBoaWNvbiJ9CiAgICAgICAgICAgICk7CiAgICAgICAgICAgIG1hcmtlcl9iMzc3ZjlmYzQyMTE0ZTNmODhmZGQ3NGY0YmYyMjc0ZS5zZXRJY29uKGljb25fNWEyMjlmZWU2YTY1NDJhNjgzZDE4NWJjNDQ3OTkxMzUpOwogICAgICAgIAogICAgCiAgICAgICAgdmFyIHBvcHVwXzZjM2EwNzBhZTRkNjRiM2Y4NTQwMDI5MzdiNDJmMDM2ID0gTC5wb3B1cCh7Im1heFdpZHRoIjogIjEwMCUifSk7CgogICAgICAgIAogICAgICAgICAgICB2YXIgaHRtbF8yMThlNTFiOGI0N2U0ZjhlYTc2NTRiMGZkYWNmOTYwMCA9ICQoYDxkaXYgaWQ9Imh0bWxfMjE4ZTUxYjhiNDdlNGY4ZWE3NjU0YjBmZGFjZjk2MDAiIHN0eWxlPSJ3aWR0aDogMTAwLjAlOyBoZWlnaHQ6IDEwMC4wJTsiPlNhbHZhZG9yIGRhcyBNaXNzw7VlczwvZGl2PmApWzBdOwogICAgICAgICAgICBwb3B1cF82YzNhMDcwYWU0ZDY0YjNmODU0MDAyOTM3YjQyZjAzNi5zZXRDb250ZW50KGh0bWxfMjE4ZTUxYjhiNDdlNGY4ZWE3NjU0YjBmZGFjZjk2MDApOwogICAgICAgIAoKICAgICAgICBtYXJrZXJfYjM3N2Y5ZmM0MjExNGUzZjg4ZmRkNzRmNGJmMjI3NGUuYmluZFBvcHVwKHBvcHVwXzZjM2EwNzBhZTRkNjRiM2Y4NTQwMDI5MzdiNDJmMDM2KQogICAgICAgIDsKCiAgICAgICAgCiAgICAKICAgIAogICAgICAgICAgICB2YXIgbWFya2VyXzEwMGEwNmQzZjBmNzQ0Y2E4Yjc1NTMyMGY3Mzc2ZTJmID0gTC5tYXJrZXIoCiAgICAgICAgICAgICAgICBbLTI4LjQ5NTYsIC01Mi4wMjY2OTk5OTk5ODk5OTRdLAogICAgICAgICAgICAgICAge30KICAgICAgICAgICAgKS5hZGRUbyhtYXBfZGM0ZThkYmE5NWU0NGI5YmE1YjA2N2U3ZDA0NWNkY2EpOwogICAgICAgIAogICAgCiAgICAgICAgICAgIHZhciBpY29uX2JkNzNhOTRkZjdkZTRjNTdiY2Y2NTUyNzRhZmI0MzJlID0gTC5Bd2Vzb21lTWFya2Vycy5pY29uKAogICAgICAgICAgICAgICAgeyJleHRyYUNsYXNzZXMiOiAiZmEtcm90YXRlLTAiLCAiaWNvbiI6ICJpbmZvLXNpZ24iLCAiaWNvbkNvbG9yIjogIndoaXRlIiwgIm1hcmtlckNvbG9yIjogImdyZWVuIiwgInByZWZpeCI6ICJnbHlwaGljb24ifQogICAgICAgICAgICApOwogICAgICAgICAgICBtYXJrZXJfMTAwYTA2ZDNmMGY3NDRjYThiNzU1MzIwZjczNzZlMmYuc2V0SWNvbihpY29uX2JkNzNhOTRkZjdkZTRjNTdiY2Y2NTUyNzRhZmI0MzJlKTsKICAgICAgICAKICAgIAogICAgICAgIHZhciBwb3B1cF9iMjJiZjZmZGU2NDM0NDU3ODhjNGUzNjA1NWY1MmNkZiA9IEwucG9wdXAoeyJtYXhXaWR0aCI6ICIxMDAlIn0pOwoKICAgICAgICAKICAgICAgICAgICAgdmFyIGh0bWxfMjE0NzY3MDFmNjE2NDc0YmJiOWFhZTkxNmI5ZmE0ODQgPSAkKGA8ZGl2IGlkPSJodG1sXzIxNDc2NzAxZjYxNjQ3NGJiYjlhYWU5MTZiOWZhNDg0IiBzdHlsZT0id2lkdGg6IDEwMC4wJTsgaGVpZ2h0OiAxMDAuMCU7Ij5TYW50byBBbnTDtG5pbyBkbyBQYWxtYTwvZGl2PmApWzBdOwogICAgICAgICAgICBwb3B1cF9iMjJiZjZmZGU2NDM0NDU3ODhjNGUzNjA1NWY1MmNkZi5zZXRDb250ZW50KGh0bWxfMjE0NzY3MDFmNjE2NDc0YmJiOWFhZTkxNmI5ZmE0ODQpOwogICAgICAgIAoKICAgICAgICBtYXJrZXJfMTAwYTA2ZDNmMGY3NDRjYThiNzU1MzIwZjczNzZlMmYuYmluZFBvcHVwKHBvcHVwX2IyMmJmNmZkZTY0MzQ0NTc4OGM0ZTM2MDU1ZjUyY2RmKQogICAgICAgIDsKCiAgICAgICAgCiAgICAKICAgIAogICAgICAgICAgICB2YXIgbWFya2VyX2QxNjA1ZDVhYjhiYTQ2MDI5NGZhM2E0YzBkNTVkNGU0ID0gTC5tYXJrZXIoCiAgICAgICAgICAgICAgICBbLTI3LjkwNzM5OTk5OTk5LCAtNTEuNjQzM10sCiAgICAgICAgICAgICAgICB7fQogICAgICAgICAgICApLmFkZFRvKG1hcF9kYzRlOGRiYTk1ZTQ0YjliYTViMDY3ZTdkMDQ1Y2RjYSk7CiAgICAgICAgCiAgICAKICAgICAgICAgICAgdmFyIGljb25fZDcyNTI2MmZmNTg2NDc3NjgwNGNhZmM2Zjg4ZjQ2MGYgPSBMLkF3ZXNvbWVNYXJrZXJzLmljb24oCiAgICAgICAgICAgICAgICB7ImV4dHJhQ2xhc3NlcyI6ICJmYS1yb3RhdGUtMCIsICJpY29uIjogImluZm8tc2lnbiIsICJpY29uQ29sb3IiOiAid2hpdGUiLCAibWFya2VyQ29sb3IiOiAiZ3JlZW4iLCAicHJlZml4IjogImdseXBoaWNvbiJ9CiAgICAgICAgICAgICk7CiAgICAgICAgICAgIG1hcmtlcl9kMTYwNWQ1YWI4YmE0NjAyOTRmYTNhNGMwZDU1ZDRlNC5zZXRJY29uKGljb25fZDcyNTI2MmZmNTg2NDc3NjgwNGNhZmM2Zjg4ZjQ2MGYpOwogICAgICAgIAogICAgCiAgICAgICAgdmFyIHBvcHVwXzBmYTJmZDQ2ZDdmNjRkN2JiZTI2MmM5ZjE2NTcwYTgxID0gTC5wb3B1cCh7Im1heFdpZHRoIjogIjEwMCUifSk7CgogICAgICAgIAogICAgICAgICAgICB2YXIgaHRtbF9lZGRmZGQ4MTRjOGQ0MDQ3OGJjYjZlYzMxMjZkYjBhNCA9ICQoYDxkaXYgaWQ9Imh0bWxfZWRkZmRkODE0YzhkNDA0NzhiY2I2ZWMzMTI2ZGIwYTQiIHN0eWxlPSJ3aWR0aDogMTAwLjAlOyBoZWlnaHQ6IDEwMC4wJTsiPlNhbnRvIEV4cGVkaXRvIGRvIFN1bDwvZGl2PmApWzBdOwogICAgICAgICAgICBwb3B1cF8wZmEyZmQ0NmQ3ZjY0ZDdiYmUyNjJjOWYxNjU3MGE4MS5zZXRDb250ZW50KGh0bWxfZWRkZmRkODE0YzhkNDA0NzhiY2I2ZWMzMTI2ZGIwYTQpOwogICAgICAgIAoKICAgICAgICBtYXJrZXJfZDE2MDVkNWFiOGJhNDYwMjk0ZmEzYTRjMGQ1NWQ0ZTQuYmluZFBvcHVwKHBvcHVwXzBmYTJmZDQ2ZDdmNjRkN2JiZTI2MmM5ZjE2NTcwYTgxKQogICAgICAgIDsKCiAgICAgICAgCiAgICAKICAgIAogICAgICAgICAgICB2YXIgbWFya2VyX2UxNDFiNDQ4MDU3ZTRjOTQ4ZjRiMmViYTQ5NWZjOTI1ID0gTC5tYXJrZXIoCiAgICAgICAgICAgICAgICBbLTI3LjcyNTEsIC01NC4xMjc0OTk5OTk5ODk5OV0sCiAgICAgICAgICAgICAgICB7fQogICAgICAgICAgICApLmFkZFRvKG1hcF9kYzRlOGRiYTk1ZTQ0YjliYTViMDY3ZTdkMDQ1Y2RjYSk7CiAgICAgICAgCiAgICAKICAgICAgICAgICAgdmFyIGljb25fN2IxYWNkY2FhNzEyNGJkMjlkOTFlODdmNWNlN2QzOGUgPSBMLkF3ZXNvbWVNYXJrZXJzLmljb24oCiAgICAgICAgICAgICAgICB7ImV4dHJhQ2xhc3NlcyI6ICJmYS1yb3RhdGUtMCIsICJpY29uIjogImluZm8tc2lnbiIsICJpY29uQ29sb3IiOiAid2hpdGUiLCAibWFya2VyQ29sb3IiOiAiZ3JlZW4iLCAicHJlZml4IjogImdseXBoaWNvbiJ9CiAgICAgICAgICAgICk7CiAgICAgICAgICAgIG1hcmtlcl9lMTQxYjQ0ODA1N2U0Yzk0OGY0YjJlYmE0OTVmYzkyNS5zZXRJY29uKGljb25fN2IxYWNkY2FhNzEyNGJkMjlkOTFlODdmNWNlN2QzOGUpOwogICAgICAgIAogICAgCiAgICAgICAgdmFyIHBvcHVwXzA0MjEyMTFmNzAwODRkMGM5ZTBkOTZmYzI0NjA5OWRhID0gTC5wb3B1cCh7Im1heFdpZHRoIjogIjEwMCUifSk7CgogICAgICAgIAogICAgICAgICAgICB2YXIgaHRtbF9jZmZjZmNlZDJlODE0ZjI1ODM5ODEyYzdiMGRkMjgzZCA9ICQoYDxkaXYgaWQ9Imh0bWxfY2ZmY2ZjZWQyZTgxNGYyNTgzOTgxMmM3YjBkZDI4M2QiIHN0eWxlPSJ3aWR0aDogMTAwLjAlOyBoZWlnaHQ6IDEwMC4wJTsiPlPDo28gSm9zw6kgZG8gSW5oYWNvcsOhPC9kaXY+YClbMF07CiAgICAgICAgICAgIHBvcHVwXzA0MjEyMTFmNzAwODRkMGM5ZTBkOTZmYzI0NjA5OWRhLnNldENvbnRlbnQoaHRtbF9jZmZjZmNlZDJlODE0ZjI1ODM5ODEyYzdiMGRkMjgzZCk7CiAgICAgICAgCgogICAgICAgIG1hcmtlcl9lMTQxYjQ0ODA1N2U0Yzk0OGY0YjJlYmE0OTVmYzkyNS5iaW5kUG9wdXAocG9wdXBfMDQyMTIxMWY3MDA4NGQwYzllMGQ5NmZjMjQ2MDk5ZGEpCiAgICAgICAgOwoKICAgICAgICAKICAgIAogICAgCiAgICAgICAgICAgIHZhciBtYXJrZXJfMTIwY2Y5ZTk3MWVmNDVkMWEyMjlkZjVmNTg3ZDYyZWIgPSBMLm1hcmtlcigKICAgICAgICAgICAgICAgIFstMjguNDc1OCwgLTUxLjg0NDddLAogICAgICAgICAgICAgICAge30KICAgICAgICAgICAgKS5hZGRUbyhtYXBfZGM0ZThkYmE5NWU0NGI5YmE1YjA2N2U3ZDA0NWNkY2EpOwogICAgICAgIAogICAgCiAgICAgICAgICAgIHZhciBpY29uXzNkYmFlZmZlMTQ2MDRkZmJhZmQyMDZkNzdlYmI4MTMyID0gTC5Bd2Vzb21lTWFya2Vycy5pY29uKAogICAgICAgICAgICAgICAgeyJleHRyYUNsYXNzZXMiOiAiZmEtcm90YXRlLTAiLCAiaWNvbiI6ICJpbmZvLXNpZ24iLCAiaWNvbkNvbG9yIjogIndoaXRlIiwgIm1hcmtlckNvbG9yIjogImdyZWVuIiwgInByZWZpeCI6ICJnbHlwaGljb24ifQogICAgICAgICAgICApOwogICAgICAgICAgICBtYXJrZXJfMTIwY2Y5ZTk3MWVmNDVkMWEyMjlkZjVmNTg3ZDYyZWIuc2V0SWNvbihpY29uXzNkYmFlZmZlMTQ2MDRkZmJhZmQyMDZkNzdlYmI4MTMyKTsKICAgICAgICAKICAgIAogICAgICAgIHZhciBwb3B1cF83NTRlM2RmZTNkZTk0ZThjOTY2MzM4ZTMwMDIwZjY1OCA9IEwucG9wdXAoeyJtYXhXaWR0aCI6ICIxMDAlIn0pOwoKICAgICAgICAKICAgICAgICAgICAgdmFyIGh0bWxfYjAwODA4MGFiYzcwNGEyOWE1ODUwNGY2NjFlNGMzZDIgPSAkKGA8ZGl2IGlkPSJodG1sX2IwMDgwODBhYmM3MDRhMjlhNTg1MDRmNjYxZTRjM2QyIiBzdHlsZT0id2lkdGg6IDEwMC4wJTsgaGVpZ2h0OiAxMDAuMCU7Ij5WYW5pbmk8L2Rpdj5gKVswXTsKICAgICAgICAgICAgcG9wdXBfNzU0ZTNkZmUzZGU5NGU4Yzk2NjMzOGUzMDAyMGY2NTguc2V0Q29udGVudChodG1sX2IwMDgwODBhYmM3MDRhMjlhNTg1MDRmNjYxZTRjM2QyKTsKICAgICAgICAKCiAgICAgICAgbWFya2VyXzEyMGNmOWU5NzFlZjQ1ZDFhMjI5ZGY1ZjU4N2Q2MmViLmJpbmRQb3B1cChwb3B1cF83NTRlM2RmZTNkZTk0ZThjOTY2MzM4ZTMwMDIwZjY1OCkKICAgICAgICA7CgogICAgICAgIAogICAgCiAgICAKICAgICAgICAgICAgdmFyIG1hcmtlcl8xZmEzYjYxMGI5YzI0ZDJiYTI3MTNhZGJhNTlmYmRiYSA9IEwubWFya2VyKAogICAgICAgICAgICAgICAgWy0yOC44MDUxOTk5OTk5OTAwMDIsIC01MS43OTQ2XSwKICAgICAgICAgICAgICAgIHt9CiAgICAgICAgICAgICkuYWRkVG8obWFwX2RjNGU4ZGJhOTVlNDRiOWJhNWIwNjdlN2QwNDVjZGNhKTsKICAgICAgICAKICAgIAogICAgICAgICAgICB2YXIgaWNvbl8wZmExMGQ0NmI3NWI0MmVjODk4YmYxNzNmMWU3ZGZjOCA9IEwuQXdlc29tZU1hcmtlcnMuaWNvbigKICAgICAgICAgICAgICAgIHsiZXh0cmFDbGFzc2VzIjogImZhLXJvdGF0ZS0wIiwgImljb24iOiAiaW5mby1zaWduIiwgImljb25Db2xvciI6ICJ3aGl0ZSIsICJtYXJrZXJDb2xvciI6ICJncmVlbiIsICJwcmVmaXgiOiAiZ2x5cGhpY29uIn0KICAgICAgICAgICAgKTsKICAgICAgICAgICAgbWFya2VyXzFmYTNiNjEwYjljMjRkMmJhMjcxM2FkYmE1OWZiZGJhLnNldEljb24oaWNvbl8wZmExMGQ0NmI3NWI0MmVjODk4YmYxNzNmMWU3ZGZjOCk7CiAgICAgICAgCiAgICAKICAgICAgICB2YXIgcG9wdXBfODEwZDMyYjhlMWZmNGY2MjllMDhjYzJjMDUyZjI2NDMgPSBMLnBvcHVwKHsibWF4V2lkdGgiOiAiMTAwJSJ9KTsKCiAgICAgICAgCiAgICAgICAgICAgIHZhciBodG1sX2Q5ZmY2MDU1MmU0NDRmMzJhYTlhNTBjOTBjMGE3MmEyID0gJChgPGRpdiBpZD0iaHRtbF9kOWZmNjA1NTJlNDQ0ZjMyYWE5YTUwYzkwYzBhNzJhMiIgc3R5bGU9IndpZHRoOiAxMDAuMCU7IGhlaWdodDogMTAwLjAlOyI+VmlzdGEgQWxlZ3JlIGRvIFByYXRhPC9kaXY+YClbMF07CiAgICAgICAgICAgIHBvcHVwXzgxMGQzMmI4ZTFmZjRmNjI5ZTA4Y2MyYzA1MmYyNjQzLnNldENvbnRlbnQoaHRtbF9kOWZmNjA1NTJlNDQ0ZjMyYWE5YTUwYzkwYzBhNzJhMik7CiAgICAgICAgCgogICAgICAgIG1hcmtlcl8xZmEzYjYxMGI5YzI0ZDJiYTI3MTNhZGJhNTlmYmRiYS5iaW5kUG9wdXAocG9wdXBfODEwZDMyYjhlMWZmNGY2MjllMDhjYzJjMDUyZjI2NDMpCiAgICAgICAgOwoKICAgICAgICAKICAgIAogICAgCiAgICAgICAgICAgIHZhciBtYXJrZXJfZWY3YzgyOGM5ODE3NGJiYTk5Zjk2ODQzZjMyZWNlMmQgPSBMLm1hcmtlcigKICAgICAgICAgICAgICAgIFstMzAuOTA5MywgLTUxLjUwNDZdLAogICAgICAgICAgICAgICAge30KICAgICAgICAgICAgKS5hZGRUbyhtYXBfZGM0ZThkYmE5NWU0NGI5YmE1YjA2N2U3ZDA0NWNkY2EpOwogICAgICAgIAogICAgCiAgICAgICAgICAgIHZhciBpY29uXzQ3MDZmNjBhNmE1MTQ1YmQ5M2QzY2UwZTRkNjk5MzE0ID0gTC5Bd2Vzb21lTWFya2Vycy5pY29uKAogICAgICAgICAgICAgICAgeyJleHRyYUNsYXNzZXMiOiAiZmEtcm90YXRlLTAiLCAiaWNvbiI6ICJpbmZvLXNpZ24iLCAiaWNvbkNvbG9yIjogIndoaXRlIiwgIm1hcmtlckNvbG9yIjogImdyZWVuIiwgInByZWZpeCI6ICJnbHlwaGljb24ifQogICAgICAgICAgICApOwogICAgICAgICAgICBtYXJrZXJfZWY3YzgyOGM5ODE3NGJiYTk5Zjk2ODQzZjMyZWNlMmQuc2V0SWNvbihpY29uXzQ3MDZmNjBhNmE1MTQ1YmQ5M2QzY2UwZTRkNjk5MzE0KTsKICAgICAgICAKICAgIAogICAgICAgIHZhciBwb3B1cF8yYjJlMDk5NjI2Y2E0MmUxYTViZWVkM2RhZmMxOWFiNSA9IEwucG9wdXAoeyJtYXhXaWR0aCI6ICIxMDAlIn0pOwoKICAgICAgICAKICAgICAgICAgICAgdmFyIGh0bWxfNjhlZWY0MmEyNjRiNDk3ODgzMmM5NmVjYTA1ZWRjNWQgPSAkKGA8ZGl2IGlkPSJodG1sXzY4ZWVmNDJhMjY0YjQ5Nzg4MzJjOTZlY2EwNWVkYzVkIiBzdHlsZT0id2lkdGg6IDEwMC4wJTsgaGVpZ2h0OiAxMDAuMCU7Ij5BcmFtYmFyw6k8L2Rpdj5gKVswXTsKICAgICAgICAgICAgcG9wdXBfMmIyZTA5OTYyNmNhNDJlMWE1YmVlZDNkYWZjMTlhYjUuc2V0Q29udGVudChodG1sXzY4ZWVmNDJhMjY0YjQ5Nzg4MzJjOTZlY2EwNWVkYzVkKTsKICAgICAgICAKCiAgICAgICAgbWFya2VyX2VmN2M4MjhjOTgxNzRiYmE5OWY5Njg0M2YzMmVjZTJkLmJpbmRQb3B1cChwb3B1cF8yYjJlMDk5NjI2Y2E0MmUxYTViZWVkM2RhZmMxOWFiNSkKICAgICAgICA7CgogICAgICAgIAogICAgCiAgICAKICAgICAgICAgICAgdmFyIG1hcmtlcl9mM2JmNDVkNzljNzQ0MWI2YjYxMjA4OGI1NzA2ZWM0NyA9IEwubWFya2VyKAogICAgICAgICAgICAgICAgWy0zMC4yNDE5LCAtNTAuMjMzNl0sCiAgICAgICAgICAgICAgICB7fQogICAgICAgICAgICApLmFkZFRvKG1hcF9kYzRlOGRiYTk1ZTQ0YjliYTViMDY3ZTdkMDQ1Y2RjYSk7CiAgICAgICAgCiAgICAKICAgICAgICAgICAgdmFyIGljb25fYWM1NzlkNzdmMTcxNGY3NDg2NWVlODdmNzc1YmZjYjkgPSBMLkF3ZXNvbWVNYXJrZXJzLmljb24oCiAgICAgICAgICAgICAgICB7ImV4dHJhQ2xhc3NlcyI6ICJmYS1yb3RhdGUtMCIsICJpY29uIjogImluZm8tc2lnbiIsICJpY29uQ29sb3IiOiAid2hpdGUiLCAibWFya2VyQ29sb3IiOiAiZ3JlZW4iLCAicHJlZml4IjogImdseXBoaWNvbiJ9CiAgICAgICAgICAgICk7CiAgICAgICAgICAgIG1hcmtlcl9mM2JmNDVkNzljNzQ0MWI2YjYxMjA4OGI1NzA2ZWM0Ny5zZXRJY29uKGljb25fYWM1NzlkNzdmMTcxNGY3NDg2NWVlODdmNzc1YmZjYjkpOwogICAgICAgIAogICAgCiAgICAgICAgdmFyIHBvcHVwX2NiMDAwNTQ3NDdjOTQ4OGU5YTYzNDBmZGE0YWNiMzRlID0gTC5wb3B1cCh7Im1heFdpZHRoIjogIjEwMCUifSk7CgogICAgICAgIAogICAgICAgICAgICB2YXIgaHRtbF81MDdlZDUwMzRhOTA0ZGIwYjJlNDliNjBkYmRiZWJjOCA9ICQoYDxkaXYgaWQ9Imh0bWxfNTA3ZWQ1MDM0YTkwNGRiMGIyZTQ5YjYwZGJkYmViYzgiIHN0eWxlPSJ3aWR0aDogMTAwLjAlOyBoZWlnaHQ6IDEwMC4wJTsiPkJhbG5lw6FyaW8gUGluaGFsPC9kaXY+YClbMF07CiAgICAgICAgICAgIHBvcHVwX2NiMDAwNTQ3NDdjOTQ4OGU5YTYzNDBmZGE0YWNiMzRlLnNldENvbnRlbnQoaHRtbF81MDdlZDUwMzRhOTA0ZGIwYjJlNDliNjBkYmRiZWJjOCk7CiAgICAgICAgCgogICAgICAgIG1hcmtlcl9mM2JmNDVkNzljNzQ0MWI2YjYxMjA4OGI1NzA2ZWM0Ny5iaW5kUG9wdXAocG9wdXBfY2IwMDA1NDc0N2M5NDg4ZTlhNjM0MGZkYTRhY2IzNGUpCiAgICAgICAgOwoKICAgICAgICAKICAgIAogICAgCiAgICAgICAgICAgIHZhciBtYXJrZXJfNDg4YTk2NGQyNzJmNDUxY2IzN2I1OGE3Zjk2ZDYyMTYgPSBMLm1hcmtlcigKICAgICAgICAgICAgICAgIFstMzAuMjAyOSwgLTU3LjU0OTddLAogICAgICAgICAgICAgICAge30KICAgICAgICAgICAgKS5hZGRUbyhtYXBfZGM0ZThkYmE5NWU0NGI5YmE1YjA2N2U3ZDA0NWNkY2EpOwogICAgICAgIAogICAgCiAgICAgICAgICAgIHZhciBpY29uX2MxZmY5ODc4NTA3NjQwZDZhZDZkYzhlZjZjYzVkMTkyID0gTC5Bd2Vzb21lTWFya2Vycy5pY29uKAogICAgICAgICAgICAgICAgeyJleHRyYUNsYXNzZXMiOiAiZmEtcm90YXRlLTAiLCAiaWNvbiI6ICJpbmZvLXNpZ24iLCAiaWNvbkNvbG9yIjogIndoaXRlIiwgIm1hcmtlckNvbG9yIjogImdyZWVuIiwgInByZWZpeCI6ICJnbHlwaGljb24ifQogICAgICAgICAgICApOwogICAgICAgICAgICBtYXJrZXJfNDg4YTk2NGQyNzJmNDUxY2IzN2I1OGE3Zjk2ZDYyMTYuc2V0SWNvbihpY29uX2MxZmY5ODc4NTA3NjQwZDZhZDZkYzhlZjZjYzVkMTkyKTsKICAgICAgICAKICAgIAogICAgICAgIHZhciBwb3B1cF84M2U0YTQzOTI5YzY0YTVkODc0MTgyNmFmZGQyZmEwZSA9IEwucG9wdXAoeyJtYXhXaWR0aCI6ICIxMDAlIn0pOwoKICAgICAgICAKICAgICAgICAgICAgdmFyIGh0bWxfZjBjNDg1MTJmZmVkNGM3NDkxZDVhY2UwYTU1ZTJiODEgPSAkKGA8ZGl2IGlkPSJodG1sX2YwYzQ4NTEyZmZlZDRjNzQ5MWQ1YWNlMGE1NWUyYjgxIiBzdHlsZT0id2lkdGg6IDEwMC4wJTsgaGVpZ2h0OiAxMDAuMCU7Ij5CYXJyYSBkbyBRdWFyYcOtPC9kaXY+YClbMF07CiAgICAgICAgICAgIHBvcHVwXzgzZTRhNDM5MjljNjRhNWQ4NzQxODI2YWZkZDJmYTBlLnNldENvbnRlbnQoaHRtbF9mMGM0ODUxMmZmZWQ0Yzc0OTFkNWFjZTBhNTVlMmI4MSk7CiAgICAgICAgCgogICAgICAgIG1hcmtlcl80ODhhOTY0ZDI3MmY0NTFjYjM3YjU4YTdmOTZkNjIxNi5iaW5kUG9wdXAocG9wdXBfODNlNGE0MzkyOWM2NGE1ZDg3NDE4MjZhZmRkMmZhMGUpCiAgICAgICAgOwoKICAgICAgICAKICAgIAogICAgCiAgICAgICAgICAgIHZhciBtYXJrZXJfYzFmMGI4ZmQ2YWNiNDQwNjkyNzI5MzYxYWIzZTAwMzYgPSBMLm1hcmtlcigKICAgICAgICAgICAgICAgIFstMjguMjkwNSwgLTU0LjY0NTRdLAogICAgICAgICAgICAgICAge30KICAgICAgICAgICAgKS5hZGRUbyhtYXBfZGM0ZThkYmE5NWU0NGI5YmE1YjA2N2U3ZDA0NWNkY2EpOwogICAgICAgIAogICAgCiAgICAgICAgICAgIHZhciBpY29uXzM4NDM2MGYyNTk5NzQ0OTI4YWUwZThiMjBlNmQ5MmViID0gTC5Bd2Vzb21lTWFya2Vycy5pY29uKAogICAgICAgICAgICAgICAgeyJleHRyYUNsYXNzZXMiOiAiZmEtcm90YXRlLTAiLCAiaWNvbiI6ICJpbmZvLXNpZ24iLCAiaWNvbkNvbG9yIjogIndoaXRlIiwgIm1hcmtlckNvbG9yIjogImdyZWVuIiwgInByZWZpeCI6ICJnbHlwaGljb24ifQogICAgICAgICAgICApOwogICAgICAgICAgICBtYXJrZXJfYzFmMGI4ZmQ2YWNiNDQwNjkyNzI5MzYxYWIzZTAwMzYuc2V0SWNvbihpY29uXzM4NDM2MGYyNTk5NzQ0OTI4YWUwZThiMjBlNmQ5MmViKTsKICAgICAgICAKICAgIAogICAgICAgIHZhciBwb3B1cF83MjVmZTM1OTU1Mjg0MzY4OWYxOTNkZTJhNDkxZDgzOSA9IEwucG9wdXAoeyJtYXhXaWR0aCI6ICIxMDAlIn0pOwoKICAgICAgICAKICAgICAgICAgICAgdmFyIGh0bWxfYTkyYTFhYTdiZDQ5NGU3YmI4ZmE5OTcxOGZiYjVhNTcgPSAkKGA8ZGl2IGlkPSJodG1sX2E5MmExYWE3YmQ0OTRlN2JiOGZhOTk3MThmYmI1YTU3IiBzdHlsZT0id2lkdGg6IDEwMC4wJTsgaGVpZ2h0OiAxMDAuMCU7Ij5DYWliYXTDqTwvZGl2PmApWzBdOwogICAgICAgICAgICBwb3B1cF83MjVmZTM1OTU1Mjg0MzY4OWYxOTNkZTJhNDkxZDgzOS5zZXRDb250ZW50KGh0bWxfYTkyYTFhYTdiZDQ5NGU3YmI4ZmE5OTcxOGZiYjVhNTcpOwogICAgICAgIAoKICAgICAgICBtYXJrZXJfYzFmMGI4ZmQ2YWNiNDQwNjkyNzI5MzYxYWIzZTAwMzYuYmluZFBvcHVwKHBvcHVwXzcyNWZlMzU5NTUyODQzNjg5ZjE5M2RlMmE0OTFkODM5KQogICAgICAgIDsKCiAgICAgICAgCiAgICAKICAgIAogICAgICAgICAgICB2YXIgbWFya2VyXzI1Mjc5NTlhNTY4OTRlNGNhOGM1ZTFkMTA2OGFlNjEyID0gTC5tYXJrZXIoCiAgICAgICAgICAgICAgICBbLTMxLjc1NjQ5OTk5OTk5LCAtNTIuNDg4OV0sCiAgICAgICAgICAgICAgICB7fQogICAgICAgICAgICApLmFkZFRvKG1hcF9kYzRlOGRiYTk1ZTQ0YjliYTViMDY3ZTdkMDQ1Y2RjYSk7CiAgICAgICAgCiAgICAKICAgICAgICAgICAgdmFyIGljb25fM2I1NTBjNWMxNWMwNDI2ZTg1MDllMzhmMzQ3NDJjNjIgPSBMLkF3ZXNvbWVNYXJrZXJzLmljb24oCiAgICAgICAgICAgICAgICB7ImV4dHJhQ2xhc3NlcyI6ICJmYS1yb3RhdGUtMCIsICJpY29uIjogImluZm8tc2lnbiIsICJpY29uQ29sb3IiOiAid2hpdGUiLCAibWFya2VyQ29sb3IiOiAiZ3JlZW4iLCAicHJlZml4IjogImdseXBoaWNvbiJ9CiAgICAgICAgICAgICk7CiAgICAgICAgICAgIG1hcmtlcl8yNTI3OTU5YTU2ODk0ZTRjYThjNWUxZDEwNjhhZTYxMi5zZXRJY29uKGljb25fM2I1NTBjNWMxNWMwNDI2ZTg1MDllMzhmMzQ3NDJjNjIpOwogICAgICAgIAogICAgCiAgICAgICAgdmFyIHBvcHVwX2MzNjkxMTk4NjRiMTQ1YjZhYzQ4MTBiNmUxMWMxNTViID0gTC5wb3B1cCh7Im1heFdpZHRoIjogIjEwMCUifSk7CgogICAgICAgIAogICAgICAgICAgICB2YXIgaHRtbF84MjA0YmEyYjZlMDk0NWRiYmJjZWJlNzYyMDAzZjg4YyA9ICQoYDxkaXYgaWQ9Imh0bWxfODIwNGJhMmI2ZTA5NDVkYmJiY2ViZTc2MjAwM2Y4OGMiIHN0eWxlPSJ3aWR0aDogMTAwLjAlOyBoZWlnaHQ6IDEwMC4wJTsiPkNhcMOjbyBkbyBMZcOjbzwvZGl2PmApWzBdOwogICAgICAgICAgICBwb3B1cF9jMzY5MTE5ODY0YjE0NWI2YWM0ODEwYjZlMTFjMTU1Yi5zZXRDb250ZW50KGh0bWxfODIwNGJhMmI2ZTA5NDVkYmJiY2ViZTc2MjAwM2Y4OGMpOwogICAgICAgIAoKICAgICAgICBtYXJrZXJfMjUyNzk1OWE1Njg5NGU0Y2E4YzVlMWQxMDY4YWU2MTIuYmluZFBvcHVwKHBvcHVwX2MzNjkxMTk4NjRiMTQ1YjZhYzQ4MTBiNmUxMWMxNTViKQogICAgICAgIDsKCiAgICAgICAgCiAgICAKICAgIAogICAgICAgICAgICB2YXIgbWFya2VyXzA0NWY4MDc1MGNlZjQ4YjM5ZmMyMjExZGZhNTlhYzgwID0gTC5tYXJrZXIoCiAgICAgICAgICAgICAgICBbLTMzLjY4NjU5OTk5OTk5LCAtNTMuNDU5NF0sCiAgICAgICAgICAgICAgICB7fQogICAgICAgICAgICApLmFkZFRvKG1hcF9kYzRlOGRiYTk1ZTQ0YjliYTViMDY3ZTdkMDQ1Y2RjYSk7CiAgICAgICAgCiAgICAKICAgICAgICAgICAgdmFyIGljb25fYzE5ODdiZTUxMmVmNDYyNzhhZDM2ODJlYjUwYjg1MWMgPSBMLkF3ZXNvbWVNYXJrZXJzLmljb24oCiAgICAgICAgICAgICAgICB7ImV4dHJhQ2xhc3NlcyI6ICJmYS1yb3RhdGUtMCIsICJpY29uIjogImluZm8tc2lnbiIsICJpY29uQ29sb3IiOiAid2hpdGUiLCAibWFya2VyQ29sb3IiOiAiZ3JlZW4iLCAicHJlZml4IjogImdseXBoaWNvbiJ9CiAgICAgICAgICAgICk7CiAgICAgICAgICAgIG1hcmtlcl8wNDVmODA3NTBjZWY0OGIzOWZjMjIxMWRmYTU5YWM4MC5zZXRJY29uKGljb25fYzE5ODdiZTUxMmVmNDYyNzhhZDM2ODJlYjUwYjg1MWMpOwogICAgICAgIAogICAgCiAgICAgICAgdmFyIHBvcHVwX2M5MGJiZGFkNTZjZTQ3OTJhYjM3NDMxNGU2ZDAxZTU5ID0gTC5wb3B1cCh7Im1heFdpZHRoIjogIjEwMCUifSk7CgogICAgICAgIAogICAgICAgICAgICB2YXIgaHRtbF8wZGQzNzJjYTdlYWM0YTFmOWY5Y2VjNmFlYjljNDA4ZSA9ICQoYDxkaXYgaWQ9Imh0bWxfMGRkMzcyY2E3ZWFjNGExZjlmOWNlYzZhZWI5YzQwOGUiIHN0eWxlPSJ3aWR0aDogMTAwLjAlOyBoZWlnaHQ6IDEwMC4wJTsiPkNodcOtPC9kaXY+YClbMF07CiAgICAgICAgICAgIHBvcHVwX2M5MGJiZGFkNTZjZTQ3OTJhYjM3NDMxNGU2ZDAxZTU5LnNldENvbnRlbnQoaHRtbF8wZGQzNzJjYTdlYWM0YTFmOWY5Y2VjNmFlYjljNDA4ZSk7CiAgICAgICAgCgogICAgICAgIG1hcmtlcl8wNDVmODA3NTBjZWY0OGIzOWZjMjIxMWRmYTU5YWM4MC5iaW5kUG9wdXAocG9wdXBfYzkwYmJkYWQ1NmNlNDc5MmFiMzc0MzE0ZTZkMDFlNTkpCiAgICAgICAgOwoKICAgICAgICAKICAgIAogICAgCiAgICAgICAgICAgIHZhciBtYXJrZXJfM2ZlNmMwMmI3NjlkNDI4ODgyYmM5ZGMzZmQwYzZjODAgPSBMLm1hcmtlcigKICAgICAgICAgICAgICAgIFstMzAuMDg0NywgLTUxLjYxODY5OTk5OTk4OTk5XSwKICAgICAgICAgICAgICAgIHt9CiAgICAgICAgICAgICkuYWRkVG8obWFwX2RjNGU4ZGJhOTVlNDRiOWJhNWIwNjdlN2QwNDVjZGNhKTsKICAgICAgICAKICAgIAogICAgICAgICAgICB2YXIgaWNvbl8zNTljOWQ3ZWJhZWI0MjRhYWZhZmUxZTAyMzQxOTc2MyA9IEwuQXdlc29tZU1hcmtlcnMuaWNvbigKICAgICAgICAgICAgICAgIHsiZXh0cmFDbGFzc2VzIjogImZhLXJvdGF0ZS0wIiwgImljb24iOiAiaW5mby1zaWduIiwgImljb25Db2xvciI6ICJ3aGl0ZSIsICJtYXJrZXJDb2xvciI6ICJncmVlbiIsICJwcmVmaXgiOiAiZ2x5cGhpY29uIn0KICAgICAgICAgICAgKTsKICAgICAgICAgICAgbWFya2VyXzNmZTZjMDJiNzY5ZDQyODg4MmJjOWRjM2ZkMGM2YzgwLnNldEljb24oaWNvbl8zNTljOWQ3ZWJhZWI0MjRhYWZhZmUxZTAyMzQxOTc2Myk7CiAgICAgICAgCiAgICAKICAgICAgICB2YXIgcG9wdXBfMDkwNjk5MjZlMTk3NDEwMjlhMWMzMTBkYzVhMmVjY2QgPSBMLnBvcHVwKHsibWF4V2lkdGgiOiAiMTAwJSJ9KTsKCiAgICAgICAgCiAgICAgICAgICAgIHZhciBodG1sX2RiM2I5NjFlM2RmYjQ0YjNiOTRiYWNkNTRmNzk4ZjEwID0gJChgPGRpdiBpZD0iaHRtbF9kYjNiOTYxZTNkZmI0NGIzYjk0YmFjZDU0Zjc5OGYxMCIgc3R5bGU9IndpZHRoOiAxMDAuMCU7IGhlaWdodDogMTAwLjAlOyI+RWxkb3JhZG8gZG8gU3VsPC9kaXY+YClbMF07CiAgICAgICAgICAgIHBvcHVwXzA5MDY5OTI2ZTE5NzQxMDI5YTFjMzEwZGM1YTJlY2NkLnNldENvbnRlbnQoaHRtbF9kYjNiOTYxZTNkZmI0NGIzYjk0YmFjZDU0Zjc5OGYxMCk7CiAgICAgICAgCgogICAgICAgIG1hcmtlcl8zZmU2YzAyYjc2OWQ0Mjg4ODJiYzlkYzNmZDBjNmM4MC5iaW5kUG9wdXAocG9wdXBfMDkwNjk5MjZlMTk3NDEwMjlhMWMzMTBkYzVhMmVjY2QpCiAgICAgICAgOwoKICAgICAgICAKICAgIAogICAgCiAgICAgICAgICAgIHZhciBtYXJrZXJfODdkNDVjY2QxZjc5NGEzZDkyYTQ2MzUxODEyODg1MzAgPSBMLm1hcmtlcigKICAgICAgICAgICAgICAgIFstMzEuNDA2NywgLTUzLjg2NjddLAogICAgICAgICAgICAgICAge30KICAgICAgICAgICAgKS5hZGRUbyhtYXBfZGM0ZThkYmE5NWU0NGI5YmE1YjA2N2U3ZDA0NWNkY2EpOwogICAgICAgIAogICAgCiAgICAgICAgICAgIHZhciBpY29uXzkwNzZmMzI0ZDU4NTQ1ODFiNjJlNjJkNTA5NmE0MmJhID0gTC5Bd2Vzb21lTWFya2Vycy5pY29uKAogICAgICAgICAgICAgICAgeyJleHRyYUNsYXNzZXMiOiAiZmEtcm90YXRlLTAiLCAiaWNvbiI6ICJpbmZvLXNpZ24iLCAiaWNvbkNvbG9yIjogIndoaXRlIiwgIm1hcmtlckNvbG9yIjogImdyZWVuIiwgInByZWZpeCI6ICJnbHlwaGljb24ifQogICAgICAgICAgICApOwogICAgICAgICAgICBtYXJrZXJfODdkNDVjY2QxZjc5NGEzZDkyYTQ2MzUxODEyODg1MzAuc2V0SWNvbihpY29uXzkwNzZmMzI0ZDU4NTQ1ODFiNjJlNjJkNTA5NmE0MmJhKTsKICAgICAgICAKICAgIAogICAgICAgIHZhciBwb3B1cF84MTc5MzIxYTVlYTY0MzAxYWE2ODhiYzc5ODkyMDcwMSA9IEwucG9wdXAoeyJtYXhXaWR0aCI6ICIxMDAlIn0pOwoKICAgICAgICAKICAgICAgICAgICAgdmFyIGh0bWxfZjk4NzUyZDQ3NzlhNDY4MTljYzU0YjRhZjM0YTg4MjYgPSAkKGA8ZGl2IGlkPSJodG1sX2Y5ODc1MmQ0Nzc5YTQ2ODE5Y2M1NGI0YWYzNGE4ODI2IiBzdHlsZT0id2lkdGg6IDEwMC4wJTsgaGVpZ2h0OiAxMDAuMCU7Ij5IdWxoYSBOZWdyYTwvZGl2PmApWzBdOwogICAgICAgICAgICBwb3B1cF84MTc5MzIxYTVlYTY0MzAxYWE2ODhiYzc5ODkyMDcwMS5zZXRDb250ZW50KGh0bWxfZjk4NzUyZDQ3NzlhNDY4MTljYzU0YjRhZjM0YTg4MjYpOwogICAgICAgIAoKICAgICAgICBtYXJrZXJfODdkNDVjY2QxZjc5NGEzZDkyYTQ2MzUxODEyODg1MzAuYmluZFBvcHVwKHBvcHVwXzgxNzkzMjFhNWVhNjQzMDFhYTY4OGJjNzk4OTIwNzAxKQogICAgICAgIDsKCiAgICAgICAgCiAgICAKICAgIAogICAgICAgICAgICB2YXIgbWFya2VyX2JlOWMxYjcyZGI4NTQ2N2M5OGI3YTdmMWMxYzg1NDM4ID0gTC5tYXJrZXIoCiAgICAgICAgICAgICAgICBbLTI5LjAyMTk5OTk5OTk5LCAtNTMuMDUzNjk5OTk5OTg5OTk1XSwKICAgICAgICAgICAgICAgIHt9CiAgICAgICAgICAgICkuYWRkVG8obWFwX2RjNGU4ZGJhOTVlNDRiOWJhNWIwNjdlN2QwNDVjZGNhKTsKICAgICAgICAKICAgIAogICAgICAgICAgICB2YXIgaWNvbl85ZGUzNWQ0OGYzYjU0M2FmOTA1Y2VkNWRkYjU0NDg3NiA9IEwuQXdlc29tZU1hcmtlcnMuaWNvbigKICAgICAgICAgICAgICAgIHsiZXh0cmFDbGFzc2VzIjogImZhLXJvdGF0ZS0wIiwgImljb24iOiAiaW5mby1zaWduIiwgImljb25Db2xvciI6ICJ3aGl0ZSIsICJtYXJrZXJDb2xvciI6ICJncmVlbiIsICJwcmVmaXgiOiAiZ2x5cGhpY29uIn0KICAgICAgICAgICAgKTsKICAgICAgICAgICAgbWFya2VyX2JlOWMxYjcyZGI4NTQ2N2M5OGI3YTdmMWMxYzg1NDM4LnNldEljb24oaWNvbl85ZGUzNWQ0OGYzYjU0M2FmOTA1Y2VkNWRkYjU0NDg3Nik7CiAgICAgICAgCiAgICAKICAgICAgICB2YXIgcG9wdXBfYWJmYTk4YThkNzAzNGEwMTg4NTJmODc3MWE3MzNmOGUgPSBMLnBvcHVwKHsibWF4V2lkdGgiOiAiMTAwJSJ9KTsKCiAgICAgICAgCiAgICAgICAgICAgIHZhciBodG1sX2M5ZGVlMjdkYTRjZDRlYmZhMGRjNmFmOTIxNGQ5MDAxID0gJChgPGRpdiBpZD0iaHRtbF9jOWRlZTI3ZGE0Y2Q0ZWJmYTBkYzZhZjkyMTRkOTAwMSIgc3R5bGU9IndpZHRoOiAxMDAuMCU7IGhlaWdodDogMTAwLjAlOyI+SmFjdWl6aW5obzwvZGl2PmApWzBdOwogICAgICAgICAgICBwb3B1cF9hYmZhOThhOGQ3MDM0YTAxODg1MmY4NzcxYTczM2Y4ZS5zZXRDb250ZW50KGh0bWxfYzlkZWUyN2RhNGNkNGViZmEwZGM2YWY5MjE0ZDkwMDEpOwogICAgICAgIAoKICAgICAgICBtYXJrZXJfYmU5YzFiNzJkYjg1NDY3Yzk4YjdhN2YxYzFjODU0MzguYmluZFBvcHVwKHBvcHVwX2FiZmE5OGE4ZDcwMzRhMDE4ODUyZjg3NzFhNzMzZjhlKQogICAgICAgIDsKCiAgICAgICAgCiAgICAKICAgIAogICAgICAgICAgICB2YXIgbWFya2VyXzBiNGExZjEwYWEzNjRlYTFiNTUzM2M4NjIwM2ZkMmUwID0gTC5tYXJrZXIoCiAgICAgICAgICAgICAgICBbLTMwLjgwNzA5OTk5OTk5LCAtNTMuODkzMDk5OTk5OTg5OTldLAogICAgICAgICAgICAgICAge30KICAgICAgICAgICAgKS5hZGRUbyhtYXBfZGM0ZThkYmE5NWU0NGI5YmE1YjA2N2U3ZDA0NWNkY2EpOwogICAgICAgIAogICAgCiAgICAgICAgICAgIHZhciBpY29uXzE2ZDcyYTVmYmU1MTQzY2VhMjYyZjJjZWE2MDg3MjMzID0gTC5Bd2Vzb21lTWFya2Vycy5pY29uKAogICAgICAgICAgICAgICAgeyJleHRyYUNsYXNzZXMiOiAiZmEtcm90YXRlLTAiLCAiaWNvbiI6ICJpbmZvLXNpZ24iLCAiaWNvbkNvbG9yIjogIndoaXRlIiwgIm1hcmtlckNvbG9yIjogImdyZWVuIiwgInByZWZpeCI6ICJnbHlwaGljb24ifQogICAgICAgICAgICApOwogICAgICAgICAgICBtYXJrZXJfMGI0YTFmMTBhYTM2NGVhMWI1NTMzYzg2MjAzZmQyZTAuc2V0SWNvbihpY29uXzE2ZDcyYTVmYmU1MTQzY2VhMjYyZjJjZWE2MDg3MjMzKTsKICAgICAgICAKICAgIAogICAgICAgIHZhciBwb3B1cF9jMTUyZjZkY2U0MDE0YjAyYTg0NWI5ZWVkMjliZjNlMCA9IEwucG9wdXAoeyJtYXhXaWR0aCI6ICIxMDAlIn0pOwoKICAgICAgICAKICAgICAgICAgICAgdmFyIGh0bWxfMjM0NjQ3NmUwODIyNGQyMDk3Zjk4MTNhNzlhZWY5ZDMgPSAkKGA8ZGl2IGlkPSJodG1sXzIzNDY0NzZlMDgyMjRkMjA5N2Y5ODEzYTc5YWVmOWQzIiBzdHlsZT0id2lkdGg6IDEwMC4wJTsgaGVpZ2h0OiAxMDAuMCU7Ij5MYXZyYXMgZG8gU3VsPC9kaXY+YClbMF07CiAgICAgICAgICAgIHBvcHVwX2MxNTJmNmRjZTQwMTRiMDJhODQ1YjllZWQyOWJmM2UwLnNldENvbnRlbnQoaHRtbF8yMzQ2NDc2ZTA4MjI0ZDIwOTdmOTgxM2E3OWFlZjlkMyk7CiAgICAgICAgCgogICAgICAgIG1hcmtlcl8wYjRhMWYxMGFhMzY0ZWExYjU1MzNjODYyMDNmZDJlMC5iaW5kUG9wdXAocG9wdXBfYzE1MmY2ZGNlNDAxNGIwMmE4NDViOWVlZDI5YmYzZTApCiAgICAgICAgOwoKICAgICAgICAKICAgIAogICAgCiAgICAgICAgICAgIHZhciBtYXJrZXJfOTFjOTViYjRiYjY5NDQyNGEzM2ZmMGQ1OWNjZjFhZjAgPSBMLm1hcmtlcigKICAgICAgICAgICAgICAgIFstMzEuNzIxNjk5OTk5OTksIC01My41ODM3OTk5OTk5OV0sCiAgICAgICAgICAgICAgICB7fQogICAgICAgICAgICApLmFkZFRvKG1hcF9kYzRlOGRiYTk1ZTQ0YjliYTViMDY3ZTdkMDQ1Y2RjYSk7CiAgICAgICAgCiAgICAKICAgICAgICAgICAgdmFyIGljb25fNTc4MDM0ZGY0MmJjNDk1NThmMTBlZGI3ZjJlMDEyMGIgPSBMLkF3ZXNvbWVNYXJrZXJzLmljb24oCiAgICAgICAgICAgICAgICB7ImV4dHJhQ2xhc3NlcyI6ICJmYS1yb3RhdGUtMCIsICJpY29uIjogImluZm8tc2lnbiIsICJpY29uQ29sb3IiOiAid2hpdGUiLCAibWFya2VyQ29sb3IiOiAiZ3JlZW4iLCAicHJlZml4IjogImdseXBoaWNvbiJ9CiAgICAgICAgICAgICk7CiAgICAgICAgICAgIG1hcmtlcl85MWM5NWJiNGJiNjk0NDI0YTMzZmYwZDU5Y2NmMWFmMC5zZXRJY29uKGljb25fNTc4MDM0ZGY0MmJjNDk1NThmMTBlZGI3ZjJlMDEyMGIpOwogICAgICAgIAogICAgCiAgICAgICAgdmFyIHBvcHVwXzkzNTQ5N2RkMjAyODRhMjU5OTkzODhjYTY2NDBlN2JmID0gTC5wb3B1cCh7Im1heFdpZHRoIjogIjEwMCUifSk7CgogICAgICAgIAogICAgICAgICAgICB2YXIgaHRtbF83ZWJhMWUzMTdmYmY0ZTM5YmUyNDcyZjhhYjJkM2VkYiA9ICQoYDxkaXYgaWQ9Imh0bWxfN2ViYTFlMzE3ZmJmNGUzOWJlMjQ3MmY4YWIyZDNlZGIiIHN0eWxlPSJ3aWR0aDogMTAwLjAlOyBoZWlnaHQ6IDEwMC4wJTsiPlBlZHJhcyBBbHRhczwvZGl2PmApWzBdOwogICAgICAgICAgICBwb3B1cF85MzU0OTdkZDIwMjg0YTI1OTk5Mzg4Y2E2NjQwZTdiZi5zZXRDb250ZW50KGh0bWxfN2ViYTFlMzE3ZmJmNGUzOWJlMjQ3MmY4YWIyZDNlZGIpOwogICAgICAgIAoKICAgICAgICBtYXJrZXJfOTFjOTViYjRiYjY5NDQyNGEzM2ZmMGQ1OWNjZjFhZjAuYmluZFBvcHVwKHBvcHVwXzkzNTQ5N2RkMjAyODRhMjU5OTkzODhjYTY2NDBlN2JmKQogICAgICAgIDsKCiAgICAgICAgCiAgICAKICAgIAogICAgICAgICAgICB2YXIgbWFya2VyXzU1ZjVkOGU4MjliMDQ5YzZiOWU1Yjg2NTk4MDVmMTE1ID0gTC5tYXJrZXIoCiAgICAgICAgICAgICAgICBbLTMxLjU3OTQsIC01My4zNzk4XSwKICAgICAgICAgICAgICAgIHt9CiAgICAgICAgICAgICkuYWRkVG8obWFwX2RjNGU4ZGJhOTVlNDRiOWJhNWIwNjdlN2QwNDVjZGNhKTsKICAgICAgICAKICAgIAogICAgICAgICAgICB2YXIgaWNvbl82YTEwMDQwMjM1MTk0ZDNjODEwZDMwMGM1YjdhNDM1NyA9IEwuQXdlc29tZU1hcmtlcnMuaWNvbigKICAgICAgICAgICAgICAgIHsiZXh0cmFDbGFzc2VzIjogImZhLXJvdGF0ZS0wIiwgImljb24iOiAiaW5mby1zaWduIiwgImljb25Db2xvciI6ICJ3aGl0ZSIsICJtYXJrZXJDb2xvciI6ICJncmVlbiIsICJwcmVmaXgiOiAiZ2x5cGhpY29uIn0KICAgICAgICAgICAgKTsKICAgICAgICAgICAgbWFya2VyXzU1ZjVkOGU4MjliMDQ5YzZiOWU1Yjg2NTk4MDVmMTE1LnNldEljb24oaWNvbl82YTEwMDQwMjM1MTk0ZDNjODEwZDMwMGM1YjdhNDM1Nyk7CiAgICAgICAgCiAgICAKICAgICAgICB2YXIgcG9wdXBfM2I4ZDcxOWFkNzA4NDhkNTkzZTA2ZjIwMmQ3OTFjYWMgPSBMLnBvcHVwKHsibWF4V2lkdGgiOiAiMTAwJSJ9KTsKCiAgICAgICAgCiAgICAgICAgICAgIHZhciBodG1sXzQzMDUyMjlkYWE4ZDQ5ZDI5YTlkNjM1OWE4NDAyNDdhID0gJChgPGRpdiBpZD0iaHRtbF80MzA1MjI5ZGFhOGQ0OWQyOWE5ZDYzNTlhODQwMjQ3YSIgc3R5bGU9IndpZHRoOiAxMDAuMCU7IGhlaWdodDogMTAwLjAlOyI+UGluaGVpcm8gTWFjaGFkbzwvZGl2PmApWzBdOwogICAgICAgICAgICBwb3B1cF8zYjhkNzE5YWQ3MDg0OGQ1OTNlMDZmMjAyZDc5MWNhYy5zZXRDb250ZW50KGh0bWxfNDMwNTIyOWRhYThkNDlkMjlhOWQ2MzU5YTg0MDI0N2EpOwogICAgICAgIAoKICAgICAgICBtYXJrZXJfNTVmNWQ4ZTgyOWIwNDljNmI5ZTViODY1OTgwNWYxMTUuYmluZFBvcHVwKHBvcHVwXzNiOGQ3MTlhZDcwODQ4ZDU5M2UwNmYyMDJkNzkxY2FjKQogICAgICAgIDsKCiAgICAgICAgCiAgICAKICAgIAogICAgICAgICAgICB2YXIgbWFya2VyXzZjNzkyNjBkMjAxODRiMGM5NDM4OTc3NGZhODFlMDUyID0gTC5tYXJrZXIoCiAgICAgICAgICAgICAgICBbLTI3LjgxNjI5OTk5OTk5LCAtNTIuNDQxODk5OTk5OTg5OTldLAogICAgICAgICAgICAgICAge30KICAgICAgICAgICAgKS5hZGRUbyhtYXBfZGM0ZThkYmE5NWU0NGI5YmE1YjA2N2U3ZDA0NWNkY2EpOwogICAgICAgIAogICAgCiAgICAgICAgICAgIHZhciBpY29uX2YyMmRlNTE3OWVhNDQ5MDU4YmE2M2M0MWM3ZjU1MjUwID0gTC5Bd2Vzb21lTWFya2Vycy5pY29uKAogICAgICAgICAgICAgICAgeyJleHRyYUNsYXNzZXMiOiAiZmEtcm90YXRlLTAiLCAiaWNvbiI6ICJpbmZvLXNpZ24iLCAiaWNvbkNvbG9yIjogIndoaXRlIiwgIm1hcmtlckNvbG9yIjogImdyZWVuIiwgInByZWZpeCI6ICJnbHlwaGljb24ifQogICAgICAgICAgICApOwogICAgICAgICAgICBtYXJrZXJfNmM3OTI2MGQyMDE4NGIwYzk0Mzg5Nzc0ZmE4MWUwNTIuc2V0SWNvbihpY29uX2YyMmRlNTE3OWVhNDQ5MDU4YmE2M2M0MWM3ZjU1MjUwKTsKICAgICAgICAKICAgIAogICAgICAgIHZhciBwb3B1cF9iZmU4YjJkMTk1MDQ0OWFlYjE5YWE5YzdkMGU1MmYzMyA9IEwucG9wdXAoeyJtYXhXaWR0aCI6ICIxMDAlIn0pOwoKICAgICAgICAKICAgICAgICAgICAgdmFyIGh0bWxfNDQwZWZhYzViMjE4NDYzYmExMjc3YmU3MjhkMDU2MDcgPSAkKGA8ZGl2IGlkPSJodG1sXzQ0MGVmYWM1YjIxODQ2M2JhMTI3N2JlNzI4ZDA1NjA3IiBzdHlsZT0id2lkdGg6IDEwMC4wJTsgaGVpZ2h0OiAxMDAuMCU7Ij5RdWF0cm8gSXJtw6NvczwvZGl2PmApWzBdOwogICAgICAgICAgICBwb3B1cF9iZmU4YjJkMTk1MDQ0OWFlYjE5YWE5YzdkMGU1MmYzMy5zZXRDb250ZW50KGh0bWxfNDQwZWZhYzViMjE4NDYzYmExMjc3YmU3MjhkMDU2MDcpOwogICAgICAgIAoKICAgICAgICBtYXJrZXJfNmM3OTI2MGQyMDE4NGIwYzk0Mzg5Nzc0ZmE4MWUwNTIuYmluZFBvcHVwKHBvcHVwX2JmZThiMmQxOTUwNDQ5YWViMTlhYTljN2QwZTUyZjMzKQogICAgICAgIDsKCiAgICAgICAgCiAgICAKICAgIAogICAgICAgICAgICB2YXIgbWFya2VyX2YyYzU5ZWVhMjgzNjQ1NjBhZjk0ODlmM2JkNGE0MDBjID0gTC5tYXJrZXIoCiAgICAgICAgICAgICAgICBbLTMzLjUyNDk5OTk5OTk5LCAtNTMuMzcxNjk5OTk5OTg5OTldLAogICAgICAgICAgICAgICAge30KICAgICAgICAgICAgKS5hZGRUbyhtYXBfZGM0ZThkYmE5NWU0NGI5YmE1YjA2N2U3ZDA0NWNkY2EpOwogICAgICAgIAogICAgCiAgICAgICAgICAgIHZhciBpY29uXzYwNmRhMDE1MjAyMjRmZjJhMTA2OWRmYWI5OGEzMDVhID0gTC5Bd2Vzb21lTWFya2Vycy5pY29uKAogICAgICAgICAgICAgICAgeyJleHRyYUNsYXNzZXMiOiAiZmEtcm90YXRlLTAiLCAiaWNvbiI6ICJpbmZvLXNpZ24iLCAiaWNvbkNvbG9yIjogIndoaXRlIiwgIm1hcmtlckNvbG9yIjogImdyZWVuIiwgInByZWZpeCI6ICJnbHlwaGljb24ifQogICAgICAgICAgICApOwogICAgICAgICAgICBtYXJrZXJfZjJjNTllZWEyODM2NDU2MGFmOTQ4OWYzYmQ0YTQwMGMuc2V0SWNvbihpY29uXzYwNmRhMDE1MjAyMjRmZjJhMTA2OWRmYWI5OGEzMDVhKTsKICAgICAgICAKICAgIAogICAgICAgIHZhciBwb3B1cF82MzJlNmNiZTIwZGM0MTdlOTFjNTRhYzU1YzljYjUzOSA9IEwucG9wdXAoeyJtYXhXaWR0aCI6ICIxMDAlIn0pOwoKICAgICAgICAKICAgICAgICAgICAgdmFyIGh0bWxfMjVkNDhkZGI4MzY2NGIwZDgxNGE2ZmMyOWFmOWYzNzcgPSAkKGA8ZGl2IGlkPSJodG1sXzI1ZDQ4ZGRiODM2NjRiMGQ4MTRhNmZjMjlhZjlmMzc3IiBzdHlsZT0id2lkdGg6IDEwMC4wJTsgaGVpZ2h0OiAxMDAuMCU7Ij5TYW50YSBWaXTDs3JpYSBkbyBQYWxtYXI8L2Rpdj5gKVswXTsKICAgICAgICAgICAgcG9wdXBfNjMyZTZjYmUyMGRjNDE3ZTkxYzU0YWM1NWM5Y2I1Mzkuc2V0Q29udGVudChodG1sXzI1ZDQ4ZGRiODM2NjRiMGQ4MTRhNmZjMjlhZjlmMzc3KTsKICAgICAgICAKCiAgICAgICAgbWFya2VyX2YyYzU5ZWVhMjgzNjQ1NjBhZjk0ODlmM2JkNGE0MDBjLmJpbmRQb3B1cChwb3B1cF82MzJlNmNiZTIwZGM0MTdlOTFjNTRhYzU1YzljYjUzOSkKICAgICAgICA7CgogICAgICAgIAogICAgCiAgICAKICAgICAgICAgICAgdmFyIG1hcmtlcl9hZTAxZTFiMDI4YzM0ODIzYjQzMjZhYzU4Yzc4ZWQxMSA9IEwubWFya2VyKAogICAgICAgICAgICAgICAgWy0zMi4wMTUwOTk5OTk5OSwgLTUyLjAzMzA5OTk5OTk4OTk5XSwKICAgICAgICAgICAgICAgIHt9CiAgICAgICAgICAgICkuYWRkVG8obWFwX2RjNGU4ZGJhOTVlNDRiOWJhNWIwNjdlN2QwNDVjZGNhKTsKICAgICAgICAKICAgIAogICAgICAgICAgICB2YXIgaWNvbl9jMzRmY2NmMGQ1MTc0NzAzYTMzZTdkOGMzZWJjMzM5NiA9IEwuQXdlc29tZU1hcmtlcnMuaWNvbigKICAgICAgICAgICAgICAgIHsiZXh0cmFDbGFzc2VzIjogImZhLXJvdGF0ZS0wIiwgImljb24iOiAiaW5mby1zaWduIiwgImljb25Db2xvciI6ICJ3aGl0ZSIsICJtYXJrZXJDb2xvciI6ICJncmVlbiIsICJwcmVmaXgiOiAiZ2x5cGhpY29uIn0KICAgICAgICAgICAgKTsKICAgICAgICAgICAgbWFya2VyX2FlMDFlMWIwMjhjMzQ4MjNiNDMyNmFjNThjNzhlZDExLnNldEljb24oaWNvbl9jMzRmY2NmMGQ1MTc0NzAzYTMzZTdkOGMzZWJjMzM5Nik7CiAgICAgICAgCiAgICAKICAgICAgICB2YXIgcG9wdXBfODU5NjAxNDM3MmZkNDEwODg0YjBkNDRiMzRmNzJkZDcgPSBMLnBvcHVwKHsibWF4V2lkdGgiOiAiMTAwJSJ9KTsKCiAgICAgICAgCiAgICAgICAgICAgIHZhciBodG1sXzhhNDU5ZGUwY2RkMzQzMGU5MDRiMGMyMzQxOTU3YjMxID0gJChgPGRpdiBpZD0iaHRtbF84YTQ1OWRlMGNkZDM0MzBlOTA0YjBjMjM0MTk1N2IzMSIgc3R5bGU9IndpZHRoOiAxMDAuMCU7IGhlaWdodDogMTAwLjAlOyI+U8OjbyBKb3PDqSBkbyBOb3J0ZTwvZGl2PmApWzBdOwogICAgICAgICAgICBwb3B1cF84NTk2MDE0MzcyZmQ0MTA4ODRiMGQ0NGIzNGY3MmRkNy5zZXRDb250ZW50KGh0bWxfOGE0NTlkZTBjZGQzNDMwZTkwNGIwYzIzNDE5NTdiMzEpOwogICAgICAgIAoKICAgICAgICBtYXJrZXJfYWUwMWUxYjAyOGMzNDgyM2I0MzI2YWM1OGM3OGVkMTEuYmluZFBvcHVwKHBvcHVwXzg1OTYwMTQzNzJmZDQxMDg4NGIwZDQ0YjM0ZjcyZGQ3KQogICAgICAgIDsKCiAgICAgICAgCiAgICAKICAgIAogICAgICAgICAgICB2YXIgbWFya2VyX2FmMjUwYTVjOTM1ZjRkYzlhNTVmNGExYTM5NWM0ZDliID0gTC5tYXJrZXIoCiAgICAgICAgICAgICAgICBbLTI3Ljc3MzIxOTk5OTk5LCAtNTMuMjUwNDddLAogICAgICAgICAgICAgICAge30KICAgICAgICAgICAgKS5hZGRUbyhtYXBfZGM0ZThkYmE5NWU0NGI5YmE1YjA2N2U3ZDA0NWNkY2EpOwogICAgICAgIAogICAgCiAgICAgICAgICAgIHZhciBpY29uXzk2YTc3ZDJkNjQ5NTQ2MGFhOGMwZWY3N2ZmZjlhYTIzID0gTC5Bd2Vzb21lTWFya2Vycy5pY29uKAogICAgICAgICAgICAgICAgeyJleHRyYUNsYXNzZXMiOiAiZmEtcm90YXRlLTAiLCAiaWNvbiI6ICJpbmZvLXNpZ24iLCAiaWNvbkNvbG9yIjogIndoaXRlIiwgIm1hcmtlckNvbG9yIjogImdyZWVuIiwgInByZWZpeCI6ICJnbHlwaGljb24ifQogICAgICAgICAgICApOwogICAgICAgICAgICBtYXJrZXJfYWYyNTBhNWM5MzVmNGRjOWE1NWY0YTFhMzk1YzRkOWIuc2V0SWNvbihpY29uXzk2YTc3ZDJkNjQ5NTQ2MGFhOGMwZWY3N2ZmZjlhYTIzKTsKICAgICAgICAKICAgIAogICAgICAgIHZhciBwb3B1cF84M2M2ZDA1Y2JjMTc0ZGMzODViNmM5OGE0NjkwMjcwZiA9IEwucG9wdXAoeyJtYXhXaWR0aCI6ICIxMDAlIn0pOwoKICAgICAgICAKICAgICAgICAgICAgdmFyIGh0bWxfMTk2NWMyNTQwZDQ4NGRjZDk4OTRiMTZiNzY0OTEyNWUgPSAkKGA8ZGl2IGlkPSJodG1sXzE5NjVjMjU0MGQ0ODRkY2Q5ODk0YjE2Yjc2NDkxMjVlIiBzdHlsZT0id2lkdGg6IDEwMC4wJTsgaGVpZ2h0OiAxMDAuMCU7Ij5Tw6NvIFBlZHJvIGRhcyBNaXNzw7VlczwvZGl2PmApWzBdOwogICAgICAgICAgICBwb3B1cF84M2M2ZDA1Y2JjMTc0ZGMzODViNmM5OGE0NjkwMjcwZi5zZXRDb250ZW50KGh0bWxfMTk2NWMyNTQwZDQ4NGRjZDk4OTRiMTZiNzY0OTEyNWUpOwogICAgICAgIAoKICAgICAgICBtYXJrZXJfYWYyNTBhNWM5MzVmNGRjOWE1NWY0YTFhMzk1YzRkOWIuYmluZFBvcHVwKHBvcHVwXzgzYzZkMDVjYmMxNzRkYzM4NWI2Yzk4YTQ2OTAyNzBmKQogICAgICAgIDsKCiAgICAgICAgCiAgICAKICAgIAogICAgICAgICAgICB2YXIgbWFya2VyXzMyNDY4MDJmNDNkNjRhMDk5N2QxZmU2NjEwYjYzYzU5ID0gTC5tYXJrZXIoCiAgICAgICAgICAgICAgICBbLTI3Ljc5MDYsIC01My45MzY3OTk5OTk5ODk5OTRdLAogICAgICAgICAgICAgICAge30KICAgICAgICAgICAgKS5hZGRUbyhtYXBfZGM0ZThkYmE5NWU0NGI5YmE1YjA2N2U3ZDA0NWNkY2EpOwogICAgICAgIAogICAgCiAgICAgICAgICAgIHZhciBpY29uX2M2OWYzMjk2OWFiOTRjZTk5OWM5Y2ZkNTA2Y2NlYzJiID0gTC5Bd2Vzb21lTWFya2Vycy5pY29uKAogICAgICAgICAgICAgICAgeyJleHRyYUNsYXNzZXMiOiAiZmEtcm90YXRlLTAiLCAiaWNvbiI6ICJpbmZvLXNpZ24iLCAiaWNvbkNvbG9yIjogIndoaXRlIiwgIm1hcmtlckNvbG9yIjogImdyZWVuIiwgInByZWZpeCI6ICJnbHlwaGljb24ifQogICAgICAgICAgICApOwogICAgICAgICAgICBtYXJrZXJfMzI0NjgwMmY0M2Q2NGEwOTk3ZDFmZTY2MTBiNjNjNTkuc2V0SWNvbihpY29uX2M2OWYzMjk2OWFiOTRjZTk5OWM5Y2ZkNTA2Y2NlYzJiKTsKICAgICAgICAKICAgIAogICAgICAgIHZhciBwb3B1cF9kYmI5YjJkODVlZGQ0MzMyOTcxODg0ZjcyZWJkZTAxNyA9IEwucG9wdXAoeyJtYXhXaWR0aCI6ICIxMDAlIn0pOwoKICAgICAgICAKICAgICAgICAgICAgdmFyIGh0bWxfZmNiNmYwNjI5ZDYwNDNhYWE5MjVlNDk0OTFmOGI1MzQgPSAkKGA8ZGl2IGlkPSJodG1sX2ZjYjZmMDYyOWQ2MDQzYWFhOTI1ZTQ5NDkxZjhiNTM0IiBzdHlsZT0id2lkdGg6IDEwMC4wJTsgaGVpZ2h0OiAxMDAuMCU7Ij5Tw6NvIFZhbMOpcmlvIGRvIFN1bDwvZGl2PmApWzBdOwogICAgICAgICAgICBwb3B1cF9kYmI5YjJkODVlZGQ0MzMyOTcxODg0ZjcyZWJkZTAxNy5zZXRDb250ZW50KGh0bWxfZmNiNmYwNjI5ZDYwNDNhYWE5MjVlNDk0OTFmOGI1MzQpOwogICAgICAgIAoKICAgICAgICBtYXJrZXJfMzI0NjgwMmY0M2Q2NGEwOTk3ZDFmZTY2MTBiNjNjNTkuYmluZFBvcHVwKHBvcHVwX2RiYjliMmQ4NWVkZDQzMzI5NzE4ODRmNzJlYmRlMDE3KQogICAgICAgIDsKCiAgICAgICAgCiAgICAKICAgIAogICAgICAgICAgICB2YXIgbWFya2VyX2M4Yjg4MzBlMDQxYjQzNTc4NDdkZjUyYWQzN2NmMmI5ID0gTC5tYXJrZXIoCiAgICAgICAgICAgICAgICBbLTMwLjkwOTMsIC01MS41MDQ2XSwKICAgICAgICAgICAgICAgIHt9CiAgICAgICAgICAgICkuYWRkVG8obWFwX2RjNGU4ZGJhOTVlNDRiOWJhNWIwNjdlN2QwNDVjZGNhKTsKICAgICAgICAKICAgIAogICAgICAgICAgICB2YXIgaWNvbl8xNzMxMmI5MDc2ZmQ0NDdkOTM3NzM2MWJlMTA3ZjM4MiA9IEwuQXdlc29tZU1hcmtlcnMuaWNvbigKICAgICAgICAgICAgICAgIHsiZXh0cmFDbGFzc2VzIjogImZhLXJvdGF0ZS0wIiwgImljb24iOiAiaW5mby1zaWduIiwgImljb25Db2xvciI6ICJ3aGl0ZSIsICJtYXJrZXJDb2xvciI6ICJyZWQiLCAicHJlZml4IjogImdseXBoaWNvbiJ9CiAgICAgICAgICAgICk7CiAgICAgICAgICAgIG1hcmtlcl9jOGI4ODMwZTA0MWI0MzU3ODQ3ZGY1MmFkMzdjZjJiOS5zZXRJY29uKGljb25fMTczMTJiOTA3NmZkNDQ3ZDkzNzczNjFiZTEwN2YzODIpOwogICAgICAgIAogICAgCiAgICAgICAgdmFyIHBvcHVwXzg2NjUzMDBlYjY2NTQ3MzU4MjA4ZmVlMmVhNmEwYjZkID0gTC5wb3B1cCh7Im1heFdpZHRoIjogIjEwMCUifSk7CgogICAgICAgIAogICAgICAgICAgICB2YXIgaHRtbF85YTdjZWMzOTQxMzQ0OTUxOWM5YTdiNTdiNTk5NmUzMyA9ICQoYDxkaXYgaWQ9Imh0bWxfOWE3Y2VjMzk0MTM0NDk1MTljOWE3YjU3YjU5OTZlMzMiIHN0eWxlPSJ3aWR0aDogMTAwLjAlOyBoZWlnaHQ6IDEwMC4wJTsiPkFyYW1iYXLDqTwvZGl2PmApWzBdOwogICAgICAgICAgICBwb3B1cF84NjY1MzAwZWI2NjU0NzM1ODIwOGZlZTJlYTZhMGI2ZC5zZXRDb250ZW50KGh0bWxfOWE3Y2VjMzk0MTM0NDk1MTljOWE3YjU3YjU5OTZlMzMpOwogICAgICAgIAoKICAgICAgICBtYXJrZXJfYzhiODgzMGUwNDFiNDM1Nzg0N2RmNTJhZDM3Y2YyYjkuYmluZFBvcHVwKHBvcHVwXzg2NjUzMDBlYjY2NTQ3MzU4MjA4ZmVlMmVhNmEwYjZkKQogICAgICAgIDsKCiAgICAgICAgCiAgICAKICAgIAogICAgICAgICAgICB2YXIgbWFya2VyX2RkODZmNTJiYWZmZjRlMzM4MWY1ODQ4NGY5ZjVjMDE1ID0gTC5tYXJrZXIoCiAgICAgICAgICAgICAgICBbLTMwLjI0MTksIC01MC4yMzM2XSwKICAgICAgICAgICAgICAgIHt9CiAgICAgICAgICAgICkuYWRkVG8obWFwX2RjNGU4ZGJhOTVlNDRiOWJhNWIwNjdlN2QwNDVjZGNhKTsKICAgICAgICAKICAgIAogICAgICAgICAgICB2YXIgaWNvbl9hYTY4ODk5ZjBkYmY0YmFiYWJiODlmZTVmY2MyZjkwYyA9IEwuQXdlc29tZU1hcmtlcnMuaWNvbigKICAgICAgICAgICAgICAgIHsiZXh0cmFDbGFzc2VzIjogImZhLXJvdGF0ZS0wIiwgImljb24iOiAiaW5mby1zaWduIiwgImljb25Db2xvciI6ICJ3aGl0ZSIsICJtYXJrZXJDb2xvciI6ICJyZWQiLCAicHJlZml4IjogImdseXBoaWNvbiJ9CiAgICAgICAgICAgICk7CiAgICAgICAgICAgIG1hcmtlcl9kZDg2ZjUyYmFmZmY0ZTMzODFmNTg0ODRmOWY1YzAxNS5zZXRJY29uKGljb25fYWE2ODg5OWYwZGJmNGJhYmFiYjg5ZmU1ZmNjMmY5MGMpOwogICAgICAgIAogICAgCiAgICAgICAgdmFyIHBvcHVwX2UyNDA0YjFiZTZhYTRiY2M4NGYyNTlmODE2NTQ3MmI3ID0gTC5wb3B1cCh7Im1heFdpZHRoIjogIjEwMCUifSk7CgogICAgICAgIAogICAgICAgICAgICB2YXIgaHRtbF9iZTM5MGY4OTNhYTA0MWIxOWExZDVhMmM2Y2NiOWIwYiA9ICQoYDxkaXYgaWQ9Imh0bWxfYmUzOTBmODkzYWEwNDFiMTlhMWQ1YTJjNmNjYjliMGIiIHN0eWxlPSJ3aWR0aDogMTAwLjAlOyBoZWlnaHQ6IDEwMC4wJTsiPkJhbG5lw6FyaW8gUGluaGFsPC9kaXY+YClbMF07CiAgICAgICAgICAgIHBvcHVwX2UyNDA0YjFiZTZhYTRiY2M4NGYyNTlmODE2NTQ3MmI3LnNldENvbnRlbnQoaHRtbF9iZTM5MGY4OTNhYTA0MWIxOWExZDVhMmM2Y2NiOWIwYik7CiAgICAgICAgCgogICAgICAgIG1hcmtlcl9kZDg2ZjUyYmFmZmY0ZTMzODFmNTg0ODRmOWY1YzAxNS5iaW5kUG9wdXAocG9wdXBfZTI0MDRiMWJlNmFhNGJjYzg0ZjI1OWY4MTY1NDcyYjcpCiAgICAgICAgOwoKICAgICAgICAKICAgIAogICAgCiAgICAgICAgICAgIHZhciBtYXJrZXJfZTkxMTJmN2NmMGVjNDNiZmJiOWJiYTVkMDI0ZDBlNmMgPSBMLm1hcmtlcigKICAgICAgICAgICAgICAgIFstMzAuMjAyOSwgLTU3LjU0OTddLAogICAgICAgICAgICAgICAge30KICAgICAgICAgICAgKS5hZGRUbyhtYXBfZGM0ZThkYmE5NWU0NGI5YmE1YjA2N2U3ZDA0NWNkY2EpOwogICAgICAgIAogICAgCiAgICAgICAgICAgIHZhciBpY29uX2YxYTdlYWFlNzBlMDRkNGQ5M2E2YzBjMjExNjc0ZGJhID0gTC5Bd2Vzb21lTWFya2Vycy5pY29uKAogICAgICAgICAgICAgICAgeyJleHRyYUNsYXNzZXMiOiAiZmEtcm90YXRlLTAiLCAiaWNvbiI6ICJpbmZvLXNpZ24iLCAiaWNvbkNvbG9yIjogIndoaXRlIiwgIm1hcmtlckNvbG9yIjogInJlZCIsICJwcmVmaXgiOiAiZ2x5cGhpY29uIn0KICAgICAgICAgICAgKTsKICAgICAgICAgICAgbWFya2VyX2U5MTEyZjdjZjBlYzQzYmZiYjliYmE1ZDAyNGQwZTZjLnNldEljb24oaWNvbl9mMWE3ZWFhZTcwZTA0ZDRkOTNhNmMwYzIxMTY3NGRiYSk7CiAgICAgICAgCiAgICAKICAgICAgICB2YXIgcG9wdXBfYjVlZjg2NjdlZTg2NDZjZWI0MWViNGYzOWNiNDcyNDkgPSBMLnBvcHVwKHsibWF4V2lkdGgiOiAiMTAwJSJ9KTsKCiAgICAgICAgCiAgICAgICAgICAgIHZhciBodG1sXzk2NGQ2ZWE1NDgwNjRhNGFhYTk4ZGQ1NWE1NjMwMDY2ID0gJChgPGRpdiBpZD0iaHRtbF85NjRkNmVhNTQ4MDY0YTRhYWE5OGRkNTVhNTYzMDA2NiIgc3R5bGU9IndpZHRoOiAxMDAuMCU7IGhlaWdodDogMTAwLjAlOyI+QmFycmEgZG8gUXVhcmHDrTwvZGl2PmApWzBdOwogICAgICAgICAgICBwb3B1cF9iNWVmODY2N2VlODY0NmNlYjQxZWI0ZjM5Y2I0NzI0OS5zZXRDb250ZW50KGh0bWxfOTY0ZDZlYTU0ODA2NGE0YWFhOThkZDU1YTU2MzAwNjYpOwogICAgICAgIAoKICAgICAgICBtYXJrZXJfZTkxMTJmN2NmMGVjNDNiZmJiOWJiYTVkMDI0ZDBlNmMuYmluZFBvcHVwKHBvcHVwX2I1ZWY4NjY3ZWU4NjQ2Y2ViNDFlYjRmMzljYjQ3MjQ5KQogICAgICAgIDsKCiAgICAgICAgCiAgICAKICAgIAogICAgICAgICAgICB2YXIgbWFya2VyXzcwM2U3ZjJiNjE0NjQzNDk5ZjU3MGQ4NDg1NTY1MjMxID0gTC5tYXJrZXIoCiAgICAgICAgICAgICAgICBbLTI4LjI5MDUsIC01NC42NDU0XSwKICAgICAgICAgICAgICAgIHt9CiAgICAgICAgICAgICkuYWRkVG8obWFwX2RjNGU4ZGJhOTVlNDRiOWJhNWIwNjdlN2QwNDVjZGNhKTsKICAgICAgICAKICAgIAogICAgICAgICAgICB2YXIgaWNvbl9lNzkxMDYwYjRiOGQ0MzU5YjIwM2VkMWVhYTI0OGIxZSA9IEwuQXdlc29tZU1hcmtlcnMuaWNvbigKICAgICAgICAgICAgICAgIHsiZXh0cmFDbGFzc2VzIjogImZhLXJvdGF0ZS0wIiwgImljb24iOiAiaW5mby1zaWduIiwgImljb25Db2xvciI6ICJ3aGl0ZSIsICJtYXJrZXJDb2xvciI6ICJyZWQiLCAicHJlZml4IjogImdseXBoaWNvbiJ9CiAgICAgICAgICAgICk7CiAgICAgICAgICAgIG1hcmtlcl83MDNlN2YyYjYxNDY0MzQ5OWY1NzBkODQ4NTU2NTIzMS5zZXRJY29uKGljb25fZTc5MTA2MGI0YjhkNDM1OWIyMDNlZDFlYWEyNDhiMWUpOwogICAgICAgIAogICAgCiAgICAgICAgdmFyIHBvcHVwX2FmOGI4YzdlMTIzZjQzNDliNzE3MmJhMzc5YjA2ZjMwID0gTC5wb3B1cCh7Im1heFdpZHRoIjogIjEwMCUifSk7CgogICAgICAgIAogICAgICAgICAgICB2YXIgaHRtbF81ODliNWM1N2I5NTU0ZjQ1OTE1ODQ5ZTAyYTIxNDY5YSA9ICQoYDxkaXYgaWQ9Imh0bWxfNTg5YjVjNTdiOTU1NGY0NTkxNTg0OWUwMmEyMTQ2OWEiIHN0eWxlPSJ3aWR0aDogMTAwLjAlOyBoZWlnaHQ6IDEwMC4wJTsiPkNhaWJhdMOpPC9kaXY+YClbMF07CiAgICAgICAgICAgIHBvcHVwX2FmOGI4YzdlMTIzZjQzNDliNzE3MmJhMzc5YjA2ZjMwLnNldENvbnRlbnQoaHRtbF81ODliNWM1N2I5NTU0ZjQ1OTE1ODQ5ZTAyYTIxNDY5YSk7CiAgICAgICAgCgogICAgICAgIG1hcmtlcl83MDNlN2YyYjYxNDY0MzQ5OWY1NzBkODQ4NTU2NTIzMS5iaW5kUG9wdXAocG9wdXBfYWY4YjhjN2UxMjNmNDM0OWI3MTcyYmEzNzliMDZmMzApCiAgICAgICAgOwoKICAgICAgICAKICAgIAogICAgCiAgICAgICAgICAgIHZhciBtYXJrZXJfZGU0YWE5NDVhOWJiNDcwM2JlZGMxOWY0ZWU1YzJmYjkgPSBMLm1hcmtlcigKICAgICAgICAgICAgICAgIFstMzEuNzU2NDk5OTk5OTksIC01Mi40ODg5XSwKICAgICAgICAgICAgICAgIHt9CiAgICAgICAgICAgICkuYWRkVG8obWFwX2RjNGU4ZGJhOTVlNDRiOWJhNWIwNjdlN2QwNDVjZGNhKTsKICAgICAgICAKICAgIAogICAgICAgICAgICB2YXIgaWNvbl9iNzhlYzczMDRiN2M0NGIxYmQ5ZTc5M2M4NjgxMDI5ZiA9IEwuQXdlc29tZU1hcmtlcnMuaWNvbigKICAgICAgICAgICAgICAgIHsiZXh0cmFDbGFzc2VzIjogImZhLXJvdGF0ZS0wIiwgImljb24iOiAiaW5mby1zaWduIiwgImljb25Db2xvciI6ICJ3aGl0ZSIsICJtYXJrZXJDb2xvciI6ICJyZWQiLCAicHJlZml4IjogImdseXBoaWNvbiJ9CiAgICAgICAgICAgICk7CiAgICAgICAgICAgIG1hcmtlcl9kZTRhYTk0NWE5YmI0NzAzYmVkYzE5ZjRlZTVjMmZiOS5zZXRJY29uKGljb25fYjc4ZWM3MzA0YjdjNDRiMWJkOWU3OTNjODY4MTAyOWYpOwogICAgICAgIAogICAgCiAgICAgICAgdmFyIHBvcHVwXzgwNTU1MGJmODM1YzQwNTU5YmUyZWM1ZGVkMmRhN2JmID0gTC5wb3B1cCh7Im1heFdpZHRoIjogIjEwMCUifSk7CgogICAgICAgIAogICAgICAgICAgICB2YXIgaHRtbF81NDQ0OWIzOTdiNjg0NmU5YTY1OGJhYTg1MDQ2NGUzZiA9ICQoYDxkaXYgaWQ9Imh0bWxfNTQ0NDliMzk3YjY4NDZlOWE2NThiYWE4NTA0NjRlM2YiIHN0eWxlPSJ3aWR0aDogMTAwLjAlOyBoZWlnaHQ6IDEwMC4wJTsiPkNhcMOjbyBkbyBMZcOjbzwvZGl2PmApWzBdOwogICAgICAgICAgICBwb3B1cF84MDU1NTBiZjgzNWM0MDU1OWJlMmVjNWRlZDJkYTdiZi5zZXRDb250ZW50KGh0bWxfNTQ0NDliMzk3YjY4NDZlOWE2NThiYWE4NTA0NjRlM2YpOwogICAgICAgIAoKICAgICAgICBtYXJrZXJfZGU0YWE5NDVhOWJiNDcwM2JlZGMxOWY0ZWU1YzJmYjkuYmluZFBvcHVwKHBvcHVwXzgwNTU1MGJmODM1YzQwNTU5YmUyZWM1ZGVkMmRhN2JmKQogICAgICAgIDsKCiAgICAgICAgCiAgICAKICAgIAogICAgICAgICAgICB2YXIgbWFya2VyX2ZlNTVkM2ZlNGNhOTQ1M2ZhOGQ4ZGI3NzA3YWU0NDg5ID0gTC5tYXJrZXIoCiAgICAgICAgICAgICAgICBbLTMzLjY4NjU5OTk5OTk5LCAtNTMuNDU5NF0sCiAgICAgICAgICAgICAgICB7fQogICAgICAgICAgICApLmFkZFRvKG1hcF9kYzRlOGRiYTk1ZTQ0YjliYTViMDY3ZTdkMDQ1Y2RjYSk7CiAgICAgICAgCiAgICAKICAgICAgICAgICAgdmFyIGljb25fMTFjOWY1NDA2ODAxNGQxZmI3NjAwN2JiZDc2MjQ2MWIgPSBMLkF3ZXNvbWVNYXJrZXJzLmljb24oCiAgICAgICAgICAgICAgICB7ImV4dHJhQ2xhc3NlcyI6ICJmYS1yb3RhdGUtMCIsICJpY29uIjogImluZm8tc2lnbiIsICJpY29uQ29sb3IiOiAid2hpdGUiLCAibWFya2VyQ29sb3IiOiAicmVkIiwgInByZWZpeCI6ICJnbHlwaGljb24ifQogICAgICAgICAgICApOwogICAgICAgICAgICBtYXJrZXJfZmU1NWQzZmU0Y2E5NDUzZmE4ZDhkYjc3MDdhZTQ0ODkuc2V0SWNvbihpY29uXzExYzlmNTQwNjgwMTRkMWZiNzYwMDdiYmQ3NjI0NjFiKTsKICAgICAgICAKICAgIAogICAgICAgIHZhciBwb3B1cF8wMDVjZTllNmVkMzg0YzBmYjUwMmQ3MDgwODBhZjk3MSA9IEwucG9wdXAoeyJtYXhXaWR0aCI6ICIxMDAlIn0pOwoKICAgICAgICAKICAgICAgICAgICAgdmFyIGh0bWxfMmUzMGZmM2Y0Y2ZkNDAwZWEyOTgyMmYwMzQwNWEyODEgPSAkKGA8ZGl2IGlkPSJodG1sXzJlMzBmZjNmNGNmZDQwMGVhMjk4MjJmMDM0MDVhMjgxIiBzdHlsZT0id2lkdGg6IDEwMC4wJTsgaGVpZ2h0OiAxMDAuMCU7Ij5DaHXDrTwvZGl2PmApWzBdOwogICAgICAgICAgICBwb3B1cF8wMDVjZTllNmVkMzg0YzBmYjUwMmQ3MDgwODBhZjk3MS5zZXRDb250ZW50KGh0bWxfMmUzMGZmM2Y0Y2ZkNDAwZWEyOTgyMmYwMzQwNWEyODEpOwogICAgICAgIAoKICAgICAgICBtYXJrZXJfZmU1NWQzZmU0Y2E5NDUzZmE4ZDhkYjc3MDdhZTQ0ODkuYmluZFBvcHVwKHBvcHVwXzAwNWNlOWU2ZWQzODRjMGZiNTAyZDcwODA4MGFmOTcxKQogICAgICAgIDsKCiAgICAgICAgCiAgICAKICAgIAogICAgICAgICAgICB2YXIgbWFya2VyX2Y1OTQ1NTg5N2I1OTQ2ODk4NWFhNDY3Y2RmZGQyNDA5ID0gTC5tYXJrZXIoCiAgICAgICAgICAgICAgICBbLTMwLjA4NDcsIC01MS42MTg2OTk5OTk5ODk5OV0sCiAgICAgICAgICAgICAgICB7fQogICAgICAgICAgICApLmFkZFRvKG1hcF9kYzRlOGRiYTk1ZTQ0YjliYTViMDY3ZTdkMDQ1Y2RjYSk7CiAgICAgICAgCiAgICAKICAgICAgICAgICAgdmFyIGljb25fMzUyZjdjMWQ0YTM4NDJjNmE4NWE4YjdiMGU4NjQ4OWQgPSBMLkF3ZXNvbWVNYXJrZXJzLmljb24oCiAgICAgICAgICAgICAgICB7ImV4dHJhQ2xhc3NlcyI6ICJmYS1yb3RhdGUtMCIsICJpY29uIjogImluZm8tc2lnbiIsICJpY29uQ29sb3IiOiAid2hpdGUiLCAibWFya2VyQ29sb3IiOiAicmVkIiwgInByZWZpeCI6ICJnbHlwaGljb24ifQogICAgICAgICAgICApOwogICAgICAgICAgICBtYXJrZXJfZjU5NDU1ODk3YjU5NDY4OTg1YWE0NjdjZGZkZDI0MDkuc2V0SWNvbihpY29uXzM1MmY3YzFkNGEzODQyYzZhODVhOGI3YjBlODY0ODlkKTsKICAgICAgICAKICAgIAogICAgICAgIHZhciBwb3B1cF9hOWI2OTgzNjg1ODA0MmY2OGVhNzBlNTdiZWRlYjY2NiA9IEwucG9wdXAoeyJtYXhXaWR0aCI6ICIxMDAlIn0pOwoKICAgICAgICAKICAgICAgICAgICAgdmFyIGh0bWxfZjQ4ZGJiYTE2YmU4NDE1OTgxOTQzZmM1MmQyMDUyZmUgPSAkKGA8ZGl2IGlkPSJodG1sX2Y0OGRiYmExNmJlODQxNTk4MTk0M2ZjNTJkMjA1MmZlIiBzdHlsZT0id2lkdGg6IDEwMC4wJTsgaGVpZ2h0OiAxMDAuMCU7Ij5FbGRvcmFkbyBkbyBTdWw8L2Rpdj5gKVswXTsKICAgICAgICAgICAgcG9wdXBfYTliNjk4MzY4NTgwNDJmNjhlYTcwZTU3YmVkZWI2NjYuc2V0Q29udGVudChodG1sX2Y0OGRiYmExNmJlODQxNTk4MTk0M2ZjNTJkMjA1MmZlKTsKICAgICAgICAKCiAgICAgICAgbWFya2VyX2Y1OTQ1NTg5N2I1OTQ2ODk4NWFhNDY3Y2RmZGQyNDA5LmJpbmRQb3B1cChwb3B1cF9hOWI2OTgzNjg1ODA0MmY2OGVhNzBlNTdiZWRlYjY2NikKICAgICAgICA7CgogICAgICAgIAogICAgCiAgICAKICAgICAgICAgICAgdmFyIG1hcmtlcl9mMDlhM2I2YmJmNmY0ZWZiYmVhNGY3MTk3MGFlZGZjNCA9IEwubWFya2VyKAogICAgICAgICAgICAgICAgWy0zMS40MDY3LCAtNTMuODY2N10sCiAgICAgICAgICAgICAgICB7fQogICAgICAgICAgICApLmFkZFRvKG1hcF9kYzRlOGRiYTk1ZTQ0YjliYTViMDY3ZTdkMDQ1Y2RjYSk7CiAgICAgICAgCiAgICAKICAgICAgICAgICAgdmFyIGljb25fN2Y3Nzc4NmU2NTM5NGU4MGEwYjZmMzk1ZGE4NTUwYzcgPSBMLkF3ZXNvbWVNYXJrZXJzLmljb24oCiAgICAgICAgICAgICAgICB7ImV4dHJhQ2xhc3NlcyI6ICJmYS1yb3RhdGUtMCIsICJpY29uIjogImluZm8tc2lnbiIsICJpY29uQ29sb3IiOiAid2hpdGUiLCAibWFya2VyQ29sb3IiOiAicmVkIiwgInByZWZpeCI6ICJnbHlwaGljb24ifQogICAgICAgICAgICApOwogICAgICAgICAgICBtYXJrZXJfZjA5YTNiNmJiZjZmNGVmYmJlYTRmNzE5NzBhZWRmYzQuc2V0SWNvbihpY29uXzdmNzc3ODZlNjUzOTRlODBhMGI2ZjM5NWRhODU1MGM3KTsKICAgICAgICAKICAgIAogICAgICAgIHZhciBwb3B1cF9lYTllZmZhOGQwMzA0YWZiYTdlYTUwZWNkZDVjNDE0MSA9IEwucG9wdXAoeyJtYXhXaWR0aCI6ICIxMDAlIn0pOwoKICAgICAgICAKICAgICAgICAgICAgdmFyIGh0bWxfN2I5YzVlYzBjNTczNDk3YWFmOTQ3M2ZhNTE5NDhlZTQgPSAkKGA8ZGl2IGlkPSJodG1sXzdiOWM1ZWMwYzU3MzQ5N2FhZjk0NzNmYTUxOTQ4ZWU0IiBzdHlsZT0id2lkdGg6IDEwMC4wJTsgaGVpZ2h0OiAxMDAuMCU7Ij5IdWxoYSBOZWdyYTwvZGl2PmApWzBdOwogICAgICAgICAgICBwb3B1cF9lYTllZmZhOGQwMzA0YWZiYTdlYTUwZWNkZDVjNDE0MS5zZXRDb250ZW50KGh0bWxfN2I5YzVlYzBjNTczNDk3YWFmOTQ3M2ZhNTE5NDhlZTQpOwogICAgICAgIAoKICAgICAgICBtYXJrZXJfZjA5YTNiNmJiZjZmNGVmYmJlYTRmNzE5NzBhZWRmYzQuYmluZFBvcHVwKHBvcHVwX2VhOWVmZmE4ZDAzMDRhZmJhN2VhNTBlY2RkNWM0MTQxKQogICAgICAgIDsKCiAgICAgICAgCiAgICAKICAgIAogICAgICAgICAgICB2YXIgbWFya2VyXzBmNzEwYmEyYjgwMDQ2YjdhYmYyOTFmMTQxMTBjNDJkID0gTC5tYXJrZXIoCiAgICAgICAgICAgICAgICBbLTI5LjAyMTk5OTk5OTk5LCAtNTMuMDUzNjk5OTk5OTg5OTk1XSwKICAgICAgICAgICAgICAgIHt9CiAgICAgICAgICAgICkuYWRkVG8obWFwX2RjNGU4ZGJhOTVlNDRiOWJhNWIwNjdlN2QwNDVjZGNhKTsKICAgICAgICAKICAgIAogICAgICAgICAgICB2YXIgaWNvbl80MDc2MzkxYmRiMGM0N2Q2YTI0MjJlMGZkNTAyMjhjMCA9IEwuQXdlc29tZU1hcmtlcnMuaWNvbigKICAgICAgICAgICAgICAgIHsiZXh0cmFDbGFzc2VzIjogImZhLXJvdGF0ZS0wIiwgImljb24iOiAiaW5mby1zaWduIiwgImljb25Db2xvciI6ICJ3aGl0ZSIsICJtYXJrZXJDb2xvciI6ICJyZWQiLCAicHJlZml4IjogImdseXBoaWNvbiJ9CiAgICAgICAgICAgICk7CiAgICAgICAgICAgIG1hcmtlcl8wZjcxMGJhMmI4MDA0NmI3YWJmMjkxZjE0MTEwYzQyZC5zZXRJY29uKGljb25fNDA3NjM5MWJkYjBjNDdkNmEyNDIyZTBmZDUwMjI4YzApOwogICAgICAgIAogICAgCiAgICAgICAgdmFyIHBvcHVwX2NlNTYxMTkzMmQzODQwY2M5ZjY3YTI5MTFlN2QyZTE1ID0gTC5wb3B1cCh7Im1heFdpZHRoIjogIjEwMCUifSk7CgogICAgICAgIAogICAgICAgICAgICB2YXIgaHRtbF80MTZiZDhiM2JhNjU0YTQ5YmQ0MWYyNjMxMDJkYjM3MiA9ICQoYDxkaXYgaWQ9Imh0bWxfNDE2YmQ4YjNiYTY1NGE0OWJkNDFmMjYzMTAyZGIzNzIiIHN0eWxlPSJ3aWR0aDogMTAwLjAlOyBoZWlnaHQ6IDEwMC4wJTsiPkphY3VpemluaG88L2Rpdj5gKVswXTsKICAgICAgICAgICAgcG9wdXBfY2U1NjExOTMyZDM4NDBjYzlmNjdhMjkxMWU3ZDJlMTUuc2V0Q29udGVudChodG1sXzQxNmJkOGIzYmE2NTRhNDliZDQxZjI2MzEwMmRiMzcyKTsKICAgICAgICAKCiAgICAgICAgbWFya2VyXzBmNzEwYmEyYjgwMDQ2YjdhYmYyOTFmMTQxMTBjNDJkLmJpbmRQb3B1cChwb3B1cF9jZTU2MTE5MzJkMzg0MGNjOWY2N2EyOTExZTdkMmUxNSkKICAgICAgICA7CgogICAgICAgIAogICAgCiAgICAKICAgICAgICAgICAgdmFyIG1hcmtlcl9jODc3NDI4NTE1NzU0Mzc5YmFlNmRkYWYyYjIzYTI5OCA9IEwubWFya2VyKAogICAgICAgICAgICAgICAgWy0zMC44MDcwOTk5OTk5OSwgLTUzLjg5MzA5OTk5OTk4OTk5XSwKICAgICAgICAgICAgICAgIHt9CiAgICAgICAgICAgICkuYWRkVG8obWFwX2RjNGU4ZGJhOTVlNDRiOWJhNWIwNjdlN2QwNDVjZGNhKTsKICAgICAgICAKICAgIAogICAgICAgICAgICB2YXIgaWNvbl9kYmE1Mzg0ODhhNzk0YmQ3YWZhYWRiNjM4ZGFlNTM5OCA9IEwuQXdlc29tZU1hcmtlcnMuaWNvbigKICAgICAgICAgICAgICAgIHsiZXh0cmFDbGFzc2VzIjogImZhLXJvdGF0ZS0wIiwgImljb24iOiAiaW5mby1zaWduIiwgImljb25Db2xvciI6ICJ3aGl0ZSIsICJtYXJrZXJDb2xvciI6ICJyZWQiLCAicHJlZml4IjogImdseXBoaWNvbiJ9CiAgICAgICAgICAgICk7CiAgICAgICAgICAgIG1hcmtlcl9jODc3NDI4NTE1NzU0Mzc5YmFlNmRkYWYyYjIzYTI5OC5zZXRJY29uKGljb25fZGJhNTM4NDg4YTc5NGJkN2FmYWFkYjYzOGRhZTUzOTgpOwogICAgICAgIAogICAgCiAgICAgICAgdmFyIHBvcHVwX2M0ZDAzMTM0NjJiNzQ0Y2JiODlmZDFiY2YxYWIwZTBmID0gTC5wb3B1cCh7Im1heFdpZHRoIjogIjEwMCUifSk7CgogICAgICAgIAogICAgICAgICAgICB2YXIgaHRtbF8zMmI3YzNlZjUzZDM0NTYxYjQxOTE5OGFmMWU3MzZhNyA9ICQoYDxkaXYgaWQ9Imh0bWxfMzJiN2MzZWY1M2QzNDU2MWI0MTkxOThhZjFlNzM2YTciIHN0eWxlPSJ3aWR0aDogMTAwLjAlOyBoZWlnaHQ6IDEwMC4wJTsiPkxhdnJhcyBkbyBTdWw8L2Rpdj5gKVswXTsKICAgICAgICAgICAgcG9wdXBfYzRkMDMxMzQ2MmI3NDRjYmI4OWZkMWJjZjFhYjBlMGYuc2V0Q29udGVudChodG1sXzMyYjdjM2VmNTNkMzQ1NjFiNDE5MTk4YWYxZTczNmE3KTsKICAgICAgICAKCiAgICAgICAgbWFya2VyX2M4Nzc0Mjg1MTU3NTQzNzliYWU2ZGRhZjJiMjNhMjk4LmJpbmRQb3B1cChwb3B1cF9jNGQwMzEzNDYyYjc0NGNiYjg5ZmQxYmNmMWFiMGUwZikKICAgICAgICA7CgogICAgICAgIAogICAgCiAgICAKICAgICAgICAgICAgdmFyIG1hcmtlcl80Mzk5ZjFmZjYyZjA0YThkYTlhNjU5YTdkMjJlNzJiZiA9IEwubWFya2VyKAogICAgICAgICAgICAgICAgWy0zMS43MjE2OTk5OTk5OSwgLTUzLjU4Mzc5OTk5OTk5XSwKICAgICAgICAgICAgICAgIHt9CiAgICAgICAgICAgICkuYWRkVG8obWFwX2RjNGU4ZGJhOTVlNDRiOWJhNWIwNjdlN2QwNDVjZGNhKTsKICAgICAgICAKICAgIAogICAgICAgICAgICB2YXIgaWNvbl8xNmMzOWJlODlhOTM0MWVlOTVhODg4OGViODgzNDNjMSA9IEwuQXdlc29tZU1hcmtlcnMuaWNvbigKICAgICAgICAgICAgICAgIHsiZXh0cmFDbGFzc2VzIjogImZhLXJvdGF0ZS0wIiwgImljb24iOiAiaW5mby1zaWduIiwgImljb25Db2xvciI6ICJ3aGl0ZSIsICJtYXJrZXJDb2xvciI6ICJyZWQiLCAicHJlZml4IjogImdseXBoaWNvbiJ9CiAgICAgICAgICAgICk7CiAgICAgICAgICAgIG1hcmtlcl80Mzk5ZjFmZjYyZjA0YThkYTlhNjU5YTdkMjJlNzJiZi5zZXRJY29uKGljb25fMTZjMzliZTg5YTkzNDFlZTk1YTg4ODhlYjg4MzQzYzEpOwogICAgICAgIAogICAgCiAgICAgICAgdmFyIHBvcHVwXzQ5YWM3YWMyNmU3NTRkYmJiN2MyMWI3OTBjNzdlOTk1ID0gTC5wb3B1cCh7Im1heFdpZHRoIjogIjEwMCUifSk7CgogICAgICAgIAogICAgICAgICAgICB2YXIgaHRtbF9lZDZhMmMzZjkxNWE0ODVmYjZjNDdkOGZmZTFhOWU2ZiA9ICQoYDxkaXYgaWQ9Imh0bWxfZWQ2YTJjM2Y5MTVhNDg1ZmI2YzQ3ZDhmZmUxYTllNmYiIHN0eWxlPSJ3aWR0aDogMTAwLjAlOyBoZWlnaHQ6IDEwMC4wJTsiPlBlZHJhcyBBbHRhczwvZGl2PmApWzBdOwogICAgICAgICAgICBwb3B1cF80OWFjN2FjMjZlNzU0ZGJiYjdjMjFiNzkwYzc3ZTk5NS5zZXRDb250ZW50KGh0bWxfZWQ2YTJjM2Y5MTVhNDg1ZmI2YzQ3ZDhmZmUxYTllNmYpOwogICAgICAgIAoKICAgICAgICBtYXJrZXJfNDM5OWYxZmY2MmYwNGE4ZGE5YTY1OWE3ZDIyZTcyYmYuYmluZFBvcHVwKHBvcHVwXzQ5YWM3YWMyNmU3NTRkYmJiN2MyMWI3OTBjNzdlOTk1KQogICAgICAgIDsKCiAgICAgICAgCiAgICAKICAgIAogICAgICAgICAgICB2YXIgbWFya2VyX2M5ODk2NDZhNzVmNTQzNWM5MDY2YWE5MjZhNjE5MzQ0ID0gTC5tYXJrZXIoCiAgICAgICAgICAgICAgICBbLTMxLjU3OTQsIC01My4zNzk4XSwKICAgICAgICAgICAgICAgIHt9CiAgICAgICAgICAgICkuYWRkVG8obWFwX2RjNGU4ZGJhOTVlNDRiOWJhNWIwNjdlN2QwNDVjZGNhKTsKICAgICAgICAKICAgIAogICAgICAgICAgICB2YXIgaWNvbl82N2VlOWZkNzVlMmI0ZjQ0OTNhNGQ5ZTVlZDg3YmQyYSA9IEwuQXdlc29tZU1hcmtlcnMuaWNvbigKICAgICAgICAgICAgICAgIHsiZXh0cmFDbGFzc2VzIjogImZhLXJvdGF0ZS0wIiwgImljb24iOiAiaW5mby1zaWduIiwgImljb25Db2xvciI6ICJ3aGl0ZSIsICJtYXJrZXJDb2xvciI6ICJyZWQiLCAicHJlZml4IjogImdseXBoaWNvbiJ9CiAgICAgICAgICAgICk7CiAgICAgICAgICAgIG1hcmtlcl9jOTg5NjQ2YTc1ZjU0MzVjOTA2NmFhOTI2YTYxOTM0NC5zZXRJY29uKGljb25fNjdlZTlmZDc1ZTJiNGY0NDkzYTRkOWU1ZWQ4N2JkMmEpOwogICAgICAgIAogICAgCiAgICAgICAgdmFyIHBvcHVwXzM5ZWIyNjEyY2I1ODQ2NmRhYmFhZjE3YTQ2YmE1NTBhID0gTC5wb3B1cCh7Im1heFdpZHRoIjogIjEwMCUifSk7CgogICAgICAgIAogICAgICAgICAgICB2YXIgaHRtbF8zYWRhYTNlZmVlZmM0NmI1YjNjODU4NWNhNTg1YjRlYiA9ICQoYDxkaXYgaWQ9Imh0bWxfM2FkYWEzZWZlZWZjNDZiNWIzYzg1ODVjYTU4NWI0ZWIiIHN0eWxlPSJ3aWR0aDogMTAwLjAlOyBoZWlnaHQ6IDEwMC4wJTsiPlBpbmhlaXJvIE1hY2hhZG88L2Rpdj5gKVswXTsKICAgICAgICAgICAgcG9wdXBfMzllYjI2MTJjYjU4NDY2ZGFiYWFmMTdhNDZiYTU1MGEuc2V0Q29udGVudChodG1sXzNhZGFhM2VmZWVmYzQ2YjViM2M4NTg1Y2E1ODViNGViKTsKICAgICAgICAKCiAgICAgICAgbWFya2VyX2M5ODk2NDZhNzVmNTQzNWM5MDY2YWE5MjZhNjE5MzQ0LmJpbmRQb3B1cChwb3B1cF8zOWViMjYxMmNiNTg0NjZkYWJhYWYxN2E0NmJhNTUwYSkKICAgICAgICA7CgogICAgICAgIAogICAgCiAgICAKICAgICAgICAgICAgdmFyIG1hcmtlcl83NWY2YzJlODY0ZTc0N2Y5OTg2MTE1Mzk0ZjBmMTQyMCA9IEwubWFya2VyKAogICAgICAgICAgICAgICAgWy0yNy44MTYyOTk5OTk5OSwgLTUyLjQ0MTg5OTk5OTk4OTk5XSwKICAgICAgICAgICAgICAgIHt9CiAgICAgICAgICAgICkuYWRkVG8obWFwX2RjNGU4ZGJhOTVlNDRiOWJhNWIwNjdlN2QwNDVjZGNhKTsKICAgICAgICAKICAgIAogICAgICAgICAgICB2YXIgaWNvbl9jOThjZTM0MjE1NDk0NzFiYWEyOTEwNDNkNzgwMTY4MSA9IEwuQXdlc29tZU1hcmtlcnMuaWNvbigKICAgICAgICAgICAgICAgIHsiZXh0cmFDbGFzc2VzIjogImZhLXJvdGF0ZS0wIiwgImljb24iOiAiaW5mby1zaWduIiwgImljb25Db2xvciI6ICJ3aGl0ZSIsICJtYXJrZXJDb2xvciI6ICJyZWQiLCAicHJlZml4IjogImdseXBoaWNvbiJ9CiAgICAgICAgICAgICk7CiAgICAgICAgICAgIG1hcmtlcl83NWY2YzJlODY0ZTc0N2Y5OTg2MTE1Mzk0ZjBmMTQyMC5zZXRJY29uKGljb25fYzk4Y2UzNDIxNTQ5NDcxYmFhMjkxMDQzZDc4MDE2ODEpOwogICAgICAgIAogICAgCiAgICAgICAgdmFyIHBvcHVwX2RjZjhkNDlmZjhjYzQ2MmVhYWMxNWJlNzY5YzVjMzNiID0gTC5wb3B1cCh7Im1heFdpZHRoIjogIjEwMCUifSk7CgogICAgICAgIAogICAgICAgICAgICB2YXIgaHRtbF8zOWFmMTJlMGM5MTQ0ZmRiODQxNjUyMWIyZWU3MzNmOCA9ICQoYDxkaXYgaWQ9Imh0bWxfMzlhZjEyZTBjOTE0NGZkYjg0MTY1MjFiMmVlNzMzZjgiIHN0eWxlPSJ3aWR0aDogMTAwLjAlOyBoZWlnaHQ6IDEwMC4wJTsiPlF1YXRybyBJcm3Do29zPC9kaXY+YClbMF07CiAgICAgICAgICAgIHBvcHVwX2RjZjhkNDlmZjhjYzQ2MmVhYWMxNWJlNzY5YzVjMzNiLnNldENvbnRlbnQoaHRtbF8zOWFmMTJlMGM5MTQ0ZmRiODQxNjUyMWIyZWU3MzNmOCk7CiAgICAgICAgCgogICAgICAgIG1hcmtlcl83NWY2YzJlODY0ZTc0N2Y5OTg2MTE1Mzk0ZjBmMTQyMC5iaW5kUG9wdXAocG9wdXBfZGNmOGQ0OWZmOGNjNDYyZWFhYzE1YmU3NjljNWMzM2IpCiAgICAgICAgOwoKICAgICAgICAKICAgIAogICAgCiAgICAgICAgICAgIHZhciBtYXJrZXJfMjk2NWRhMTQwY2U3NDY1NWIyZmNiMzc1OWU4M2YxZGYgPSBMLm1hcmtlcigKICAgICAgICAgICAgICAgIFstMzMuNTI0OTk5OTk5OTksIC01My4zNzE2OTk5OTk5ODk5OV0sCiAgICAgICAgICAgICAgICB7fQogICAgICAgICAgICApLmFkZFRvKG1hcF9kYzRlOGRiYTk1ZTQ0YjliYTViMDY3ZTdkMDQ1Y2RjYSk7CiAgICAgICAgCiAgICAKICAgICAgICAgICAgdmFyIGljb25fM2M0OWU0ZTE5NTVlNDA0YThjMGQ0YjdjZDdhNzdhOWMgPSBMLkF3ZXNvbWVNYXJrZXJzLmljb24oCiAgICAgICAgICAgICAgICB7ImV4dHJhQ2xhc3NlcyI6ICJmYS1yb3RhdGUtMCIsICJpY29uIjogImluZm8tc2lnbiIsICJpY29uQ29sb3IiOiAid2hpdGUiLCAibWFya2VyQ29sb3IiOiAicmVkIiwgInByZWZpeCI6ICJnbHlwaGljb24ifQogICAgICAgICAgICApOwogICAgICAgICAgICBtYXJrZXJfMjk2NWRhMTQwY2U3NDY1NWIyZmNiMzc1OWU4M2YxZGYuc2V0SWNvbihpY29uXzNjNDllNGUxOTU1ZTQwNGE4YzBkNGI3Y2Q3YTc3YTljKTsKICAgICAgICAKICAgIAogICAgICAgIHZhciBwb3B1cF8zODlmNDYxNTk5MTA0YjcxYTc0MDVhZWNmMWZhMjVhOSA9IEwucG9wdXAoeyJtYXhXaWR0aCI6ICIxMDAlIn0pOwoKICAgICAgICAKICAgICAgICAgICAgdmFyIGh0bWxfOTJkN2M5MDU1YzBiNGQ5ZTgzMmNkMDgxMTBmYTFhMGQgPSAkKGA8ZGl2IGlkPSJodG1sXzkyZDdjOTA1NWMwYjRkOWU4MzJjZDA4MTEwZmExYTBkIiBzdHlsZT0id2lkdGg6IDEwMC4wJTsgaGVpZ2h0OiAxMDAuMCU7Ij5TYW50YSBWaXTDs3JpYSBkbyBQYWxtYXI8L2Rpdj5gKVswXTsKICAgICAgICAgICAgcG9wdXBfMzg5ZjQ2MTU5OTEwNGI3MWE3NDA1YWVjZjFmYTI1YTkuc2V0Q29udGVudChodG1sXzkyZDdjOTA1NWMwYjRkOWU4MzJjZDA4MTEwZmExYTBkKTsKICAgICAgICAKCiAgICAgICAgbWFya2VyXzI5NjVkYTE0MGNlNzQ2NTViMmZjYjM3NTllODNmMWRmLmJpbmRQb3B1cChwb3B1cF8zODlmNDYxNTk5MTA0YjcxYTc0MDVhZWNmMWZhMjVhOSkKICAgICAgICA7CgogICAgICAgIAogICAgCiAgICAKICAgICAgICAgICAgdmFyIG1hcmtlcl8xYTI4OGViMDI5MjI0MWM0YTFjYzY5NTkwZGE4YTJhZCA9IEwubWFya2VyKAogICAgICAgICAgICAgICAgWy0zMi4wMTUwOTk5OTk5OSwgLTUyLjAzMzA5OTk5OTk4OTk5XSwKICAgICAgICAgICAgICAgIHt9CiAgICAgICAgICAgICkuYWRkVG8obWFwX2RjNGU4ZGJhOTVlNDRiOWJhNWIwNjdlN2QwNDVjZGNhKTsKICAgICAgICAKICAgIAogICAgICAgICAgICB2YXIgaWNvbl8xODE4ZGIwNTU5MDY0MjBlYTFhOGIzNmYyNmI3MDVmZCA9IEwuQXdlc29tZU1hcmtlcnMuaWNvbigKICAgICAgICAgICAgICAgIHsiZXh0cmFDbGFzc2VzIjogImZhLXJvdGF0ZS0wIiwgImljb24iOiAiaW5mby1zaWduIiwgImljb25Db2xvciI6ICJ3aGl0ZSIsICJtYXJrZXJDb2xvciI6ICJyZWQiLCAicHJlZml4IjogImdseXBoaWNvbiJ9CiAgICAgICAgICAgICk7CiAgICAgICAgICAgIG1hcmtlcl8xYTI4OGViMDI5MjI0MWM0YTFjYzY5NTkwZGE4YTJhZC5zZXRJY29uKGljb25fMTgxOGRiMDU1OTA2NDIwZWExYThiMzZmMjZiNzA1ZmQpOwogICAgICAgIAogICAgCiAgICAgICAgdmFyIHBvcHVwX2NiMmYwYjllOWNjOTQ0YTJhMGY1MjdmNjBiOTgxZTA5ID0gTC5wb3B1cCh7Im1heFdpZHRoIjogIjEwMCUifSk7CgogICAgICAgIAogICAgICAgICAgICB2YXIgaHRtbF8xNjBjNWY4Yzc1Mzk0N2M3OTZjZjBmOTM2ZjlkOTQyNyA9ICQoYDxkaXYgaWQ9Imh0bWxfMTYwYzVmOGM3NTM5NDdjNzk2Y2YwZjkzNmY5ZDk0MjciIHN0eWxlPSJ3aWR0aDogMTAwLjAlOyBoZWlnaHQ6IDEwMC4wJTsiPlPDo28gSm9zw6kgZG8gTm9ydGU8L2Rpdj5gKVswXTsKICAgICAgICAgICAgcG9wdXBfY2IyZjBiOWU5Y2M5NDRhMmEwZjUyN2Y2MGI5ODFlMDkuc2V0Q29udGVudChodG1sXzE2MGM1ZjhjNzUzOTQ3Yzc5NmNmMGY5MzZmOWQ5NDI3KTsKICAgICAgICAKCiAgICAgICAgbWFya2VyXzFhMjg4ZWIwMjkyMjQxYzRhMWNjNjk1OTBkYThhMmFkLmJpbmRQb3B1cChwb3B1cF9jYjJmMGI5ZTljYzk0NGEyYTBmNTI3ZjYwYjk4MWUwOSkKICAgICAgICA7CgogICAgICAgIAogICAgCiAgICAKICAgICAgICAgICAgdmFyIG1hcmtlcl8xNzk2NTkxZWZmZDA0ZDVjYWJlYzM0MjlhZWFmNzI3ZCA9IEwubWFya2VyKAogICAgICAgICAgICAgICAgWy0yNy43NzMyMTk5OTk5OSwgLTUzLjI1MDQ3XSwKICAgICAgICAgICAgICAgIHt9CiAgICAgICAgICAgICkuYWRkVG8obWFwX2RjNGU4ZGJhOTVlNDRiOWJhNWIwNjdlN2QwNDVjZGNhKTsKICAgICAgICAKICAgIAogICAgICAgICAgICB2YXIgaWNvbl81NGNkNTAwOGUwODk0NWQ3OWE0YmZlOWIxYmFkYzhkNCA9IEwuQXdlc29tZU1hcmtlcnMuaWNvbigKICAgICAgICAgICAgICAgIHsiZXh0cmFDbGFzc2VzIjogImZhLXJvdGF0ZS0wIiwgImljb24iOiAiaW5mby1zaWduIiwgImljb25Db2xvciI6ICJ3aGl0ZSIsICJtYXJrZXJDb2xvciI6ICJyZWQiLCAicHJlZml4IjogImdseXBoaWNvbiJ9CiAgICAgICAgICAgICk7CiAgICAgICAgICAgIG1hcmtlcl8xNzk2NTkxZWZmZDA0ZDVjYWJlYzM0MjlhZWFmNzI3ZC5zZXRJY29uKGljb25fNTRjZDUwMDhlMDg5NDVkNzlhNGJmZTliMWJhZGM4ZDQpOwogICAgICAgIAogICAgCiAgICAgICAgdmFyIHBvcHVwXzFlYWY2Y2RjN2VlOTRkNDNiZWM3NzMxNDA5NmJlMmY0ID0gTC5wb3B1cCh7Im1heFdpZHRoIjogIjEwMCUifSk7CgogICAgICAgIAogICAgICAgICAgICB2YXIgaHRtbF84ZDc4NzM3MzEwZWY0MjIwODA3MzhmOGQ0ZGQzZDAyYiA9ICQoYDxkaXYgaWQ9Imh0bWxfOGQ3ODczNzMxMGVmNDIyMDgwNzM4ZjhkNGRkM2QwMmIiIHN0eWxlPSJ3aWR0aDogMTAwLjAlOyBoZWlnaHQ6IDEwMC4wJTsiPlPDo28gUGVkcm8gZGFzIE1pc3PDtWVzPC9kaXY+YClbMF07CiAgICAgICAgICAgIHBvcHVwXzFlYWY2Y2RjN2VlOTRkNDNiZWM3NzMxNDA5NmJlMmY0LnNldENvbnRlbnQoaHRtbF84ZDc4NzM3MzEwZWY0MjIwODA3MzhmOGQ0ZGQzZDAyYik7CiAgICAgICAgCgogICAgICAgIG1hcmtlcl8xNzk2NTkxZWZmZDA0ZDVjYWJlYzM0MjlhZWFmNzI3ZC5iaW5kUG9wdXAocG9wdXBfMWVhZjZjZGM3ZWU5NGQ0M2JlYzc3MzE0MDk2YmUyZjQpCiAgICAgICAgOwoKICAgICAgICAKICAgIAogICAgCiAgICAgICAgICAgIHZhciBtYXJrZXJfMTMwYjVlYTZkMzc5NGM0ZTlkZTU3NThhODBlM2QzZTAgPSBMLm1hcmtlcigKICAgICAgICAgICAgICAgIFstMjcuNzkwNiwgLTUzLjkzNjc5OTk5OTk4OTk5NF0sCiAgICAgICAgICAgICAgICB7fQogICAgICAgICAgICApLmFkZFRvKG1hcF9kYzRlOGRiYTk1ZTQ0YjliYTViMDY3ZTdkMDQ1Y2RjYSk7CiAgICAgICAgCiAgICAKICAgICAgICAgICAgdmFyIGljb25fZmZiN2M1YjRlN2M3NDM3NTgwYTRiZGQyMzgxMjJiYTIgPSBMLkF3ZXNvbWVNYXJrZXJzLmljb24oCiAgICAgICAgICAgICAgICB7ImV4dHJhQ2xhc3NlcyI6ICJmYS1yb3RhdGUtMCIsICJpY29uIjogImluZm8tc2lnbiIsICJpY29uQ29sb3IiOiAid2hpdGUiLCAibWFya2VyQ29sb3IiOiAicmVkIiwgInByZWZpeCI6ICJnbHlwaGljb24ifQogICAgICAgICAgICApOwogICAgICAgICAgICBtYXJrZXJfMTMwYjVlYTZkMzc5NGM0ZTlkZTU3NThhODBlM2QzZTAuc2V0SWNvbihpY29uX2ZmYjdjNWI0ZTdjNzQzNzU4MGE0YmRkMjM4MTIyYmEyKTsKICAgICAgICAKICAgIAogICAgICAgIHZhciBwb3B1cF9hOTllZTA0MmZmNmE0M2Q0OWM1ZjM0NWQ5NDJiODEyMCA9IEwucG9wdXAoeyJtYXhXaWR0aCI6ICIxMDAlIn0pOwoKICAgICAgICAKICAgICAgICAgICAgdmFyIGh0bWxfNGI3OTI2YzU5ZjVmNDEyMzgxMzc0NzY3ODZmNTE0NzUgPSAkKGA8ZGl2IGlkPSJodG1sXzRiNzkyNmM1OWY1ZjQxMjM4MTM3NDc2Nzg2ZjUxNDc1IiBzdHlsZT0id2lkdGg6IDEwMC4wJTsgaGVpZ2h0OiAxMDAuMCU7Ij5Tw6NvIFZhbMOpcmlvIGRvIFN1bDwvZGl2PmApWzBdOwogICAgICAgICAgICBwb3B1cF9hOTllZTA0MmZmNmE0M2Q0OWM1ZjM0NWQ5NDJiODEyMC5zZXRDb250ZW50KGh0bWxfNGI3OTI2YzU5ZjVmNDEyMzgxMzc0NzY3ODZmNTE0NzUpOwogICAgICAgIAoKICAgICAgICBtYXJrZXJfMTMwYjVlYTZkMzc5NGM0ZTlkZTU3NThhODBlM2QzZTAuYmluZFBvcHVwKHBvcHVwX2E5OWVlMDQyZmY2YTQzZDQ5YzVmMzQ1ZDk0MmI4MTIwKQogICAgICAgIDsKCiAgICAgICAgCiAgICAKICAgIAogICAgICAgICAgICB2YXIgbWFya2VyX2RjOTlkNDE2ZTdmZTQxNjJiZmI3ZTIzYTI1Mzg4ODdiID0gTC5tYXJrZXIoCiAgICAgICAgICAgICAgICBbLTMwLjkwOTMsIC01MS41MDQ2XSwKICAgICAgICAgICAgICAgIHt9CiAgICAgICAgICAgICkuYWRkVG8obWFwX2RjNGU4ZGJhOTVlNDRiOWJhNWIwNjdlN2QwNDVjZGNhKTsKICAgICAgICAKICAgIAogICAgICAgICAgICB2YXIgaWNvbl82M2Y1ZDc5MzlmNmQ0ODJjYmQxOWFhZGQ4YzY3ZmI3ZCA9IEwuQXdlc29tZU1hcmtlcnMuaWNvbigKICAgICAgICAgICAgICAgIHsiZXh0cmFDbGFzc2VzIjogImZhLXJvdGF0ZS0wIiwgImljb24iOiAiaW5mby1zaWduIiwgImljb25Db2xvciI6ICJ3aGl0ZSIsICJtYXJrZXJDb2xvciI6ICJyZWQiLCAicHJlZml4IjogImdseXBoaWNvbiJ9CiAgICAgICAgICAgICk7CiAgICAgICAgICAgIG1hcmtlcl9kYzk5ZDQxNmU3ZmU0MTYyYmZiN2UyM2EyNTM4ODg3Yi5zZXRJY29uKGljb25fNjNmNWQ3OTM5ZjZkNDgyY2JkMTlhYWRkOGM2N2ZiN2QpOwogICAgICAgIAogICAgCiAgICAgICAgdmFyIHBvcHVwX2IxODZjMTA1ODExMjRlNjFiZmFmNjFmMDE5NmRiN2RjID0gTC5wb3B1cCh7Im1heFdpZHRoIjogIjEwMCUifSk7CgogICAgICAgIAogICAgICAgICAgICB2YXIgaHRtbF80OGYwNDVjYzcyMzk0ZGUwOGU1NWFjNDc2ZTUyNzI3OSA9ICQoYDxkaXYgaWQ9Imh0bWxfNDhmMDQ1Y2M3MjM5NGRlMDhlNTVhYzQ3NmU1MjcyNzkiIHN0eWxlPSJ3aWR0aDogMTAwLjAlOyBoZWlnaHQ6IDEwMC4wJTsiPkFyYW1iYXLDqTwvZGl2PmApWzBdOwogICAgICAgICAgICBwb3B1cF9iMTg2YzEwNTgxMTI0ZTYxYmZhZjYxZjAxOTZkYjdkYy5zZXRDb250ZW50KGh0bWxfNDhmMDQ1Y2M3MjM5NGRlMDhlNTVhYzQ3NmU1MjcyNzkpOwogICAgICAgIAoKICAgICAgICBtYXJrZXJfZGM5OWQ0MTZlN2ZlNDE2MmJmYjdlMjNhMjUzODg4N2IuYmluZFBvcHVwKHBvcHVwX2IxODZjMTA1ODExMjRlNjFiZmFmNjFmMDE5NmRiN2RjKQogICAgICAgIDsKCiAgICAgICAgCiAgICAKICAgIAogICAgICAgICAgICB2YXIgbWFya2VyX2UwNDViOWI0ZTFjOTRkN2FhZTlhMDRlOTQ5NDdlNmQ1ID0gTC5tYXJrZXIoCiAgICAgICAgICAgICAgICBbLTMwLjI0MTksIC01MC4yMzM2XSwKICAgICAgICAgICAgICAgIHt9CiAgICAgICAgICAgICkuYWRkVG8obWFwX2RjNGU4ZGJhOTVlNDRiOWJhNWIwNjdlN2QwNDVjZGNhKTsKICAgICAgICAKICAgIAogICAgICAgICAgICB2YXIgaWNvbl8zMTIwZDY5NGI1ZjQ0ODBkOTE0MmI0ZDgzMTc0YmQxZSA9IEwuQXdlc29tZU1hcmtlcnMuaWNvbigKICAgICAgICAgICAgICAgIHsiZXh0cmFDbGFzc2VzIjogImZhLXJvdGF0ZS0wIiwgImljb24iOiAiaW5mby1zaWduIiwgImljb25Db2xvciI6ICJ3aGl0ZSIsICJtYXJrZXJDb2xvciI6ICJyZWQiLCAicHJlZml4IjogImdseXBoaWNvbiJ9CiAgICAgICAgICAgICk7CiAgICAgICAgICAgIG1hcmtlcl9lMDQ1YjliNGUxYzk0ZDdhYWU5YTA0ZTk0OTQ3ZTZkNS5zZXRJY29uKGljb25fMzEyMGQ2OTRiNWY0NDgwZDkxNDJiNGQ4MzE3NGJkMWUpOwogICAgICAgIAogICAgCiAgICAgICAgdmFyIHBvcHVwX2M1MDllNDJiOTNjNTQ1YjQ5OGY1NmEyY2M0MjQxYTJlID0gTC5wb3B1cCh7Im1heFdpZHRoIjogIjEwMCUifSk7CgogICAgICAgIAogICAgICAgICAgICB2YXIgaHRtbF83YTQ4ODMyMTRhMzM0YWQzYTY1ZTI5N2Y5YWIwNTY3MyA9ICQoYDxkaXYgaWQ9Imh0bWxfN2E0ODgzMjE0YTMzNGFkM2E2NWUyOTdmOWFiMDU2NzMiIHN0eWxlPSJ3aWR0aDogMTAwLjAlOyBoZWlnaHQ6IDEwMC4wJTsiPkJhbG5lw6FyaW8gUGluaGFsPC9kaXY+YClbMF07CiAgICAgICAgICAgIHBvcHVwX2M1MDllNDJiOTNjNTQ1YjQ5OGY1NmEyY2M0MjQxYTJlLnNldENvbnRlbnQoaHRtbF83YTQ4ODMyMTRhMzM0YWQzYTY1ZTI5N2Y5YWIwNTY3Myk7CiAgICAgICAgCgogICAgICAgIG1hcmtlcl9lMDQ1YjliNGUxYzk0ZDdhYWU5YTA0ZTk0OTQ3ZTZkNS5iaW5kUG9wdXAocG9wdXBfYzUwOWU0MmI5M2M1NDViNDk4ZjU2YTJjYzQyNDFhMmUpCiAgICAgICAgOwoKICAgICAgICAKICAgIAogICAgCiAgICAgICAgICAgIHZhciBtYXJrZXJfNTE5MGRhZmQ5MzViNDJmYmJhMDEyZTM0NmYzNTgxNTIgPSBMLm1hcmtlcigKICAgICAgICAgICAgICAgIFstMzAuMjAyOSwgLTU3LjU0OTddLAogICAgICAgICAgICAgICAge30KICAgICAgICAgICAgKS5hZGRUbyhtYXBfZGM0ZThkYmE5NWU0NGI5YmE1YjA2N2U3ZDA0NWNkY2EpOwogICAgICAgIAogICAgCiAgICAgICAgICAgIHZhciBpY29uX2VlNGYxOWJiOTNjNjQ1MzJhY2IwMWQxYzNhNmUyNjMwID0gTC5Bd2Vzb21lTWFya2Vycy5pY29uKAogICAgICAgICAgICAgICAgeyJleHRyYUNsYXNzZXMiOiAiZmEtcm90YXRlLTAiLCAiaWNvbiI6ICJpbmZvLXNpZ24iLCAiaWNvbkNvbG9yIjogIndoaXRlIiwgIm1hcmtlckNvbG9yIjogInJlZCIsICJwcmVmaXgiOiAiZ2x5cGhpY29uIn0KICAgICAgICAgICAgKTsKICAgICAgICAgICAgbWFya2VyXzUxOTBkYWZkOTM1YjQyZmJiYTAxMmUzNDZmMzU4MTUyLnNldEljb24oaWNvbl9lZTRmMTliYjkzYzY0NTMyYWNiMDFkMWMzYTZlMjYzMCk7CiAgICAgICAgCiAgICAKICAgICAgICB2YXIgcG9wdXBfNTgxNTE1YTljNGI5NDA1YjhiYjUyNmE1OTliMDRmN2EgPSBMLnBvcHVwKHsibWF4V2lkdGgiOiAiMTAwJSJ9KTsKCiAgICAgICAgCiAgICAgICAgICAgIHZhciBodG1sXzdlZDVhZmZlYmFjNzQ0YWVhYjc5YTgyMWI2ZDIxNWVkID0gJChgPGRpdiBpZD0iaHRtbF83ZWQ1YWZmZWJhYzc0NGFlYWI3OWE4MjFiNmQyMTVlZCIgc3R5bGU9IndpZHRoOiAxMDAuMCU7IGhlaWdodDogMTAwLjAlOyI+QmFycmEgZG8gUXVhcmHDrTwvZGl2PmApWzBdOwogICAgICAgICAgICBwb3B1cF81ODE1MTVhOWM0Yjk0MDViOGJiNTI2YTU5OWIwNGY3YS5zZXRDb250ZW50KGh0bWxfN2VkNWFmZmViYWM3NDRhZWFiNzlhODIxYjZkMjE1ZWQpOwogICAgICAgIAoKICAgICAgICBtYXJrZXJfNTE5MGRhZmQ5MzViNDJmYmJhMDEyZTM0NmYzNTgxNTIuYmluZFBvcHVwKHBvcHVwXzU4MTUxNWE5YzRiOTQwNWI4YmI1MjZhNTk5YjA0ZjdhKQogICAgICAgIDsKCiAgICAgICAgCiAgICAKICAgIAogICAgICAgICAgICB2YXIgbWFya2VyX2IxYzU0ZDMwZTU1ZjQ4YjhiNzhmNTRlNTc2ZTZmNDY0ID0gTC5tYXJrZXIoCiAgICAgICAgICAgICAgICBbLTI4LjI5MDUsIC01NC42NDU0XSwKICAgICAgICAgICAgICAgIHt9CiAgICAgICAgICAgICkuYWRkVG8obWFwX2RjNGU4ZGJhOTVlNDRiOWJhNWIwNjdlN2QwNDVjZGNhKTsKICAgICAgICAKICAgIAogICAgICAgICAgICB2YXIgaWNvbl9iZTMwNzI5Mjk5MmQ0MmEzODY0ZWEyNDJjODllZjY1ZSA9IEwuQXdlc29tZU1hcmtlcnMuaWNvbigKICAgICAgICAgICAgICAgIHsiZXh0cmFDbGFzc2VzIjogImZhLXJvdGF0ZS0wIiwgImljb24iOiAiaW5mby1zaWduIiwgImljb25Db2xvciI6ICJ3aGl0ZSIsICJtYXJrZXJDb2xvciI6ICJyZWQiLCAicHJlZml4IjogImdseXBoaWNvbiJ9CiAgICAgICAgICAgICk7CiAgICAgICAgICAgIG1hcmtlcl9iMWM1NGQzMGU1NWY0OGI4Yjc4ZjU0ZTU3NmU2ZjQ2NC5zZXRJY29uKGljb25fYmUzMDcyOTI5OTJkNDJhMzg2NGVhMjQyYzg5ZWY2NWUpOwogICAgICAgIAogICAgCiAgICAgICAgdmFyIHBvcHVwXzY1OGQxNjNkYmIwYjRiOTNhZDYwOWQ2ZGJlNmMwMWVkID0gTC5wb3B1cCh7Im1heFdpZHRoIjogIjEwMCUifSk7CgogICAgICAgIAogICAgICAgICAgICB2YXIgaHRtbF82ZDgxYjExYWNjZWE0N2Y3ODcwZTcxMDkxODFiN2NjNSA9ICQoYDxkaXYgaWQ9Imh0bWxfNmQ4MWIxMWFjY2VhNDdmNzg3MGU3MTA5MTgxYjdjYzUiIHN0eWxlPSJ3aWR0aDogMTAwLjAlOyBoZWlnaHQ6IDEwMC4wJTsiPkNhaWJhdMOpPC9kaXY+YClbMF07CiAgICAgICAgICAgIHBvcHVwXzY1OGQxNjNkYmIwYjRiOTNhZDYwOWQ2ZGJlNmMwMWVkLnNldENvbnRlbnQoaHRtbF82ZDgxYjExYWNjZWE0N2Y3ODcwZTcxMDkxODFiN2NjNSk7CiAgICAgICAgCgogICAgICAgIG1hcmtlcl9iMWM1NGQzMGU1NWY0OGI4Yjc4ZjU0ZTU3NmU2ZjQ2NC5iaW5kUG9wdXAocG9wdXBfNjU4ZDE2M2RiYjBiNGI5M2FkNjA5ZDZkYmU2YzAxZWQpCiAgICAgICAgOwoKICAgICAgICAKICAgIAogICAgCiAgICAgICAgICAgIHZhciBtYXJrZXJfNzFlYmE2YzAxZTgzNDg2YmFjODYyMTA4YjhiNjdmNDcgPSBMLm1hcmtlcigKICAgICAgICAgICAgICAgIFstMzEuNzU2NDk5OTk5OTksIC01Mi40ODg5XSwKICAgICAgICAgICAgICAgIHt9CiAgICAgICAgICAgICkuYWRkVG8obWFwX2RjNGU4ZGJhOTVlNDRiOWJhNWIwNjdlN2QwNDVjZGNhKTsKICAgICAgICAKICAgIAogICAgICAgICAgICB2YXIgaWNvbl9jNTZlOTljMDNhNGI0OWE0OTczNWY0N2EwYTIwM2NjYyA9IEwuQXdlc29tZU1hcmtlcnMuaWNvbigKICAgICAgICAgICAgICAgIHsiZXh0cmFDbGFzc2VzIjogImZhLXJvdGF0ZS0wIiwgImljb24iOiAiaW5mby1zaWduIiwgImljb25Db2xvciI6ICJ3aGl0ZSIsICJtYXJrZXJDb2xvciI6ICJyZWQiLCAicHJlZml4IjogImdseXBoaWNvbiJ9CiAgICAgICAgICAgICk7CiAgICAgICAgICAgIG1hcmtlcl83MWViYTZjMDFlODM0ODZiYWM4NjIxMDhiOGI2N2Y0Ny5zZXRJY29uKGljb25fYzU2ZTk5YzAzYTRiNDlhNDk3MzVmNDdhMGEyMDNjY2MpOwogICAgICAgIAogICAgCiAgICAgICAgdmFyIHBvcHVwXzUxMTJmMzNhNzhlZDRhZmM4NGVlNDhlNzcyZDA0Y2NkID0gTC5wb3B1cCh7Im1heFdpZHRoIjogIjEwMCUifSk7CgogICAgICAgIAogICAgICAgICAgICB2YXIgaHRtbF83YWQ5ZDY1YWFjZTY0ZTIzYTQ3MmYzY2M0ODc2ZjQyMiA9ICQoYDxkaXYgaWQ9Imh0bWxfN2FkOWQ2NWFhY2U2NGUyM2E0NzJmM2NjNDg3NmY0MjIiIHN0eWxlPSJ3aWR0aDogMTAwLjAlOyBoZWlnaHQ6IDEwMC4wJTsiPkNhcMOjbyBkbyBMZcOjbzwvZGl2PmApWzBdOwogICAgICAgICAgICBwb3B1cF81MTEyZjMzYTc4ZWQ0YWZjODRlZTQ4ZTc3MmQwNGNjZC5zZXRDb250ZW50KGh0bWxfN2FkOWQ2NWFhY2U2NGUyM2E0NzJmM2NjNDg3NmY0MjIpOwogICAgICAgIAoKICAgICAgICBtYXJrZXJfNzFlYmE2YzAxZTgzNDg2YmFjODYyMTA4YjhiNjdmNDcuYmluZFBvcHVwKHBvcHVwXzUxMTJmMzNhNzhlZDRhZmM4NGVlNDhlNzcyZDA0Y2NkKQogICAgICAgIDsKCiAgICAgICAgCiAgICAKICAgIAogICAgICAgICAgICB2YXIgbWFya2VyXzYyNzA5OGFjY2RjMDQzMDJiOTc0MmEwOWJlNTI2ZWJkID0gTC5tYXJrZXIoCiAgICAgICAgICAgICAgICBbLTMzLjY4NjU5OTk5OTk5LCAtNTMuNDU5NF0sCiAgICAgICAgICAgICAgICB7fQogICAgICAgICAgICApLmFkZFRvKG1hcF9kYzRlOGRiYTk1ZTQ0YjliYTViMDY3ZTdkMDQ1Y2RjYSk7CiAgICAgICAgCiAgICAKICAgICAgICAgICAgdmFyIGljb25fN2ZmZTgyNzJiMDE4NDlhMWIwMzhjM2QxZmRmYWMxYzcgPSBMLkF3ZXNvbWVNYXJrZXJzLmljb24oCiAgICAgICAgICAgICAgICB7ImV4dHJhQ2xhc3NlcyI6ICJmYS1yb3RhdGUtMCIsICJpY29uIjogImluZm8tc2lnbiIsICJpY29uQ29sb3IiOiAid2hpdGUiLCAibWFya2VyQ29sb3IiOiAicmVkIiwgInByZWZpeCI6ICJnbHlwaGljb24ifQogICAgICAgICAgICApOwogICAgICAgICAgICBtYXJrZXJfNjI3MDk4YWNjZGMwNDMwMmI5NzQyYTA5YmU1MjZlYmQuc2V0SWNvbihpY29uXzdmZmU4MjcyYjAxODQ5YTFiMDM4YzNkMWZkZmFjMWM3KTsKICAgICAgICAKICAgIAogICAgICAgIHZhciBwb3B1cF84MDIzMTY5ZDA5NjA0ODI4YWQxZDIwMzNlNzJkN2Q5ZSA9IEwucG9wdXAoeyJtYXhXaWR0aCI6ICIxMDAlIn0pOwoKICAgICAgICAKICAgICAgICAgICAgdmFyIGh0bWxfMzIyYTRlZWQxNmM2NGE3NmJiMmY2MWFhMmE1NmZlZWMgPSAkKGA8ZGl2IGlkPSJodG1sXzMyMmE0ZWVkMTZjNjRhNzZiYjJmNjFhYTJhNTZmZWVjIiBzdHlsZT0id2lkdGg6IDEwMC4wJTsgaGVpZ2h0OiAxMDAuMCU7Ij5DaHXDrTwvZGl2PmApWzBdOwogICAgICAgICAgICBwb3B1cF84MDIzMTY5ZDA5NjA0ODI4YWQxZDIwMzNlNzJkN2Q5ZS5zZXRDb250ZW50KGh0bWxfMzIyYTRlZWQxNmM2NGE3NmJiMmY2MWFhMmE1NmZlZWMpOwogICAgICAgIAoKICAgICAgICBtYXJrZXJfNjI3MDk4YWNjZGMwNDMwMmI5NzQyYTA5YmU1MjZlYmQuYmluZFBvcHVwKHBvcHVwXzgwMjMxNjlkMDk2MDQ4MjhhZDFkMjAzM2U3MmQ3ZDllKQogICAgICAgIDsKCiAgICAgICAgCiAgICAKICAgIAogICAgICAgICAgICB2YXIgbWFya2VyXzc2ZWY2ZGRiMjNhYTRkM2RiN2M5MDE1YWRmZjQ1Y2JmID0gTC5tYXJrZXIoCiAgICAgICAgICAgICAgICBbLTMwLjA4NDcsIC01MS42MTg2OTk5OTk5ODk5OV0sCiAgICAgICAgICAgICAgICB7fQogICAgICAgICAgICApLmFkZFRvKG1hcF9kYzRlOGRiYTk1ZTQ0YjliYTViMDY3ZTdkMDQ1Y2RjYSk7CiAgICAgICAgCiAgICAKICAgICAgICAgICAgdmFyIGljb25fYTAxZDUxNDcyMTFlNGU1ZGFkN2QxYmM1NWFkNmNiYTYgPSBMLkF3ZXNvbWVNYXJrZXJzLmljb24oCiAgICAgICAgICAgICAgICB7ImV4dHJhQ2xhc3NlcyI6ICJmYS1yb3RhdGUtMCIsICJpY29uIjogImluZm8tc2lnbiIsICJpY29uQ29sb3IiOiAid2hpdGUiLCAibWFya2VyQ29sb3IiOiAicmVkIiwgInByZWZpeCI6ICJnbHlwaGljb24ifQogICAgICAgICAgICApOwogICAgICAgICAgICBtYXJrZXJfNzZlZjZkZGIyM2FhNGQzZGI3YzkwMTVhZGZmNDVjYmYuc2V0SWNvbihpY29uX2EwMWQ1MTQ3MjExZTRlNWRhZDdkMWJjNTVhZDZjYmE2KTsKICAgICAgICAKICAgIAogICAgICAgIHZhciBwb3B1cF8wODkwYjZmYWM1OGM0NGVhODZmNjc5NmJiN2JkY2FlZiA9IEwucG9wdXAoeyJtYXhXaWR0aCI6ICIxMDAlIn0pOwoKICAgICAgICAKICAgICAgICAgICAgdmFyIGh0bWxfOGMzN2NhODRkMzViNDMyMDllYjlmZGI0MTQwNWNkNTggPSAkKGA8ZGl2IGlkPSJodG1sXzhjMzdjYTg0ZDM1YjQzMjA5ZWI5ZmRiNDE0MDVjZDU4IiBzdHlsZT0id2lkdGg6IDEwMC4wJTsgaGVpZ2h0OiAxMDAuMCU7Ij5FbGRvcmFkbyBkbyBTdWw8L2Rpdj5gKVswXTsKICAgICAgICAgICAgcG9wdXBfMDg5MGI2ZmFjNThjNDRlYTg2ZjY3OTZiYjdiZGNhZWYuc2V0Q29udGVudChodG1sXzhjMzdjYTg0ZDM1YjQzMjA5ZWI5ZmRiNDE0MDVjZDU4KTsKICAgICAgICAKCiAgICAgICAgbWFya2VyXzc2ZWY2ZGRiMjNhYTRkM2RiN2M5MDE1YWRmZjQ1Y2JmLmJpbmRQb3B1cChwb3B1cF8wODkwYjZmYWM1OGM0NGVhODZmNjc5NmJiN2JkY2FlZikKICAgICAgICA7CgogICAgICAgIAogICAgCiAgICAKICAgICAgICAgICAgdmFyIG1hcmtlcl9lOTcxM2RjMTY2NzQ0ZmNjOGRhZDA0YzAzY2MzZTVkOCA9IEwubWFya2VyKAogICAgICAgICAgICAgICAgWy0zMS40MDY3LCAtNTMuODY2N10sCiAgICAgICAgICAgICAgICB7fQogICAgICAgICAgICApLmFkZFRvKG1hcF9kYzRlOGRiYTk1ZTQ0YjliYTViMDY3ZTdkMDQ1Y2RjYSk7CiAgICAgICAgCiAgICAKICAgICAgICAgICAgdmFyIGljb25fYTZiMDk0NDJhYTVhNGY2Y2E5NjdiZjhmNzMzZDQ5NzQgPSBMLkF3ZXNvbWVNYXJrZXJzLmljb24oCiAgICAgICAgICAgICAgICB7ImV4dHJhQ2xhc3NlcyI6ICJmYS1yb3RhdGUtMCIsICJpY29uIjogImluZm8tc2lnbiIsICJpY29uQ29sb3IiOiAid2hpdGUiLCAibWFya2VyQ29sb3IiOiAicmVkIiwgInByZWZpeCI6ICJnbHlwaGljb24ifQogICAgICAgICAgICApOwogICAgICAgICAgICBtYXJrZXJfZTk3MTNkYzE2Njc0NGZjYzhkYWQwNGMwM2NjM2U1ZDguc2V0SWNvbihpY29uX2E2YjA5NDQyYWE1YTRmNmNhOTY3YmY4ZjczM2Q0OTc0KTsKICAgICAgICAKICAgIAogICAgICAgIHZhciBwb3B1cF81NTQyMTVjMTAxMWM0ODgwOWZhZGUxZmE2OWY5NjUwOCA9IEwucG9wdXAoeyJtYXhXaWR0aCI6ICIxMDAlIn0pOwoKICAgICAgICAKICAgICAgICAgICAgdmFyIGh0bWxfNWE1ZmRkYWU4NTNiNDEyMDgzZTg0YzIyNzQwNDdlNzAgPSAkKGA8ZGl2IGlkPSJodG1sXzVhNWZkZGFlODUzYjQxMjA4M2U4NGMyMjc0MDQ3ZTcwIiBzdHlsZT0id2lkdGg6IDEwMC4wJTsgaGVpZ2h0OiAxMDAuMCU7Ij5IdWxoYSBOZWdyYTwvZGl2PmApWzBdOwogICAgICAgICAgICBwb3B1cF81NTQyMTVjMTAxMWM0ODgwOWZhZGUxZmE2OWY5NjUwOC5zZXRDb250ZW50KGh0bWxfNWE1ZmRkYWU4NTNiNDEyMDgzZTg0YzIyNzQwNDdlNzApOwogICAgICAgIAoKICAgICAgICBtYXJrZXJfZTk3MTNkYzE2Njc0NGZjYzhkYWQwNGMwM2NjM2U1ZDguYmluZFBvcHVwKHBvcHVwXzU1NDIxNWMxMDExYzQ4ODA5ZmFkZTFmYTY5Zjk2NTA4KQogICAgICAgIDsKCiAgICAgICAgCiAgICAKICAgIAogICAgICAgICAgICB2YXIgbWFya2VyXzNiM2U1YmEyY2M1ODRmMzRiYWY3YTM1MGIwNDY1MmM2ID0gTC5tYXJrZXIoCiAgICAgICAgICAgICAgICBbLTI5LjAyMTk5OTk5OTk5LCAtNTMuMDUzNjk5OTk5OTg5OTk1XSwKICAgICAgICAgICAgICAgIHt9CiAgICAgICAgICAgICkuYWRkVG8obWFwX2RjNGU4ZGJhOTVlNDRiOWJhNWIwNjdlN2QwNDVjZGNhKTsKICAgICAgICAKICAgIAogICAgICAgICAgICB2YXIgaWNvbl80YjUzYjY3ZDY4YTc0ZTIzOTNlZWNjZWMyNmJiYTgyNyA9IEwuQXdlc29tZU1hcmtlcnMuaWNvbigKICAgICAgICAgICAgICAgIHsiZXh0cmFDbGFzc2VzIjogImZhLXJvdGF0ZS0wIiwgImljb24iOiAiaW5mby1zaWduIiwgImljb25Db2xvciI6ICJ3aGl0ZSIsICJtYXJrZXJDb2xvciI6ICJyZWQiLCAicHJlZml4IjogImdseXBoaWNvbiJ9CiAgICAgICAgICAgICk7CiAgICAgICAgICAgIG1hcmtlcl8zYjNlNWJhMmNjNTg0ZjM0YmFmN2EzNTBiMDQ2NTJjNi5zZXRJY29uKGljb25fNGI1M2I2N2Q2OGE3NGUyMzkzZWVjY2VjMjZiYmE4MjcpOwogICAgICAgIAogICAgCiAgICAgICAgdmFyIHBvcHVwX2ZlNjA2NzNhYjkyODQ2YmZhYzNiMGEyMmQwNDMwZTNhID0gTC5wb3B1cCh7Im1heFdpZHRoIjogIjEwMCUifSk7CgogICAgICAgIAogICAgICAgICAgICB2YXIgaHRtbF9iNDUwMTY1OTI2ODA0NzQ5YmI3ZWJlYWU4ZmQyZGVlYSA9ICQoYDxkaXYgaWQ9Imh0bWxfYjQ1MDE2NTkyNjgwNDc0OWJiN2ViZWFlOGZkMmRlZWEiIHN0eWxlPSJ3aWR0aDogMTAwLjAlOyBoZWlnaHQ6IDEwMC4wJTsiPkphY3VpemluaG88L2Rpdj5gKVswXTsKICAgICAgICAgICAgcG9wdXBfZmU2MDY3M2FiOTI4NDZiZmFjM2IwYTIyZDA0MzBlM2Euc2V0Q29udGVudChodG1sX2I0NTAxNjU5MjY4MDQ3NDliYjdlYmVhZThmZDJkZWVhKTsKICAgICAgICAKCiAgICAgICAgbWFya2VyXzNiM2U1YmEyY2M1ODRmMzRiYWY3YTM1MGIwNDY1MmM2LmJpbmRQb3B1cChwb3B1cF9mZTYwNjczYWI5Mjg0NmJmYWMzYjBhMjJkMDQzMGUzYSkKICAgICAgICA7CgogICAgICAgIAogICAgCiAgICAKICAgICAgICAgICAgdmFyIG1hcmtlcl9lMmRkODgzNTc4YWM0ZGE2YTM4OGQ4OTMwMDVlZjVjNiA9IEwubWFya2VyKAogICAgICAgICAgICAgICAgWy0zMC44MDcwOTk5OTk5OSwgLTUzLjg5MzA5OTk5OTk4OTk5XSwKICAgICAgICAgICAgICAgIHt9CiAgICAgICAgICAgICkuYWRkVG8obWFwX2RjNGU4ZGJhOTVlNDRiOWJhNWIwNjdlN2QwNDVjZGNhKTsKICAgICAgICAKICAgIAogICAgICAgICAgICB2YXIgaWNvbl83ZWI3OTE0ZDVlM2M0N2FmYmJlZmRiNTdkMDY4NmQzMiA9IEwuQXdlc29tZU1hcmtlcnMuaWNvbigKICAgICAgICAgICAgICAgIHsiZXh0cmFDbGFzc2VzIjogImZhLXJvdGF0ZS0wIiwgImljb24iOiAiaW5mby1zaWduIiwgImljb25Db2xvciI6ICJ3aGl0ZSIsICJtYXJrZXJDb2xvciI6ICJyZWQiLCAicHJlZml4IjogImdseXBoaWNvbiJ9CiAgICAgICAgICAgICk7CiAgICAgICAgICAgIG1hcmtlcl9lMmRkODgzNTc4YWM0ZGE2YTM4OGQ4OTMwMDVlZjVjNi5zZXRJY29uKGljb25fN2ViNzkxNGQ1ZTNjNDdhZmJiZWZkYjU3ZDA2ODZkMzIpOwogICAgICAgIAogICAgCiAgICAgICAgdmFyIHBvcHVwX2Y0ZGNhMjcwMjI1ZjQ4ZGM4NjAyM2Y4ZTcxZTRjNWE3ID0gTC5wb3B1cCh7Im1heFdpZHRoIjogIjEwMCUifSk7CgogICAgICAgIAogICAgICAgICAgICB2YXIgaHRtbF9iN2FiMWQzMTBhNjY0ZjdkYWYwMzljZWQ4YmZjMTZmYSA9ICQoYDxkaXYgaWQ9Imh0bWxfYjdhYjFkMzEwYTY2NGY3ZGFmMDM5Y2VkOGJmYzE2ZmEiIHN0eWxlPSJ3aWR0aDogMTAwLjAlOyBoZWlnaHQ6IDEwMC4wJTsiPkxhdnJhcyBkbyBTdWw8L2Rpdj5gKVswXTsKICAgICAgICAgICAgcG9wdXBfZjRkY2EyNzAyMjVmNDhkYzg2MDIzZjhlNzFlNGM1YTcuc2V0Q29udGVudChodG1sX2I3YWIxZDMxMGE2NjRmN2RhZjAzOWNlZDhiZmMxNmZhKTsKICAgICAgICAKCiAgICAgICAgbWFya2VyX2UyZGQ4ODM1NzhhYzRkYTZhMzg4ZDg5MzAwNWVmNWM2LmJpbmRQb3B1cChwb3B1cF9mNGRjYTI3MDIyNWY0OGRjODYwMjNmOGU3MWU0YzVhNykKICAgICAgICA7CgogICAgICAgIAogICAgCiAgICAKICAgICAgICAgICAgdmFyIG1hcmtlcl84YWU4NWUyNTkzZjQ0NDNkOTc2MDliNGQyODg3Y2ZkZSA9IEwubWFya2VyKAogICAgICAgICAgICAgICAgWy0zMS43MjE2OTk5OTk5OSwgLTUzLjU4Mzc5OTk5OTk5XSwKICAgICAgICAgICAgICAgIHt9CiAgICAgICAgICAgICkuYWRkVG8obWFwX2RjNGU4ZGJhOTVlNDRiOWJhNWIwNjdlN2QwNDVjZGNhKTsKICAgICAgICAKICAgIAogICAgICAgICAgICB2YXIgaWNvbl9iYTk2Y2ZjMDdlMTE0M2M4OTkxZWFjMTIyNmIzOWUzZiA9IEwuQXdlc29tZU1hcmtlcnMuaWNvbigKICAgICAgICAgICAgICAgIHsiZXh0cmFDbGFzc2VzIjogImZhLXJvdGF0ZS0wIiwgImljb24iOiAiaW5mby1zaWduIiwgImljb25Db2xvciI6ICJ3aGl0ZSIsICJtYXJrZXJDb2xvciI6ICJyZWQiLCAicHJlZml4IjogImdseXBoaWNvbiJ9CiAgICAgICAgICAgICk7CiAgICAgICAgICAgIG1hcmtlcl84YWU4NWUyNTkzZjQ0NDNkOTc2MDliNGQyODg3Y2ZkZS5zZXRJY29uKGljb25fYmE5NmNmYzA3ZTExNDNjODk5MWVhYzEyMjZiMzllM2YpOwogICAgICAgIAogICAgCiAgICAgICAgdmFyIHBvcHVwX2IyZTRhNmJhOWFkNzQ5MmM5N2U3NWYzZTllMmYxNDE1ID0gTC5wb3B1cCh7Im1heFdpZHRoIjogIjEwMCUifSk7CgogICAgICAgIAogICAgICAgICAgICB2YXIgaHRtbF9hNzI3ZDgxNTRjYzk0YzllODE0MGNlMjc2YWJiZDY1MSA9ICQoYDxkaXYgaWQ9Imh0bWxfYTcyN2Q4MTU0Y2M5NGM5ZTgxNDBjZTI3NmFiYmQ2NTEiIHN0eWxlPSJ3aWR0aDogMTAwLjAlOyBoZWlnaHQ6IDEwMC4wJTsiPlBlZHJhcyBBbHRhczwvZGl2PmApWzBdOwogICAgICAgICAgICBwb3B1cF9iMmU0YTZiYTlhZDc0OTJjOTdlNzVmM2U5ZTJmMTQxNS5zZXRDb250ZW50KGh0bWxfYTcyN2Q4MTU0Y2M5NGM5ZTgxNDBjZTI3NmFiYmQ2NTEpOwogICAgICAgIAoKICAgICAgICBtYXJrZXJfOGFlODVlMjU5M2Y0NDQzZDk3NjA5YjRkMjg4N2NmZGUuYmluZFBvcHVwKHBvcHVwX2IyZTRhNmJhOWFkNzQ5MmM5N2U3NWYzZTllMmYxNDE1KQogICAgICAgIDsKCiAgICAgICAgCiAgICAKICAgIAogICAgICAgICAgICB2YXIgbWFya2VyXzBjNjY1ODA4Y2M3MjQ3NWI4YTNhMjFjYTVjNmJkNzQ4ID0gTC5tYXJrZXIoCiAgICAgICAgICAgICAgICBbLTMxLjU3OTQsIC01My4zNzk4XSwKICAgICAgICAgICAgICAgIHt9CiAgICAgICAgICAgICkuYWRkVG8obWFwX2RjNGU4ZGJhOTVlNDRiOWJhNWIwNjdlN2QwNDVjZGNhKTsKICAgICAgICAKICAgIAogICAgICAgICAgICB2YXIgaWNvbl8xMjdiYmM2ZjBkNDQ0NDUzOTM0M2ZjOTA4ODZiZGI4NyA9IEwuQXdlc29tZU1hcmtlcnMuaWNvbigKICAgICAgICAgICAgICAgIHsiZXh0cmFDbGFzc2VzIjogImZhLXJvdGF0ZS0wIiwgImljb24iOiAiaW5mby1zaWduIiwgImljb25Db2xvciI6ICJ3aGl0ZSIsICJtYXJrZXJDb2xvciI6ICJyZWQiLCAicHJlZml4IjogImdseXBoaWNvbiJ9CiAgICAgICAgICAgICk7CiAgICAgICAgICAgIG1hcmtlcl8wYzY2NTgwOGNjNzI0NzViOGEzYTIxY2E1YzZiZDc0OC5zZXRJY29uKGljb25fMTI3YmJjNmYwZDQ0NDQ1MzkzNDNmYzkwODg2YmRiODcpOwogICAgICAgIAogICAgCiAgICAgICAgdmFyIHBvcHVwXzA5OWFhOTFkNzBkMDQ3ZWNiYzQzNjNmYzY0YzQ1ZDU1ID0gTC5wb3B1cCh7Im1heFdpZHRoIjogIjEwMCUifSk7CgogICAgICAgIAogICAgICAgICAgICB2YXIgaHRtbF80NzQ3Mjg2OTYwOTA0ZDhjYmZhZWFkMTQ2MmEzNjJhYyA9ICQoYDxkaXYgaWQ9Imh0bWxfNDc0NzI4Njk2MDkwNGQ4Y2JmYWVhZDE0NjJhMzYyYWMiIHN0eWxlPSJ3aWR0aDogMTAwLjAlOyBoZWlnaHQ6IDEwMC4wJTsiPlBpbmhlaXJvIE1hY2hhZG88L2Rpdj5gKVswXTsKICAgICAgICAgICAgcG9wdXBfMDk5YWE5MWQ3MGQwNDdlY2JjNDM2M2ZjNjRjNDVkNTUuc2V0Q29udGVudChodG1sXzQ3NDcyODY5NjA5MDRkOGNiZmFlYWQxNDYyYTM2MmFjKTsKICAgICAgICAKCiAgICAgICAgbWFya2VyXzBjNjY1ODA4Y2M3MjQ3NWI4YTNhMjFjYTVjNmJkNzQ4LmJpbmRQb3B1cChwb3B1cF8wOTlhYTkxZDcwZDA0N2VjYmM0MzYzZmM2NGM0NWQ1NSkKICAgICAgICA7CgogICAgICAgIAogICAgCiAgICAKICAgICAgICAgICAgdmFyIG1hcmtlcl9mMDczMjE3YzE0MTg0MDYyOGFkNTc0NjMxYzlmYThkOSA9IEwubWFya2VyKAogICAgICAgICAgICAgICAgWy0yNy44MTYyOTk5OTk5OSwgLTUyLjQ0MTg5OTk5OTk4OTk5XSwKICAgICAgICAgICAgICAgIHt9CiAgICAgICAgICAgICkuYWRkVG8obWFwX2RjNGU4ZGJhOTVlNDRiOWJhNWIwNjdlN2QwNDVjZGNhKTsKICAgICAgICAKICAgIAogICAgICAgICAgICB2YXIgaWNvbl85ZjA3NzcwNjEyNjg0ZGE0ODMwODBlY2Y5NjVjYzBjOCA9IEwuQXdlc29tZU1hcmtlcnMuaWNvbigKICAgICAgICAgICAgICAgIHsiZXh0cmFDbGFzc2VzIjogImZhLXJvdGF0ZS0wIiwgImljb24iOiAiaW5mby1zaWduIiwgImljb25Db2xvciI6ICJ3aGl0ZSIsICJtYXJrZXJDb2xvciI6ICJyZWQiLCAicHJlZml4IjogImdseXBoaWNvbiJ9CiAgICAgICAgICAgICk7CiAgICAgICAgICAgIG1hcmtlcl9mMDczMjE3YzE0MTg0MDYyOGFkNTc0NjMxYzlmYThkOS5zZXRJY29uKGljb25fOWYwNzc3MDYxMjY4NGRhNDgzMDgwZWNmOTY1Y2MwYzgpOwogICAgICAgIAogICAgCiAgICAgICAgdmFyIHBvcHVwXzk2MmFjYzJiZTgyNjQwMWJiYTYxOTRkMjMwYTJmYmY2ID0gTC5wb3B1cCh7Im1heFdpZHRoIjogIjEwMCUifSk7CgogICAgICAgIAogICAgICAgICAgICB2YXIgaHRtbF9iYTJiZDUzZWEzY2Q0ZmNjOTViMWE3ZWFiOTIyMTIxYiA9ICQoYDxkaXYgaWQ9Imh0bWxfYmEyYmQ1M2VhM2NkNGZjYzk1YjFhN2VhYjkyMjEyMWIiIHN0eWxlPSJ3aWR0aDogMTAwLjAlOyBoZWlnaHQ6IDEwMC4wJTsiPlF1YXRybyBJcm3Do29zPC9kaXY+YClbMF07CiAgICAgICAgICAgIHBvcHVwXzk2MmFjYzJiZTgyNjQwMWJiYTYxOTRkMjMwYTJmYmY2LnNldENvbnRlbnQoaHRtbF9iYTJiZDUzZWEzY2Q0ZmNjOTViMWE3ZWFiOTIyMTIxYik7CiAgICAgICAgCgogICAgICAgIG1hcmtlcl9mMDczMjE3YzE0MTg0MDYyOGFkNTc0NjMxYzlmYThkOS5iaW5kUG9wdXAocG9wdXBfOTYyYWNjMmJlODI2NDAxYmJhNjE5NGQyMzBhMmZiZjYpCiAgICAgICAgOwoKICAgICAgICAKICAgIAogICAgCiAgICAgICAgICAgIHZhciBtYXJrZXJfOTUzMGUzNzQyNDg1NDkzYjhjZDBiNjgxYzgxOWFiN2MgPSBMLm1hcmtlcigKICAgICAgICAgICAgICAgIFstMzMuNTI0OTk5OTk5OTksIC01My4zNzE2OTk5OTk5ODk5OV0sCiAgICAgICAgICAgICAgICB7fQogICAgICAgICAgICApLmFkZFRvKG1hcF9kYzRlOGRiYTk1ZTQ0YjliYTViMDY3ZTdkMDQ1Y2RjYSk7CiAgICAgICAgCiAgICAKICAgICAgICAgICAgdmFyIGljb25fYjU4MDEwNjY0ZDE0NDQ4OWI5YjBkZDkyZTU4MjNmYmMgPSBMLkF3ZXNvbWVNYXJrZXJzLmljb24oCiAgICAgICAgICAgICAgICB7ImV4dHJhQ2xhc3NlcyI6ICJmYS1yb3RhdGUtMCIsICJpY29uIjogImluZm8tc2lnbiIsICJpY29uQ29sb3IiOiAid2hpdGUiLCAibWFya2VyQ29sb3IiOiAicmVkIiwgInByZWZpeCI6ICJnbHlwaGljb24ifQogICAgICAgICAgICApOwogICAgICAgICAgICBtYXJrZXJfOTUzMGUzNzQyNDg1NDkzYjhjZDBiNjgxYzgxOWFiN2Muc2V0SWNvbihpY29uX2I1ODAxMDY2NGQxNDQ0ODliOWIwZGQ5MmU1ODIzZmJjKTsKICAgICAgICAKICAgIAogICAgICAgIHZhciBwb3B1cF9lNzRlNGZhZjljODI0Mzk5YTMzNTM5MGNhMjU0OTU1YSA9IEwucG9wdXAoeyJtYXhXaWR0aCI6ICIxMDAlIn0pOwoKICAgICAgICAKICAgICAgICAgICAgdmFyIGh0bWxfMTdkODI3NzY0N2UwNDI4OGFhZDYzZDNjMTVhNDE4ZGEgPSAkKGA8ZGl2IGlkPSJodG1sXzE3ZDgyNzc2NDdlMDQyODhhYWQ2M2QzYzE1YTQxOGRhIiBzdHlsZT0id2lkdGg6IDEwMC4wJTsgaGVpZ2h0OiAxMDAuMCU7Ij5TYW50YSBWaXTDs3JpYSBkbyBQYWxtYXI8L2Rpdj5gKVswXTsKICAgICAgICAgICAgcG9wdXBfZTc0ZTRmYWY5YzgyNDM5OWEzMzUzOTBjYTI1NDk1NWEuc2V0Q29udGVudChodG1sXzE3ZDgyNzc2NDdlMDQyODhhYWQ2M2QzYzE1YTQxOGRhKTsKICAgICAgICAKCiAgICAgICAgbWFya2VyXzk1MzBlMzc0MjQ4NTQ5M2I4Y2QwYjY4MWM4MTlhYjdjLmJpbmRQb3B1cChwb3B1cF9lNzRlNGZhZjljODI0Mzk5YTMzNTM5MGNhMjU0OTU1YSkKICAgICAgICA7CgogICAgICAgIAogICAgCiAgICAKICAgICAgICAgICAgdmFyIG1hcmtlcl9kNzQ1YzRiYjM0MmM0MTlkODI2MTgzNDAwNTMzZjMyZiA9IEwubWFya2VyKAogICAgICAgICAgICAgICAgWy0zMi4wMTUwOTk5OTk5OSwgLTUyLjAzMzA5OTk5OTk4OTk5XSwKICAgICAgICAgICAgICAgIHt9CiAgICAgICAgICAgICkuYWRkVG8obWFwX2RjNGU4ZGJhOTVlNDRiOWJhNWIwNjdlN2QwNDVjZGNhKTsKICAgICAgICAKICAgIAogICAgICAgICAgICB2YXIgaWNvbl82Y2JlNjY0NjViOGM0ZDY2OWYwMzQ5NzMxYjdiNjNiOSA9IEwuQXdlc29tZU1hcmtlcnMuaWNvbigKICAgICAgICAgICAgICAgIHsiZXh0cmFDbGFzc2VzIjogImZhLXJvdGF0ZS0wIiwgImljb24iOiAiaW5mby1zaWduIiwgImljb25Db2xvciI6ICJ3aGl0ZSIsICJtYXJrZXJDb2xvciI6ICJyZWQiLCAicHJlZml4IjogImdseXBoaWNvbiJ9CiAgICAgICAgICAgICk7CiAgICAgICAgICAgIG1hcmtlcl9kNzQ1YzRiYjM0MmM0MTlkODI2MTgzNDAwNTMzZjMyZi5zZXRJY29uKGljb25fNmNiZTY2NDY1YjhjNGQ2NjlmMDM0OTczMWI3YjYzYjkpOwogICAgICAgIAogICAgCiAgICAgICAgdmFyIHBvcHVwX2RjZTRhMzk1YjQyZjRjYWI4ZWMyNDEwYjQ0Zjc3ZDM2ID0gTC5wb3B1cCh7Im1heFdpZHRoIjogIjEwMCUifSk7CgogICAgICAgIAogICAgICAgICAgICB2YXIgaHRtbF9hMjJlYzBjN2QxNWI0MTY0ODZiNDg3ZjA1MTYzYjc2YiA9ICQoYDxkaXYgaWQ9Imh0bWxfYTIyZWMwYzdkMTViNDE2NDg2YjQ4N2YwNTE2M2I3NmIiIHN0eWxlPSJ3aWR0aDogMTAwLjAlOyBoZWlnaHQ6IDEwMC4wJTsiPlPDo28gSm9zw6kgZG8gTm9ydGU8L2Rpdj5gKVswXTsKICAgICAgICAgICAgcG9wdXBfZGNlNGEzOTViNDJmNGNhYjhlYzI0MTBiNDRmNzdkMzYuc2V0Q29udGVudChodG1sX2EyMmVjMGM3ZDE1YjQxNjQ4NmI0ODdmMDUxNjNiNzZiKTsKICAgICAgICAKCiAgICAgICAgbWFya2VyX2Q3NDVjNGJiMzQyYzQxOWQ4MjYxODM0MDA1MzNmMzJmLmJpbmRQb3B1cChwb3B1cF9kY2U0YTM5NWI0MmY0Y2FiOGVjMjQxMGI0NGY3N2QzNikKICAgICAgICA7CgogICAgICAgIAogICAgCiAgICAKICAgICAgICAgICAgdmFyIG1hcmtlcl8xNDZjYmEwM2Q0MGE0YTQ1YjczZWNlY2UwNGYxYjFjNSA9IEwubWFya2VyKAogICAgICAgICAgICAgICAgWy0yNy43NzMyMTk5OTk5OSwgLTUzLjI1MDQ3XSwKICAgICAgICAgICAgICAgIHt9CiAgICAgICAgICAgICkuYWRkVG8obWFwX2RjNGU4ZGJhOTVlNDRiOWJhNWIwNjdlN2QwNDVjZGNhKTsKICAgICAgICAKICAgIAogICAgICAgICAgICB2YXIgaWNvbl9lYWJlM2M1MGQ4MGI0ZDZiOWMyYzIzOTY5MTJmZjA3OCA9IEwuQXdlc29tZU1hcmtlcnMuaWNvbigKICAgICAgICAgICAgICAgIHsiZXh0cmFDbGFzc2VzIjogImZhLXJvdGF0ZS0wIiwgImljb24iOiAiaW5mby1zaWduIiwgImljb25Db2xvciI6ICJ3aGl0ZSIsICJtYXJrZXJDb2xvciI6ICJyZWQiLCAicHJlZml4IjogImdseXBoaWNvbiJ9CiAgICAgICAgICAgICk7CiAgICAgICAgICAgIG1hcmtlcl8xNDZjYmEwM2Q0MGE0YTQ1YjczZWNlY2UwNGYxYjFjNS5zZXRJY29uKGljb25fZWFiZTNjNTBkODBiNGQ2YjljMmMyMzk2OTEyZmYwNzgpOwogICAgICAgIAogICAgCiAgICAgICAgdmFyIHBvcHVwXzgzNDcwNGM3ZWNhNjQ3NTU4NjIwYmE0OWQxMDY2MzNiID0gTC5wb3B1cCh7Im1heFdpZHRoIjogIjEwMCUifSk7CgogICAgICAgIAogICAgICAgICAgICB2YXIgaHRtbF9hNWM0ZTA4YWUzODU0MWFmYjk0NzIyYzIyMjkwYmVlYiA9ICQoYDxkaXYgaWQ9Imh0bWxfYTVjNGUwOGFlMzg1NDFhZmI5NDcyMmMyMjI5MGJlZWIiIHN0eWxlPSJ3aWR0aDogMTAwLjAlOyBoZWlnaHQ6IDEwMC4wJTsiPlPDo28gUGVkcm8gZGFzIE1pc3PDtWVzPC9kaXY+YClbMF07CiAgICAgICAgICAgIHBvcHVwXzgzNDcwNGM3ZWNhNjQ3NTU4NjIwYmE0OWQxMDY2MzNiLnNldENvbnRlbnQoaHRtbF9hNWM0ZTA4YWUzODU0MWFmYjk0NzIyYzIyMjkwYmVlYik7CiAgICAgICAgCgogICAgICAgIG1hcmtlcl8xNDZjYmEwM2Q0MGE0YTQ1YjczZWNlY2UwNGYxYjFjNS5iaW5kUG9wdXAocG9wdXBfODM0NzA0YzdlY2E2NDc1NTg2MjBiYTQ5ZDEwNjYzM2IpCiAgICAgICAgOwoKICAgICAgICAKICAgIAogICAgCiAgICAgICAgICAgIHZhciBtYXJrZXJfYThjOTNkYTM4YjYzNGZlM2E1OWNiZTFkNzczYjcxYTQgPSBMLm1hcmtlcigKICAgICAgICAgICAgICAgIFstMjcuNzkwNiwgLTUzLjkzNjc5OTk5OTk4OTk5NF0sCiAgICAgICAgICAgICAgICB7fQogICAgICAgICAgICApLmFkZFRvKG1hcF9kYzRlOGRiYTk1ZTQ0YjliYTViMDY3ZTdkMDQ1Y2RjYSk7CiAgICAgICAgCiAgICAKICAgICAgICAgICAgdmFyIGljb25fYmEyZTU0Y2E1ZDgyNGFjNWFiMzllYWYxYWVmM2E2YWEgPSBMLkF3ZXNvbWVNYXJrZXJzLmljb24oCiAgICAgICAgICAgICAgICB7ImV4dHJhQ2xhc3NlcyI6ICJmYS1yb3RhdGUtMCIsICJpY29uIjogImluZm8tc2lnbiIsICJpY29uQ29sb3IiOiAid2hpdGUiLCAibWFya2VyQ29sb3IiOiAicmVkIiwgInByZWZpeCI6ICJnbHlwaGljb24ifQogICAgICAgICAgICApOwogICAgICAgICAgICBtYXJrZXJfYThjOTNkYTM4YjYzNGZlM2E1OWNiZTFkNzczYjcxYTQuc2V0SWNvbihpY29uX2JhMmU1NGNhNWQ4MjRhYzVhYjM5ZWFmMWFlZjNhNmFhKTsKICAgICAgICAKICAgIAogICAgICAgIHZhciBwb3B1cF80NWZlMzJmMmMzZDU0ZjFkYmUxNGNlZDJiODUwMmIyMCA9IEwucG9wdXAoeyJtYXhXaWR0aCI6ICIxMDAlIn0pOwoKICAgICAgICAKICAgICAgICAgICAgdmFyIGh0bWxfNDdjY2JkOWVjNGI3NDMyMmIyYzVhOGNjMjViYTEzZDMgPSAkKGA8ZGl2IGlkPSJodG1sXzQ3Y2NiZDllYzRiNzQzMjJiMmM1YThjYzI1YmExM2QzIiBzdHlsZT0id2lkdGg6IDEwMC4wJTsgaGVpZ2h0OiAxMDAuMCU7Ij5Tw6NvIFZhbMOpcmlvIGRvIFN1bDwvZGl2PmApWzBdOwogICAgICAgICAgICBwb3B1cF80NWZlMzJmMmMzZDU0ZjFkYmUxNGNlZDJiODUwMmIyMC5zZXRDb250ZW50KGh0bWxfNDdjY2JkOWVjNGI3NDMyMmIyYzVhOGNjMjViYTEzZDMpOwogICAgICAgIAoKICAgICAgICBtYXJrZXJfYThjOTNkYTM4YjYzNGZlM2E1OWNiZTFkNzczYjcxYTQuYmluZFBvcHVwKHBvcHVwXzQ1ZmUzMmYyYzNkNTRmMWRiZTE0Y2VkMmI4NTAyYjIwKQogICAgICAgIDsKCiAgICAgICAgCiAgICAKICAgIAogICAgICAgICAgICB2YXIgbWFya2VyX2U5MTdlMjBjOThhNTRkYTFiY2E3ZGUzZjE3MGMyMWVmID0gTC5tYXJrZXIoCiAgICAgICAgICAgICAgICBbLTMwLjkwOTMsIC01MS41MDQ2XSwKICAgICAgICAgICAgICAgIHt9CiAgICAgICAgICAgICkuYWRkVG8obWFwX2RjNGU4ZGJhOTVlNDRiOWJhNWIwNjdlN2QwNDVjZGNhKTsKICAgICAgICAKICAgIAogICAgICAgICAgICB2YXIgaWNvbl85MDQ4MTcyOGRlYTM0NDJmOTdhN2MzMDA4Y2U5MTE5ZSA9IEwuQXdlc29tZU1hcmtlcnMuaWNvbigKICAgICAgICAgICAgICAgIHsiZXh0cmFDbGFzc2VzIjogImZhLXJvdGF0ZS0wIiwgImljb24iOiAiaW5mby1zaWduIiwgImljb25Db2xvciI6ICJ3aGl0ZSIsICJtYXJrZXJDb2xvciI6ICJyZWQiLCAicHJlZml4IjogImdseXBoaWNvbiJ9CiAgICAgICAgICAgICk7CiAgICAgICAgICAgIG1hcmtlcl9lOTE3ZTIwYzk4YTU0ZGExYmNhN2RlM2YxNzBjMjFlZi5zZXRJY29uKGljb25fOTA0ODE3MjhkZWEzNDQyZjk3YTdjMzAwOGNlOTExOWUpOwogICAgICAgIAogICAgCiAgICAgICAgdmFyIHBvcHVwXzQwNjljM2RmY2M1ZDRlNzI5MDUyOGM2YjU1MDM0YmIzID0gTC5wb3B1cCh7Im1heFdpZHRoIjogIjEwMCUifSk7CgogICAgICAgIAogICAgICAgICAgICB2YXIgaHRtbF9jZTM0MjM3MzhhOGU0M2VlOWEwNWMwNDUzOWNjODAyNSA9ICQoYDxkaXYgaWQ9Imh0bWxfY2UzNDIzNzM4YThlNDNlZTlhMDVjMDQ1MzljYzgwMjUiIHN0eWxlPSJ3aWR0aDogMTAwLjAlOyBoZWlnaHQ6IDEwMC4wJTsiPkFyYW1iYXLDqTwvZGl2PmApWzBdOwogICAgICAgICAgICBwb3B1cF80MDY5YzNkZmNjNWQ0ZTcyOTA1MjhjNmI1NTAzNGJiMy5zZXRDb250ZW50KGh0bWxfY2UzNDIzNzM4YThlNDNlZTlhMDVjMDQ1MzljYzgwMjUpOwogICAgICAgIAoKICAgICAgICBtYXJrZXJfZTkxN2UyMGM5OGE1NGRhMWJjYTdkZTNmMTcwYzIxZWYuYmluZFBvcHVwKHBvcHVwXzQwNjljM2RmY2M1ZDRlNzI5MDUyOGM2YjU1MDM0YmIzKQogICAgICAgIDsKCiAgICAgICAgCiAgICAKICAgIAogICAgICAgICAgICB2YXIgbWFya2VyXzMxNDU3MDQ1OGEzZjRhMDhiODFjNGFmNTc5ZWM2NDVmID0gTC5tYXJrZXIoCiAgICAgICAgICAgICAgICBbLTMwLjI0MTksIC01MC4yMzM2XSwKICAgICAgICAgICAgICAgIHt9CiAgICAgICAgICAgICkuYWRkVG8obWFwX2RjNGU4ZGJhOTVlNDRiOWJhNWIwNjdlN2QwNDVjZGNhKTsKICAgICAgICAKICAgIAogICAgICAgICAgICB2YXIgaWNvbl8xZmIwYWU0YjRiYjE0NjNhYTJlOGI0NzI0MTVkNGQ5MyA9IEwuQXdlc29tZU1hcmtlcnMuaWNvbigKICAgICAgICAgICAgICAgIHsiZXh0cmFDbGFzc2VzIjogImZhLXJvdGF0ZS0wIiwgImljb24iOiAiaW5mby1zaWduIiwgImljb25Db2xvciI6ICJ3aGl0ZSIsICJtYXJrZXJDb2xvciI6ICJyZWQiLCAicHJlZml4IjogImdseXBoaWNvbiJ9CiAgICAgICAgICAgICk7CiAgICAgICAgICAgIG1hcmtlcl8zMTQ1NzA0NThhM2Y0YTA4YjgxYzRhZjU3OWVjNjQ1Zi5zZXRJY29uKGljb25fMWZiMGFlNGI0YmIxNDYzYWEyZThiNDcyNDE1ZDRkOTMpOwogICAgICAgIAogICAgCiAgICAgICAgdmFyIHBvcHVwXzRlYzkyZGVkZTZlOTQ5MmZiYzlkMjgwMTM1YmE3ZDkyID0gTC5wb3B1cCh7Im1heFdpZHRoIjogIjEwMCUifSk7CgogICAgICAgIAogICAgICAgICAgICB2YXIgaHRtbF9hN2I3ZmY5NTZkMWU0MWU0OWE0ZWQxYjNiMDQ3NDkzOCA9ICQoYDxkaXYgaWQ9Imh0bWxfYTdiN2ZmOTU2ZDFlNDFlNDlhNGVkMWIzYjA0NzQ5MzgiIHN0eWxlPSJ3aWR0aDogMTAwLjAlOyBoZWlnaHQ6IDEwMC4wJTsiPkJhbG5lw6FyaW8gUGluaGFsPC9kaXY+YClbMF07CiAgICAgICAgICAgIHBvcHVwXzRlYzkyZGVkZTZlOTQ5MmZiYzlkMjgwMTM1YmE3ZDkyLnNldENvbnRlbnQoaHRtbF9hN2I3ZmY5NTZkMWU0MWU0OWE0ZWQxYjNiMDQ3NDkzOCk7CiAgICAgICAgCgogICAgICAgIG1hcmtlcl8zMTQ1NzA0NThhM2Y0YTA4YjgxYzRhZjU3OWVjNjQ1Zi5iaW5kUG9wdXAocG9wdXBfNGVjOTJkZWRlNmU5NDkyZmJjOWQyODAxMzViYTdkOTIpCiAgICAgICAgOwoKICAgICAgICAKICAgIAogICAgCiAgICAgICAgICAgIHZhciBtYXJrZXJfNGM4OTRiYWY0ZGIwNDg4NDlhODY4MWQwM2EyOTFlNTggPSBMLm1hcmtlcigKICAgICAgICAgICAgICAgIFstMzAuMjAyOSwgLTU3LjU0OTddLAogICAgICAgICAgICAgICAge30KICAgICAgICAgICAgKS5hZGRUbyhtYXBfZGM0ZThkYmE5NWU0NGI5YmE1YjA2N2U3ZDA0NWNkY2EpOwogICAgICAgIAogICAgCiAgICAgICAgICAgIHZhciBpY29uXzU0ZDdmYTk2YzVkNzQwMDRiMDYyNDNlZjU3N2U5YWUxID0gTC5Bd2Vzb21lTWFya2Vycy5pY29uKAogICAgICAgICAgICAgICAgeyJleHRyYUNsYXNzZXMiOiAiZmEtcm90YXRlLTAiLCAiaWNvbiI6ICJpbmZvLXNpZ24iLCAiaWNvbkNvbG9yIjogIndoaXRlIiwgIm1hcmtlckNvbG9yIjogInJlZCIsICJwcmVmaXgiOiAiZ2x5cGhpY29uIn0KICAgICAgICAgICAgKTsKICAgICAgICAgICAgbWFya2VyXzRjODk0YmFmNGRiMDQ4ODQ5YTg2ODFkMDNhMjkxZTU4LnNldEljb24oaWNvbl81NGQ3ZmE5NmM1ZDc0MDA0YjA2MjQzZWY1NzdlOWFlMSk7CiAgICAgICAgCiAgICAKICAgICAgICB2YXIgcG9wdXBfM2ZiZDcwNDYwZjMwNDg0NmJjNzAyN2I4MDEyYWQyZjMgPSBMLnBvcHVwKHsibWF4V2lkdGgiOiAiMTAwJSJ9KTsKCiAgICAgICAgCiAgICAgICAgICAgIHZhciBodG1sX2JkYjJhMGIxZmQwMTRiZGM5YmQ0ZmQ3ZmQxYzZhOGE4ID0gJChgPGRpdiBpZD0iaHRtbF9iZGIyYTBiMWZkMDE0YmRjOWJkNGZkN2ZkMWM2YThhOCIgc3R5bGU9IndpZHRoOiAxMDAuMCU7IGhlaWdodDogMTAwLjAlOyI+QmFycmEgZG8gUXVhcmHDrTwvZGl2PmApWzBdOwogICAgICAgICAgICBwb3B1cF8zZmJkNzA0NjBmMzA0ODQ2YmM3MDI3YjgwMTJhZDJmMy5zZXRDb250ZW50KGh0bWxfYmRiMmEwYjFmZDAxNGJkYzliZDRmZDdmZDFjNmE4YTgpOwogICAgICAgIAoKICAgICAgICBtYXJrZXJfNGM4OTRiYWY0ZGIwNDg4NDlhODY4MWQwM2EyOTFlNTguYmluZFBvcHVwKHBvcHVwXzNmYmQ3MDQ2MGYzMDQ4NDZiYzcwMjdiODAxMmFkMmYzKQogICAgICAgIDsKCiAgICAgICAgCiAgICAKICAgIAogICAgICAgICAgICB2YXIgbWFya2VyX2VmNDhkMmZmNGVhZjQyY2FiNTFmY2RmNjZmMmRlZTgwID0gTC5tYXJrZXIoCiAgICAgICAgICAgICAgICBbLTI4LjI5MDUsIC01NC42NDU0XSwKICAgICAgICAgICAgICAgIHt9CiAgICAgICAgICAgICkuYWRkVG8obWFwX2RjNGU4ZGJhOTVlNDRiOWJhNWIwNjdlN2QwNDVjZGNhKTsKICAgICAgICAKICAgIAogICAgICAgICAgICB2YXIgaWNvbl8wZjNkZjQ1MTU5NjI0NDA4YWU1NDYwNjRiMmQ1MDNiOSA9IEwuQXdlc29tZU1hcmtlcnMuaWNvbigKICAgICAgICAgICAgICAgIHsiZXh0cmFDbGFzc2VzIjogImZhLXJvdGF0ZS0wIiwgImljb24iOiAiaW5mby1zaWduIiwgImljb25Db2xvciI6ICJ3aGl0ZSIsICJtYXJrZXJDb2xvciI6ICJyZWQiLCAicHJlZml4IjogImdseXBoaWNvbiJ9CiAgICAgICAgICAgICk7CiAgICAgICAgICAgIG1hcmtlcl9lZjQ4ZDJmZjRlYWY0MmNhYjUxZmNkZjY2ZjJkZWU4MC5zZXRJY29uKGljb25fMGYzZGY0NTE1OTYyNDQwOGFlNTQ2MDY0YjJkNTAzYjkpOwogICAgICAgIAogICAgCiAgICAgICAgdmFyIHBvcHVwXzNmYTg0ZmFiYWM2ODQ2NzFhYjQwYjIzNjUxNGQzOWNiID0gTC5wb3B1cCh7Im1heFdpZHRoIjogIjEwMCUifSk7CgogICAgICAgIAogICAgICAgICAgICB2YXIgaHRtbF80ZjM0MTY4YTY2ZDA0NjlhODJlZTk5M2RmMjg5ODZhMiA9ICQoYDxkaXYgaWQ9Imh0bWxfNGYzNDE2OGE2NmQwNDY5YTgyZWU5OTNkZjI4OTg2YTIiIHN0eWxlPSJ3aWR0aDogMTAwLjAlOyBoZWlnaHQ6IDEwMC4wJTsiPkNhaWJhdMOpPC9kaXY+YClbMF07CiAgICAgICAgICAgIHBvcHVwXzNmYTg0ZmFiYWM2ODQ2NzFhYjQwYjIzNjUxNGQzOWNiLnNldENvbnRlbnQoaHRtbF80ZjM0MTY4YTY2ZDA0NjlhODJlZTk5M2RmMjg5ODZhMik7CiAgICAgICAgCgogICAgICAgIG1hcmtlcl9lZjQ4ZDJmZjRlYWY0MmNhYjUxZmNkZjY2ZjJkZWU4MC5iaW5kUG9wdXAocG9wdXBfM2ZhODRmYWJhYzY4NDY3MWFiNDBiMjM2NTE0ZDM5Y2IpCiAgICAgICAgOwoKICAgICAgICAKICAgIAogICAgCiAgICAgICAgICAgIHZhciBtYXJrZXJfZDczNDJhZTA5YjdlNDMyOTlkZjE1NDBlZmY2YjdlZjkgPSBMLm1hcmtlcigKICAgICAgICAgICAgICAgIFstMzEuNzU2NDk5OTk5OTksIC01Mi40ODg5XSwKICAgICAgICAgICAgICAgIHt9CiAgICAgICAgICAgICkuYWRkVG8obWFwX2RjNGU4ZGJhOTVlNDRiOWJhNWIwNjdlN2QwNDVjZGNhKTsKICAgICAgICAKICAgIAogICAgICAgICAgICB2YXIgaWNvbl9iZDZlNmI0MDA3Nzc0OGJjODk4Y2I1ZjAyOTQyMmMwNyA9IEwuQXdlc29tZU1hcmtlcnMuaWNvbigKICAgICAgICAgICAgICAgIHsiZXh0cmFDbGFzc2VzIjogImZhLXJvdGF0ZS0wIiwgImljb24iOiAiaW5mby1zaWduIiwgImljb25Db2xvciI6ICJ3aGl0ZSIsICJtYXJrZXJDb2xvciI6ICJyZWQiLCAicHJlZml4IjogImdseXBoaWNvbiJ9CiAgICAgICAgICAgICk7CiAgICAgICAgICAgIG1hcmtlcl9kNzM0MmFlMDliN2U0MzI5OWRmMTU0MGVmZjZiN2VmOS5zZXRJY29uKGljb25fYmQ2ZTZiNDAwNzc3NDhiYzg5OGNiNWYwMjk0MjJjMDcpOwogICAgICAgIAogICAgCiAgICAgICAgdmFyIHBvcHVwXzFhODBkMjQ0OTg0NzQ5ZjY5OTQzYTNlMDFiNmJhNjQ1ID0gTC5wb3B1cCh7Im1heFdpZHRoIjogIjEwMCUifSk7CgogICAgICAgIAogICAgICAgICAgICB2YXIgaHRtbF81MTQ3YmRkNzc5Y2U0ODQ3ODBkZDNlOTgzYTQ1MTRkNyA9ICQoYDxkaXYgaWQ9Imh0bWxfNTE0N2JkZDc3OWNlNDg0NzgwZGQzZTk4M2E0NTE0ZDciIHN0eWxlPSJ3aWR0aDogMTAwLjAlOyBoZWlnaHQ6IDEwMC4wJTsiPkNhcMOjbyBkbyBMZcOjbzwvZGl2PmApWzBdOwogICAgICAgICAgICBwb3B1cF8xYTgwZDI0NDk4NDc0OWY2OTk0M2EzZTAxYjZiYTY0NS5zZXRDb250ZW50KGh0bWxfNTE0N2JkZDc3OWNlNDg0NzgwZGQzZTk4M2E0NTE0ZDcpOwogICAgICAgIAoKICAgICAgICBtYXJrZXJfZDczNDJhZTA5YjdlNDMyOTlkZjE1NDBlZmY2YjdlZjkuYmluZFBvcHVwKHBvcHVwXzFhODBkMjQ0OTg0NzQ5ZjY5OTQzYTNlMDFiNmJhNjQ1KQogICAgICAgIDsKCiAgICAgICAgCiAgICAKICAgIAogICAgICAgICAgICB2YXIgbWFya2VyX2RjYTZkNjJkM2RlMzQwMzJhNDRkOTI5ZmZhOTMyMWE4ID0gTC5tYXJrZXIoCiAgICAgICAgICAgICAgICBbLTMzLjY4NjU5OTk5OTk5LCAtNTMuNDU5NF0sCiAgICAgICAgICAgICAgICB7fQogICAgICAgICAgICApLmFkZFRvKG1hcF9kYzRlOGRiYTk1ZTQ0YjliYTViMDY3ZTdkMDQ1Y2RjYSk7CiAgICAgICAgCiAgICAKICAgICAgICAgICAgdmFyIGljb25fNjhiYTUxYzQ1ZmZmNDAwMTk1ZTIwOTJmZTllMDAwNmEgPSBMLkF3ZXNvbWVNYXJrZXJzLmljb24oCiAgICAgICAgICAgICAgICB7ImV4dHJhQ2xhc3NlcyI6ICJmYS1yb3RhdGUtMCIsICJpY29uIjogImluZm8tc2lnbiIsICJpY29uQ29sb3IiOiAid2hpdGUiLCAibWFya2VyQ29sb3IiOiAicmVkIiwgInByZWZpeCI6ICJnbHlwaGljb24ifQogICAgICAgICAgICApOwogICAgICAgICAgICBtYXJrZXJfZGNhNmQ2MmQzZGUzNDAzMmE0NGQ5MjlmZmE5MzIxYTguc2V0SWNvbihpY29uXzY4YmE1MWM0NWZmZjQwMDE5NWUyMDkyZmU5ZTAwMDZhKTsKICAgICAgICAKICAgIAogICAgICAgIHZhciBwb3B1cF9iYTk2ZWRmNmViODM0ZmNkYmFkODA2YmI5NzZlZTM3NyA9IEwucG9wdXAoeyJtYXhXaWR0aCI6ICIxMDAlIn0pOwoKICAgICAgICAKICAgICAgICAgICAgdmFyIGh0bWxfNGNkYjYyMmY0NzFhNDJmOTgwYzZlYzg0ZjZhYjQwOTggPSAkKGA8ZGl2IGlkPSJodG1sXzRjZGI2MjJmNDcxYTQyZjk4MGM2ZWM4NGY2YWI0MDk4IiBzdHlsZT0id2lkdGg6IDEwMC4wJTsgaGVpZ2h0OiAxMDAuMCU7Ij5DaHXDrTwvZGl2PmApWzBdOwogICAgICAgICAgICBwb3B1cF9iYTk2ZWRmNmViODM0ZmNkYmFkODA2YmI5NzZlZTM3Ny5zZXRDb250ZW50KGh0bWxfNGNkYjYyMmY0NzFhNDJmOTgwYzZlYzg0ZjZhYjQwOTgpOwogICAgICAgIAoKICAgICAgICBtYXJrZXJfZGNhNmQ2MmQzZGUzNDAzMmE0NGQ5MjlmZmE5MzIxYTguYmluZFBvcHVwKHBvcHVwX2JhOTZlZGY2ZWI4MzRmY2RiYWQ4MDZiYjk3NmVlMzc3KQogICAgICAgIDsKCiAgICAgICAgCiAgICAKICAgIAogICAgICAgICAgICB2YXIgbWFya2VyXzY3OGE0ZTYwMGZjNjQ1MjZhYmE5OTljODU5ZDE1NDFkID0gTC5tYXJrZXIoCiAgICAgICAgICAgICAgICBbLTMwLjA4NDcsIC01MS42MTg2OTk5OTk5ODk5OV0sCiAgICAgICAgICAgICAgICB7fQogICAgICAgICAgICApLmFkZFRvKG1hcF9kYzRlOGRiYTk1ZTQ0YjliYTViMDY3ZTdkMDQ1Y2RjYSk7CiAgICAgICAgCiAgICAKICAgICAgICAgICAgdmFyIGljb25fMTUwYjZjN2RjYzZlNGRhNjg4YmIzYjZmNmYzMzc1NDYgPSBMLkF3ZXNvbWVNYXJrZXJzLmljb24oCiAgICAgICAgICAgICAgICB7ImV4dHJhQ2xhc3NlcyI6ICJmYS1yb3RhdGUtMCIsICJpY29uIjogImluZm8tc2lnbiIsICJpY29uQ29sb3IiOiAid2hpdGUiLCAibWFya2VyQ29sb3IiOiAicmVkIiwgInByZWZpeCI6ICJnbHlwaGljb24ifQogICAgICAgICAgICApOwogICAgICAgICAgICBtYXJrZXJfNjc4YTRlNjAwZmM2NDUyNmFiYTk5OWM4NTlkMTU0MWQuc2V0SWNvbihpY29uXzE1MGI2YzdkY2M2ZTRkYTY4OGJiM2I2ZjZmMzM3NTQ2KTsKICAgICAgICAKICAgIAogICAgICAgIHZhciBwb3B1cF80OGI0MDcwYmM0Mzg0MjBlYWZlYjM5NTMwYjc2NGI1MSA9IEwucG9wdXAoeyJtYXhXaWR0aCI6ICIxMDAlIn0pOwoKICAgICAgICAKICAgICAgICAgICAgdmFyIGh0bWxfNWY5YjcxNDQ5YzY2NGFhN2JiYjNiNzY0NjQ4OTdkOTYgPSAkKGA8ZGl2IGlkPSJodG1sXzVmOWI3MTQ0OWM2NjRhYTdiYmIzYjc2NDY0ODk3ZDk2IiBzdHlsZT0id2lkdGg6IDEwMC4wJTsgaGVpZ2h0OiAxMDAuMCU7Ij5FbGRvcmFkbyBkbyBTdWw8L2Rpdj5gKVswXTsKICAgICAgICAgICAgcG9wdXBfNDhiNDA3MGJjNDM4NDIwZWFmZWIzOTUzMGI3NjRiNTEuc2V0Q29udGVudChodG1sXzVmOWI3MTQ0OWM2NjRhYTdiYmIzYjc2NDY0ODk3ZDk2KTsKICAgICAgICAKCiAgICAgICAgbWFya2VyXzY3OGE0ZTYwMGZjNjQ1MjZhYmE5OTljODU5ZDE1NDFkLmJpbmRQb3B1cChwb3B1cF80OGI0MDcwYmM0Mzg0MjBlYWZlYjM5NTMwYjc2NGI1MSkKICAgICAgICA7CgogICAgICAgIAogICAgCiAgICAKICAgICAgICAgICAgdmFyIG1hcmtlcl80OGEzMzBhYzVhZTU0NTYzOGI3OWQ2YWRjNTk2MmQ3MSA9IEwubWFya2VyKAogICAgICAgICAgICAgICAgWy0zMS40MDY3LCAtNTMuODY2N10sCiAgICAgICAgICAgICAgICB7fQogICAgICAgICAgICApLmFkZFRvKG1hcF9kYzRlOGRiYTk1ZTQ0YjliYTViMDY3ZTdkMDQ1Y2RjYSk7CiAgICAgICAgCiAgICAKICAgICAgICAgICAgdmFyIGljb25fZDQxMjA4Mjc3YmFlNGY2MjgwNzQ3Yzg0OGQ2ZGY0ZWYgPSBMLkF3ZXNvbWVNYXJrZXJzLmljb24oCiAgICAgICAgICAgICAgICB7ImV4dHJhQ2xhc3NlcyI6ICJmYS1yb3RhdGUtMCIsICJpY29uIjogImluZm8tc2lnbiIsICJpY29uQ29sb3IiOiAid2hpdGUiLCAibWFya2VyQ29sb3IiOiAicmVkIiwgInByZWZpeCI6ICJnbHlwaGljb24ifQogICAgICAgICAgICApOwogICAgICAgICAgICBtYXJrZXJfNDhhMzMwYWM1YWU1NDU2MzhiNzlkNmFkYzU5NjJkNzEuc2V0SWNvbihpY29uX2Q0MTIwODI3N2JhZTRmNjI4MDc0N2M4NDhkNmRmNGVmKTsKICAgICAgICAKICAgIAogICAgICAgIHZhciBwb3B1cF9hNzM4ODc2MzdmZDA0ZTMxYjI4MjM3ZDNkNGU4ZDhhNCA9IEwucG9wdXAoeyJtYXhXaWR0aCI6ICIxMDAlIn0pOwoKICAgICAgICAKICAgICAgICAgICAgdmFyIGh0bWxfYWJlZjk2YmE5NGY1NGE3ZDlkZWNmN2EwYWNhM2U0ZWQgPSAkKGA8ZGl2IGlkPSJodG1sX2FiZWY5NmJhOTRmNTRhN2Q5ZGVjZjdhMGFjYTNlNGVkIiBzdHlsZT0id2lkdGg6IDEwMC4wJTsgaGVpZ2h0OiAxMDAuMCU7Ij5IdWxoYSBOZWdyYTwvZGl2PmApWzBdOwogICAgICAgICAgICBwb3B1cF9hNzM4ODc2MzdmZDA0ZTMxYjI4MjM3ZDNkNGU4ZDhhNC5zZXRDb250ZW50KGh0bWxfYWJlZjk2YmE5NGY1NGE3ZDlkZWNmN2EwYWNhM2U0ZWQpOwogICAgICAgIAoKICAgICAgICBtYXJrZXJfNDhhMzMwYWM1YWU1NDU2MzhiNzlkNmFkYzU5NjJkNzEuYmluZFBvcHVwKHBvcHVwX2E3Mzg4NzYzN2ZkMDRlMzFiMjgyMzdkM2Q0ZThkOGE0KQogICAgICAgIDsKCiAgICAgICAgCiAgICAKICAgIAogICAgICAgICAgICB2YXIgbWFya2VyX2RlYWQ4NDRmNDBkMzQyNjBhMThmZDY4MjY0NDIxOTFmID0gTC5tYXJrZXIoCiAgICAgICAgICAgICAgICBbLTI5LjAyMTk5OTk5OTk5LCAtNTMuMDUzNjk5OTk5OTg5OTk1XSwKICAgICAgICAgICAgICAgIHt9CiAgICAgICAgICAgICkuYWRkVG8obWFwX2RjNGU4ZGJhOTVlNDRiOWJhNWIwNjdlN2QwNDVjZGNhKTsKICAgICAgICAKICAgIAogICAgICAgICAgICB2YXIgaWNvbl8zYzQ3YTU2MmNlZWQ0ZmEwOTQwNjUyMTRiOGE4ZjRlMiA9IEwuQXdlc29tZU1hcmtlcnMuaWNvbigKICAgICAgICAgICAgICAgIHsiZXh0cmFDbGFzc2VzIjogImZhLXJvdGF0ZS0wIiwgImljb24iOiAiaW5mby1zaWduIiwgImljb25Db2xvciI6ICJ3aGl0ZSIsICJtYXJrZXJDb2xvciI6ICJyZWQiLCAicHJlZml4IjogImdseXBoaWNvbiJ9CiAgICAgICAgICAgICk7CiAgICAgICAgICAgIG1hcmtlcl9kZWFkODQ0ZjQwZDM0MjYwYTE4ZmQ2ODI2NDQyMTkxZi5zZXRJY29uKGljb25fM2M0N2E1NjJjZWVkNGZhMDk0MDY1MjE0YjhhOGY0ZTIpOwogICAgICAgIAogICAgCiAgICAgICAgdmFyIHBvcHVwXzgzYzZmMTljMjY5MzQ5ZjBiMjg5ZGJmNDI0OTAwM2U2ID0gTC5wb3B1cCh7Im1heFdpZHRoIjogIjEwMCUifSk7CgogICAgICAgIAogICAgICAgICAgICB2YXIgaHRtbF9jZjAzNTJiZjE3ZDg0MDg0OTkyY2RkZWQzOGZkN2YyNCA9ICQoYDxkaXYgaWQ9Imh0bWxfY2YwMzUyYmYxN2Q4NDA4NDk5MmNkZGVkMzhmZDdmMjQiIHN0eWxlPSJ3aWR0aDogMTAwLjAlOyBoZWlnaHQ6IDEwMC4wJTsiPkphY3VpemluaG88L2Rpdj5gKVswXTsKICAgICAgICAgICAgcG9wdXBfODNjNmYxOWMyNjkzNDlmMGIyODlkYmY0MjQ5MDAzZTYuc2V0Q29udGVudChodG1sX2NmMDM1MmJmMTdkODQwODQ5OTJjZGRlZDM4ZmQ3ZjI0KTsKICAgICAgICAKCiAgICAgICAgbWFya2VyX2RlYWQ4NDRmNDBkMzQyNjBhMThmZDY4MjY0NDIxOTFmLmJpbmRQb3B1cChwb3B1cF84M2M2ZjE5YzI2OTM0OWYwYjI4OWRiZjQyNDkwMDNlNikKICAgICAgICA7CgogICAgICAgIAogICAgCiAgICAKICAgICAgICAgICAgdmFyIG1hcmtlcl8wNTFhZjYyYzI2NGY0MzAyYWUyNmNmNmE2YmRlYTBlOSA9IEwubWFya2VyKAogICAgICAgICAgICAgICAgWy0zMC44MDcwOTk5OTk5OSwgLTUzLjg5MzA5OTk5OTk4OTk5XSwKICAgICAgICAgICAgICAgIHt9CiAgICAgICAgICAgICkuYWRkVG8obWFwX2RjNGU4ZGJhOTVlNDRiOWJhNWIwNjdlN2QwNDVjZGNhKTsKICAgICAgICAKICAgIAogICAgICAgICAgICB2YXIgaWNvbl9jNGJmZjViODAzZjc0NzJhOWQwYTI0OWE1ZWY0ZmRiNSA9IEwuQXdlc29tZU1hcmtlcnMuaWNvbigKICAgICAgICAgICAgICAgIHsiZXh0cmFDbGFzc2VzIjogImZhLXJvdGF0ZS0wIiwgImljb24iOiAiaW5mby1zaWduIiwgImljb25Db2xvciI6ICJ3aGl0ZSIsICJtYXJrZXJDb2xvciI6ICJyZWQiLCAicHJlZml4IjogImdseXBoaWNvbiJ9CiAgICAgICAgICAgICk7CiAgICAgICAgICAgIG1hcmtlcl8wNTFhZjYyYzI2NGY0MzAyYWUyNmNmNmE2YmRlYTBlOS5zZXRJY29uKGljb25fYzRiZmY1YjgwM2Y3NDcyYTlkMGEyNDlhNWVmNGZkYjUpOwogICAgICAgIAogICAgCiAgICAgICAgdmFyIHBvcHVwX2YzYmRmMmQ1ODAwYzRkNDFhN2I0YzZiYzMwYjNhNjY2ID0gTC5wb3B1cCh7Im1heFdpZHRoIjogIjEwMCUifSk7CgogICAgICAgIAogICAgICAgICAgICB2YXIgaHRtbF81ZmNjMDc5ODQ5ZDk0YzI0YWYwZWVkMTQxNDk5NjUwYSA9ICQoYDxkaXYgaWQ9Imh0bWxfNWZjYzA3OTg0OWQ5NGMyNGFmMGVlZDE0MTQ5OTY1MGEiIHN0eWxlPSJ3aWR0aDogMTAwLjAlOyBoZWlnaHQ6IDEwMC4wJTsiPkxhdnJhcyBkbyBTdWw8L2Rpdj5gKVswXTsKICAgICAgICAgICAgcG9wdXBfZjNiZGYyZDU4MDBjNGQ0MWE3YjRjNmJjMzBiM2E2NjYuc2V0Q29udGVudChodG1sXzVmY2MwNzk4NDlkOTRjMjRhZjBlZWQxNDE0OTk2NTBhKTsKICAgICAgICAKCiAgICAgICAgbWFya2VyXzA1MWFmNjJjMjY0ZjQzMDJhZTI2Y2Y2YTZiZGVhMGU5LmJpbmRQb3B1cChwb3B1cF9mM2JkZjJkNTgwMGM0ZDQxYTdiNGM2YmMzMGIzYTY2NikKICAgICAgICA7CgogICAgICAgIAogICAgCiAgICAKICAgICAgICAgICAgdmFyIG1hcmtlcl9lNjFlYTVlZjExZjQ0MjUzYWI5NjhkOGI2YmQ0MjAwYiA9IEwubWFya2VyKAogICAgICAgICAgICAgICAgWy0zMS43MjE2OTk5OTk5OSwgLTUzLjU4Mzc5OTk5OTk5XSwKICAgICAgICAgICAgICAgIHt9CiAgICAgICAgICAgICkuYWRkVG8obWFwX2RjNGU4ZGJhOTVlNDRiOWJhNWIwNjdlN2QwNDVjZGNhKTsKICAgICAgICAKICAgIAogICAgICAgICAgICB2YXIgaWNvbl85ZWI2NjAzNTgxN2M0MDljYmM5YzVhYmQ5NzAyNmQ2MyA9IEwuQXdlc29tZU1hcmtlcnMuaWNvbigKICAgICAgICAgICAgICAgIHsiZXh0cmFDbGFzc2VzIjogImZhLXJvdGF0ZS0wIiwgImljb24iOiAiaW5mby1zaWduIiwgImljb25Db2xvciI6ICJ3aGl0ZSIsICJtYXJrZXJDb2xvciI6ICJyZWQiLCAicHJlZml4IjogImdseXBoaWNvbiJ9CiAgICAgICAgICAgICk7CiAgICAgICAgICAgIG1hcmtlcl9lNjFlYTVlZjExZjQ0MjUzYWI5NjhkOGI2YmQ0MjAwYi5zZXRJY29uKGljb25fOWViNjYwMzU4MTdjNDA5Y2JjOWM1YWJkOTcwMjZkNjMpOwogICAgICAgIAogICAgCiAgICAgICAgdmFyIHBvcHVwXzhiNWY2OGM4Y2E3MTQ2Yjg4MjhlZmUzZjhmMGQ2NzU0ID0gTC5wb3B1cCh7Im1heFdpZHRoIjogIjEwMCUifSk7CgogICAgICAgIAogICAgICAgICAgICB2YXIgaHRtbF9jMmFhZTFmOTM4ODc0ZWY4YjdjYTJiYzM0NGNmODE3OCA9ICQoYDxkaXYgaWQ9Imh0bWxfYzJhYWUxZjkzODg3NGVmOGI3Y2EyYmMzNDRjZjgxNzgiIHN0eWxlPSJ3aWR0aDogMTAwLjAlOyBoZWlnaHQ6IDEwMC4wJTsiPlBlZHJhcyBBbHRhczwvZGl2PmApWzBdOwogICAgICAgICAgICBwb3B1cF84YjVmNjhjOGNhNzE0NmI4ODI4ZWZlM2Y4ZjBkNjc1NC5zZXRDb250ZW50KGh0bWxfYzJhYWUxZjkzODg3NGVmOGI3Y2EyYmMzNDRjZjgxNzgpOwogICAgICAgIAoKICAgICAgICBtYXJrZXJfZTYxZWE1ZWYxMWY0NDI1M2FiOTY4ZDhiNmJkNDIwMGIuYmluZFBvcHVwKHBvcHVwXzhiNWY2OGM4Y2E3MTQ2Yjg4MjhlZmUzZjhmMGQ2NzU0KQogICAgICAgIDsKCiAgICAgICAgCiAgICAKICAgIAogICAgICAgICAgICB2YXIgbWFya2VyX2NiYWNiYWE0MjQ0YTRkZGQ5M2FhMGMxNTBjMDIzZGQwID0gTC5tYXJrZXIoCiAgICAgICAgICAgICAgICBbLTMxLjU3OTQsIC01My4zNzk4XSwKICAgICAgICAgICAgICAgIHt9CiAgICAgICAgICAgICkuYWRkVG8obWFwX2RjNGU4ZGJhOTVlNDRiOWJhNWIwNjdlN2QwNDVjZGNhKTsKICAgICAgICAKICAgIAogICAgICAgICAgICB2YXIgaWNvbl82NDNlZTU4YzAwYjM0ZTQ2YTc2YzhjNWRkMTUzMWM3YyA9IEwuQXdlc29tZU1hcmtlcnMuaWNvbigKICAgICAgICAgICAgICAgIHsiZXh0cmFDbGFzc2VzIjogImZhLXJvdGF0ZS0wIiwgImljb24iOiAiaW5mby1zaWduIiwgImljb25Db2xvciI6ICJ3aGl0ZSIsICJtYXJrZXJDb2xvciI6ICJyZWQiLCAicHJlZml4IjogImdseXBoaWNvbiJ9CiAgICAgICAgICAgICk7CiAgICAgICAgICAgIG1hcmtlcl9jYmFjYmFhNDI0NGE0ZGRkOTNhYTBjMTUwYzAyM2RkMC5zZXRJY29uKGljb25fNjQzZWU1OGMwMGIzNGU0NmE3NmM4YzVkZDE1MzFjN2MpOwogICAgICAgIAogICAgCiAgICAgICAgdmFyIHBvcHVwX2QyZGQzMjlmYjdmMjQxODFiZGRjNzU0NGVlZjRmNmIxID0gTC5wb3B1cCh7Im1heFdpZHRoIjogIjEwMCUifSk7CgogICAgICAgIAogICAgICAgICAgICB2YXIgaHRtbF9kYWJhYzAwMDNkMDc0NjhiYmU5ZWU4ZWYwYzhmYWU3YyA9ICQoYDxkaXYgaWQ9Imh0bWxfZGFiYWMwMDAzZDA3NDY4YmJlOWVlOGVmMGM4ZmFlN2MiIHN0eWxlPSJ3aWR0aDogMTAwLjAlOyBoZWlnaHQ6IDEwMC4wJTsiPlBpbmhlaXJvIE1hY2hhZG88L2Rpdj5gKVswXTsKICAgICAgICAgICAgcG9wdXBfZDJkZDMyOWZiN2YyNDE4MWJkZGM3NTQ0ZWVmNGY2YjEuc2V0Q29udGVudChodG1sX2RhYmFjMDAwM2QwNzQ2OGJiZTllZThlZjBjOGZhZTdjKTsKICAgICAgICAKCiAgICAgICAgbWFya2VyX2NiYWNiYWE0MjQ0YTRkZGQ5M2FhMGMxNTBjMDIzZGQwLmJpbmRQb3B1cChwb3B1cF9kMmRkMzI5ZmI3ZjI0MTgxYmRkYzc1NDRlZWY0ZjZiMSkKICAgICAgICA7CgogICAgICAgIAogICAgCiAgICAKICAgICAgICAgICAgdmFyIG1hcmtlcl82ZWM4MDljZjgxMTc0Yjg0YTNkOGU1N2Y3ZDcyOGIwOSA9IEwubWFya2VyKAogICAgICAgICAgICAgICAgWy0yNy44MTYyOTk5OTk5OSwgLTUyLjQ0MTg5OTk5OTk4OTk5XSwKICAgICAgICAgICAgICAgIHt9CiAgICAgICAgICAgICkuYWRkVG8obWFwX2RjNGU4ZGJhOTVlNDRiOWJhNWIwNjdlN2QwNDVjZGNhKTsKICAgICAgICAKICAgIAogICAgICAgICAgICB2YXIgaWNvbl85M2UzZWQ0MmVhNGQ0OTlhYTUyYThlNzYwMzU4MzlhZiA9IEwuQXdlc29tZU1hcmtlcnMuaWNvbigKICAgICAgICAgICAgICAgIHsiZXh0cmFDbGFzc2VzIjogImZhLXJvdGF0ZS0wIiwgImljb24iOiAiaW5mby1zaWduIiwgImljb25Db2xvciI6ICJ3aGl0ZSIsICJtYXJrZXJDb2xvciI6ICJyZWQiLCAicHJlZml4IjogImdseXBoaWNvbiJ9CiAgICAgICAgICAgICk7CiAgICAgICAgICAgIG1hcmtlcl82ZWM4MDljZjgxMTc0Yjg0YTNkOGU1N2Y3ZDcyOGIwOS5zZXRJY29uKGljb25fOTNlM2VkNDJlYTRkNDk5YWE1MmE4ZTc2MDM1ODM5YWYpOwogICAgICAgIAogICAgCiAgICAgICAgdmFyIHBvcHVwXzQ1MmM3MjA1ZTZkNzRlMTI5ZjIyYWEyYTljOTk4YTU5ID0gTC5wb3B1cCh7Im1heFdpZHRoIjogIjEwMCUifSk7CgogICAgICAgIAogICAgICAgICAgICB2YXIgaHRtbF82Yzc1NWNiMjE5OTc0NTgyYTc0NTJhNTk0YjY5MmQxNCA9ICQoYDxkaXYgaWQ9Imh0bWxfNmM3NTVjYjIxOTk3NDU4MmE3NDUyYTU5NGI2OTJkMTQiIHN0eWxlPSJ3aWR0aDogMTAwLjAlOyBoZWlnaHQ6IDEwMC4wJTsiPlF1YXRybyBJcm3Do29zPC9kaXY+YClbMF07CiAgICAgICAgICAgIHBvcHVwXzQ1MmM3MjA1ZTZkNzRlMTI5ZjIyYWEyYTljOTk4YTU5LnNldENvbnRlbnQoaHRtbF82Yzc1NWNiMjE5OTc0NTgyYTc0NTJhNTk0YjY5MmQxNCk7CiAgICAgICAgCgogICAgICAgIG1hcmtlcl82ZWM4MDljZjgxMTc0Yjg0YTNkOGU1N2Y3ZDcyOGIwOS5iaW5kUG9wdXAocG9wdXBfNDUyYzcyMDVlNmQ3NGUxMjlmMjJhYTJhOWM5OThhNTkpCiAgICAgICAgOwoKICAgICAgICAKICAgIAogICAgCiAgICAgICAgICAgIHZhciBtYXJrZXJfNjM0YWEyMThkNmE1NGEzOThkNzQ3ODU3MjIwMGJjZDAgPSBMLm1hcmtlcigKICAgICAgICAgICAgICAgIFstMzMuNTI0OTk5OTk5OTksIC01My4zNzE2OTk5OTk5ODk5OV0sCiAgICAgICAgICAgICAgICB7fQogICAgICAgICAgICApLmFkZFRvKG1hcF9kYzRlOGRiYTk1ZTQ0YjliYTViMDY3ZTdkMDQ1Y2RjYSk7CiAgICAgICAgCiAgICAKICAgICAgICAgICAgdmFyIGljb25fNzlmZTk2MWM1M2RlNDJiZTlkMWU0N2JkZWQ4YjYyODQgPSBMLkF3ZXNvbWVNYXJrZXJzLmljb24oCiAgICAgICAgICAgICAgICB7ImV4dHJhQ2xhc3NlcyI6ICJmYS1yb3RhdGUtMCIsICJpY29uIjogImluZm8tc2lnbiIsICJpY29uQ29sb3IiOiAid2hpdGUiLCAibWFya2VyQ29sb3IiOiAicmVkIiwgInByZWZpeCI6ICJnbHlwaGljb24ifQogICAgICAgICAgICApOwogICAgICAgICAgICBtYXJrZXJfNjM0YWEyMThkNmE1NGEzOThkNzQ3ODU3MjIwMGJjZDAuc2V0SWNvbihpY29uXzc5ZmU5NjFjNTNkZTQyYmU5ZDFlNDdiZGVkOGI2Mjg0KTsKICAgICAgICAKICAgIAogICAgICAgIHZhciBwb3B1cF85NTA3MWY1NGFiM2Q0MDMxYmFmYjY3MjFhZWQ0MWRjNiA9IEwucG9wdXAoeyJtYXhXaWR0aCI6ICIxMDAlIn0pOwoKICAgICAgICAKICAgICAgICAgICAgdmFyIGh0bWxfYmIwNGEzMzc2NjFlNGU0M2JiNGNkOTFjNjQ2ZDk3ZTggPSAkKGA8ZGl2IGlkPSJodG1sX2JiMDRhMzM3NjYxZTRlNDNiYjRjZDkxYzY0NmQ5N2U4IiBzdHlsZT0id2lkdGg6IDEwMC4wJTsgaGVpZ2h0OiAxMDAuMCU7Ij5TYW50YSBWaXTDs3JpYSBkbyBQYWxtYXI8L2Rpdj5gKVswXTsKICAgICAgICAgICAgcG9wdXBfOTUwNzFmNTRhYjNkNDAzMWJhZmI2NzIxYWVkNDFkYzYuc2V0Q29udGVudChodG1sX2JiMDRhMzM3NjYxZTRlNDNiYjRjZDkxYzY0NmQ5N2U4KTsKICAgICAgICAKCiAgICAgICAgbWFya2VyXzYzNGFhMjE4ZDZhNTRhMzk4ZDc0Nzg1NzIyMDBiY2QwLmJpbmRQb3B1cChwb3B1cF85NTA3MWY1NGFiM2Q0MDMxYmFmYjY3MjFhZWQ0MWRjNikKICAgICAgICA7CgogICAgICAgIAogICAgCiAgICAKICAgICAgICAgICAgdmFyIG1hcmtlcl9mMzM2MGEzODUzZmQ0NWMxOTM1ZjdkMTg3NzY1YjQxYSA9IEwubWFya2VyKAogICAgICAgICAgICAgICAgWy0zMi4wMTUwOTk5OTk5OSwgLTUyLjAzMzA5OTk5OTk4OTk5XSwKICAgICAgICAgICAgICAgIHt9CiAgICAgICAgICAgICkuYWRkVG8obWFwX2RjNGU4ZGJhOTVlNDRiOWJhNWIwNjdlN2QwNDVjZGNhKTsKICAgICAgICAKICAgIAogICAgICAgICAgICB2YXIgaWNvbl9kY2ZiM2UxZThiOTI0ZDhjOTNjMGMwOGM4YjE1ZjhkZSA9IEwuQXdlc29tZU1hcmtlcnMuaWNvbigKICAgICAgICAgICAgICAgIHsiZXh0cmFDbGFzc2VzIjogImZhLXJvdGF0ZS0wIiwgImljb24iOiAiaW5mby1zaWduIiwgImljb25Db2xvciI6ICJ3aGl0ZSIsICJtYXJrZXJDb2xvciI6ICJyZWQiLCAicHJlZml4IjogImdseXBoaWNvbiJ9CiAgICAgICAgICAgICk7CiAgICAgICAgICAgIG1hcmtlcl9mMzM2MGEzODUzZmQ0NWMxOTM1ZjdkMTg3NzY1YjQxYS5zZXRJY29uKGljb25fZGNmYjNlMWU4YjkyNGQ4YzkzYzBjMDhjOGIxNWY4ZGUpOwogICAgICAgIAogICAgCiAgICAgICAgdmFyIHBvcHVwXzZiNjE0NDFkMjJmNjRlNzQ5ZmU1NzE3MjU0MWU2OGU5ID0gTC5wb3B1cCh7Im1heFdpZHRoIjogIjEwMCUifSk7CgogICAgICAgIAogICAgICAgICAgICB2YXIgaHRtbF82OWExOTRjYmNhZmE0OGY2YTA0ODc0ZmFkZWNjNjg4MSA9ICQoYDxkaXYgaWQ9Imh0bWxfNjlhMTk0Y2JjYWZhNDhmNmEwNDg3NGZhZGVjYzY4ODEiIHN0eWxlPSJ3aWR0aDogMTAwLjAlOyBoZWlnaHQ6IDEwMC4wJTsiPlPDo28gSm9zw6kgZG8gTm9ydGU8L2Rpdj5gKVswXTsKICAgICAgICAgICAgcG9wdXBfNmI2MTQ0MWQyMmY2NGU3NDlmZTU3MTcyNTQxZTY4ZTkuc2V0Q29udGVudChodG1sXzY5YTE5NGNiY2FmYTQ4ZjZhMDQ4NzRmYWRlY2M2ODgxKTsKICAgICAgICAKCiAgICAgICAgbWFya2VyX2YzMzYwYTM4NTNmZDQ1YzE5MzVmN2QxODc3NjViNDFhLmJpbmRQb3B1cChwb3B1cF82YjYxNDQxZDIyZjY0ZTc0OWZlNTcxNzI1NDFlNjhlOSkKICAgICAgICA7CgogICAgICAgIAogICAgCiAgICAKICAgICAgICAgICAgdmFyIG1hcmtlcl84MzUwMDg4YzEwYTQ0ODdmYjMyY2YxYzcyMzVjYjdlMyA9IEwubWFya2VyKAogICAgICAgICAgICAgICAgWy0yNy43NzMyMTk5OTk5OSwgLTUzLjI1MDQ3XSwKICAgICAgICAgICAgICAgIHt9CiAgICAgICAgICAgICkuYWRkVG8obWFwX2RjNGU4ZGJhOTVlNDRiOWJhNWIwNjdlN2QwNDVjZGNhKTsKICAgICAgICAKICAgIAogICAgICAgICAgICB2YXIgaWNvbl9jYTAxMDkwNzE4NmI0MGI2YWM0Mzc1MGY5OWMwOGM4ZSA9IEwuQXdlc29tZU1hcmtlcnMuaWNvbigKICAgICAgICAgICAgICAgIHsiZXh0cmFDbGFzc2VzIjogImZhLXJvdGF0ZS0wIiwgImljb24iOiAiaW5mby1zaWduIiwgImljb25Db2xvciI6ICJ3aGl0ZSIsICJtYXJrZXJDb2xvciI6ICJyZWQiLCAicHJlZml4IjogImdseXBoaWNvbiJ9CiAgICAgICAgICAgICk7CiAgICAgICAgICAgIG1hcmtlcl84MzUwMDg4YzEwYTQ0ODdmYjMyY2YxYzcyMzVjYjdlMy5zZXRJY29uKGljb25fY2EwMTA5MDcxODZiNDBiNmFjNDM3NTBmOTljMDhjOGUpOwogICAgICAgIAogICAgCiAgICAgICAgdmFyIHBvcHVwX2U1M2I5YTVmMGNiZTQxOTU4ZjMzZDAzNDI2NGQyMjdlID0gTC5wb3B1cCh7Im1heFdpZHRoIjogIjEwMCUifSk7CgogICAgICAgIAogICAgICAgICAgICB2YXIgaHRtbF8wMWU5MGU2NDFlZTM0YjZhYWU0OGI3NGRlOTE0MTA2YSA9ICQoYDxkaXYgaWQ9Imh0bWxfMDFlOTBlNjQxZWUzNGI2YWFlNDhiNzRkZTkxNDEwNmEiIHN0eWxlPSJ3aWR0aDogMTAwLjAlOyBoZWlnaHQ6IDEwMC4wJTsiPlPDo28gUGVkcm8gZGFzIE1pc3PDtWVzPC9kaXY+YClbMF07CiAgICAgICAgICAgIHBvcHVwX2U1M2I5YTVmMGNiZTQxOTU4ZjMzZDAzNDI2NGQyMjdlLnNldENvbnRlbnQoaHRtbF8wMWU5MGU2NDFlZTM0YjZhYWU0OGI3NGRlOTE0MTA2YSk7CiAgICAgICAgCgogICAgICAgIG1hcmtlcl84MzUwMDg4YzEwYTQ0ODdmYjMyY2YxYzcyMzVjYjdlMy5iaW5kUG9wdXAocG9wdXBfZTUzYjlhNWYwY2JlNDE5NThmMzNkMDM0MjY0ZDIyN2UpCiAgICAgICAgOwoKICAgICAgICAKICAgIAogICAgCiAgICAgICAgICAgIHZhciBtYXJrZXJfZmQ3N2RhNjE5ODgxNDA3ZWEzYzRhYWQ2MTFmNGEyOTQgPSBMLm1hcmtlcigKICAgICAgICAgICAgICAgIFstMjcuNzkwNiwgLTUzLjkzNjc5OTk5OTk4OTk5NF0sCiAgICAgICAgICAgICAgICB7fQogICAgICAgICAgICApLmFkZFRvKG1hcF9kYzRlOGRiYTk1ZTQ0YjliYTViMDY3ZTdkMDQ1Y2RjYSk7CiAgICAgICAgCiAgICAKICAgICAgICAgICAgdmFyIGljb25fOTQ0YWM0MzA1NDEwNDhhOWFhOWI4ODIzNjYxYmNlN2YgPSBMLkF3ZXNvbWVNYXJrZXJzLmljb24oCiAgICAgICAgICAgICAgICB7ImV4dHJhQ2xhc3NlcyI6ICJmYS1yb3RhdGUtMCIsICJpY29uIjogImluZm8tc2lnbiIsICJpY29uQ29sb3IiOiAid2hpdGUiLCAibWFya2VyQ29sb3IiOiAicmVkIiwgInByZWZpeCI6ICJnbHlwaGljb24ifQogICAgICAgICAgICApOwogICAgICAgICAgICBtYXJrZXJfZmQ3N2RhNjE5ODgxNDA3ZWEzYzRhYWQ2MTFmNGEyOTQuc2V0SWNvbihpY29uXzk0NGFjNDMwNTQxMDQ4YTlhYTliODgyMzY2MWJjZTdmKTsKICAgICAgICAKICAgIAogICAgICAgIHZhciBwb3B1cF8xYjY1OGY0NjMzYzc0MjNmYTQ5Mzc3N2MwNjNjNDk1NCA9IEwucG9wdXAoeyJtYXhXaWR0aCI6ICIxMDAlIn0pOwoKICAgICAgICAKICAgICAgICAgICAgdmFyIGh0bWxfYjNiYWQ5MGFlYTM4NGQwYzk1NDQ0NGVhOWUwZmVjODQgPSAkKGA8ZGl2IGlkPSJodG1sX2IzYmFkOTBhZWEzODRkMGM5NTQ0NDRlYTllMGZlYzg0IiBzdHlsZT0id2lkdGg6IDEwMC4wJTsgaGVpZ2h0OiAxMDAuMCU7Ij5Tw6NvIFZhbMOpcmlvIGRvIFN1bDwvZGl2PmApWzBdOwogICAgICAgICAgICBwb3B1cF8xYjY1OGY0NjMzYzc0MjNmYTQ5Mzc3N2MwNjNjNDk1NC5zZXRDb250ZW50KGh0bWxfYjNiYWQ5MGFlYTM4NGQwYzk1NDQ0NGVhOWUwZmVjODQpOwogICAgICAgIAoKICAgICAgICBtYXJrZXJfZmQ3N2RhNjE5ODgxNDA3ZWEzYzRhYWQ2MTFmNGEyOTQuYmluZFBvcHVwKHBvcHVwXzFiNjU4ZjQ2MzNjNzQyM2ZhNDkzNzc3YzA2M2M0OTU0KQogICAgICAgIDsKCiAgICAgICAgCiAgICAKPC9zY3JpcHQ+\" style=\"position:absolute;width:100%;height:100%;left:0;top:0;border:none !important;\" allowfullscreen webkitallowfullscreen mozallowfullscreen></iframe></div></div>"
      ],
      "text/plain": [
       "<folium.folium.Map at 0x1283870>"
      ]
     },
     "execution_count": 26,
     "metadata": {},
     "output_type": "execute_result"
    }
   ],
   "source": [
    "# bug plotando green e red sem pedir\n",
    "\n",
    "for indice,municipio in df[df['tx_distorção']>=45].iterrows():\n",
    "        folium.Marker(\n",
    "            location=[municipio['latitude'],municipio['longitude']],\n",
    "            popup=municipio['Município'],\n",
    "            icon=folium.map.Icon(color='red')\n",
    "        ).add_to(rs)\n",
    "                            \n",
    "rs\n"
   ]
  },
  {
   "cell_type": "code",
   "execution_count": 29,
   "metadata": {},
   "outputs": [
    {
     "data": {
      "text/plain": [
       "325    32.3\n",
       "Name: tx_distorção, dtype: float64"
      ]
     },
     "execution_count": 29,
     "metadata": {},
     "output_type": "execute_result"
    }
   ],
   "source": [
    "#Qual é a tx de distorção de PA\n",
    "\n",
    "df[df['Município'] == 'Porto Alegre']['tx_distorção']"
   ]
  },
  {
   "cell_type": "code",
   "execution_count": null,
   "metadata": {},
   "outputs": [],
   "source": []
  },
  {
   "cell_type": "code",
   "execution_count": null,
   "metadata": {},
   "outputs": [],
   "source": []
  },
  {
   "cell_type": "code",
   "execution_count": null,
   "metadata": {},
   "outputs": [],
   "source": []
  },
  {
   "cell_type": "code",
   "execution_count": null,
   "metadata": {},
   "outputs": [],
   "source": []
  },
  {
   "cell_type": "code",
   "execution_count": null,
   "metadata": {},
   "outputs": [],
   "source": []
  },
  {
   "cell_type": "code",
   "execution_count": null,
   "metadata": {},
   "outputs": [],
   "source": []
  },
  {
   "cell_type": "code",
   "execution_count": null,
   "metadata": {},
   "outputs": [],
   "source": []
  },
  {
   "cell_type": "code",
   "execution_count": null,
   "metadata": {},
   "outputs": [],
   "source": []
  },
  {
   "cell_type": "code",
   "execution_count": null,
   "metadata": {},
   "outputs": [],
   "source": []
  },
  {
   "cell_type": "code",
   "execution_count": null,
   "metadata": {},
   "outputs": [],
   "source": []
  },
  {
   "cell_type": "code",
   "execution_count": null,
   "metadata": {},
   "outputs": [],
   "source": []
  },
  {
   "cell_type": "code",
   "execution_count": null,
   "metadata": {},
   "outputs": [],
   "source": []
  },
  {
   "cell_type": "code",
   "execution_count": null,
   "metadata": {},
   "outputs": [],
   "source": []
  },
  {
   "cell_type": "code",
   "execution_count": null,
   "metadata": {},
   "outputs": [],
   "source": []
  },
  {
   "cell_type": "code",
   "execution_count": null,
   "metadata": {},
   "outputs": [],
   "source": []
  },
  {
   "cell_type": "code",
   "execution_count": null,
   "metadata": {},
   "outputs": [],
   "source": []
  },
  {
   "cell_type": "code",
   "execution_count": null,
   "metadata": {},
   "outputs": [],
   "source": []
  }
 ],
 "metadata": {
  "kernelspec": {
   "display_name": "Python 3",
   "language": "python",
   "name": "python3"
  },
  "language_info": {
   "codemirror_mode": {
    "name": "ipython",
    "version": 3
   },
   "file_extension": ".py",
   "mimetype": "text/x-python",
   "name": "python",
   "nbconvert_exporter": "python",
   "pygments_lexer": "ipython3",
   "version": "3.7.4"
  }
 },
 "nbformat": 4,
 "nbformat_minor": 2
}
